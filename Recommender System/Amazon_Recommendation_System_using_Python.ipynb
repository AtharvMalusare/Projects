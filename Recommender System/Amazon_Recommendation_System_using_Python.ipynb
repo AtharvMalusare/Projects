{
  "nbformat": 4,
  "nbformat_minor": 0,
  "metadata": {
    "colab": {
      "name": "Amazon Recommendation System using Python",
      "provenance": [],
      "collapsed_sections": []
    },
    "kernelspec": {
      "name": "python3",
      "display_name": "Python 3"
    },
    "language_info": {
      "name": "python"
    }
  },
  "cells": [
    {
      "cell_type": "markdown",
      "metadata": {
        "id": "7Mr86cuO-Fwz"
      },
      "source": [
        "# **Introduction**"
      ]
    },
    {
      "cell_type": "markdown",
      "metadata": {
        "id": "5ibm6OwR-Zcf"
      },
      "source": [
        "Recommendation Systems are one of the widely used applications of Data Science in most companies based on products and online services. Amazon is a great example of such companies. Being an online shopping website Amazon needs to generate personalised recommendations to provide a better user experience. In this article, I will take you through how to create an Amazon Recommendation System using Python."
      ]
    },
    {
      "cell_type": "markdown",
      "metadata": {
        "id": "p33lB-ne-l7m"
      },
      "source": [
        "The Recommendation System of Amazon follows the principle of generating product based recommendations which means measuring the similarities between two products and then recommend the most similar products to each user. The methods of measuring similarities between two products have always been a major focus of researchers.\n",
        "\n",
        "But when it comes to a website like Amazon, it needs to add more criteria to recommend products to the users such as the quality of the product. A good quality product will always have a good collection of reviews so we can use both the similarity score and product reviews to generate recommendations. In the section below, I will take you through how to create an Amazon Recommendation System using Python."
      ]
    },
    {
      "cell_type": "markdown",
      "metadata": {
        "id": "DqpDmKkX-p43"
      },
      "source": [
        "# **Amazon Recommendation System using Python**"
      ]
    },
    {
      "cell_type": "markdown",
      "metadata": {
        "id": "4n0zcKQ7-yCo"
      },
      "source": [
        "I will try to use the fewer Python libraries I can for creating this recommendation system. To work with data I will be using only pandas and NumPy library in Python. So let’s import the data and see how to create an Amazon Recommendation System using Python:"
      ]
    },
    {
      "cell_type": "markdown",
      "metadata": {
        "id": "H6yaBaPh_mum"
      },
      "source": [
        "# **Data Loading**\n"
      ]
    },
    {
      "cell_type": "code",
      "metadata": {
        "colab": {
          "base_uri": "https://localhost:8080/"
        },
        "id": "yMk_rzke6Bb6",
        "outputId": "b51fd090-925d-479f-dc14-6859a6235378"
      },
      "source": [
        "from google.colab import drive\n",
        "drive.mount('/content/drive')"
      ],
      "execution_count": 1,
      "outputs": [
        {
          "output_type": "stream",
          "text": [
            "Mounted at /content/drive\n"
          ],
          "name": "stdout"
        }
      ]
    },
    {
      "cell_type": "code",
      "metadata": {
        "id": "TF2NlY-5_3zm"
      },
      "source": [
        "import pandas as pd\n",
        "import numpy as np\n",
        "data = pd.read_csv(\"/content/drive/MyDrive/Datasets/ratings_Electronics.csv\")"
      ],
      "execution_count": 2,
      "outputs": []
    },
    {
      "cell_type": "code",
      "metadata": {
        "id": "0DM0hCqpCyuh"
      },
      "source": [
        "print(data.head())"
      ],
      "execution_count": null,
      "outputs": []
    },
    {
      "cell_type": "markdown",
      "metadata": {
        "id": "3NY1aQF4C4Mi"
      },
      "source": [
        "The dataset that I am using here does not have columns names, so let’s give the most appropriate names to these columns:"
      ]
    },
    {
      "cell_type": "code",
      "metadata": {
        "id": "v15uUPXgC-YR"
      },
      "source": [
        "data.columns = ['user_id', 'product_id','ratings','timestamp']"
      ],
      "execution_count": 4,
      "outputs": []
    },
    {
      "cell_type": "markdown",
      "metadata": {
        "id": "izHW3nhmDKk5"
      },
      "source": [
        "This dataset is very large so I will select a sample:\n",
        "\n"
      ]
    },
    {
      "cell_type": "code",
      "metadata": {
        "id": "yhe1YLMpDQoY"
      },
      "source": [
        "df = data[:int(len(data) * .1)]"
      ],
      "execution_count": 6,
      "outputs": []
    },
    {
      "cell_type": "markdown",
      "metadata": {
        "id": "VpFmvGtYDUqY"
      },
      "source": [
        "Now let’s prepare the dataset for creating a recommendation system:\n",
        "\n"
      ]
    },
    {
      "cell_type": "code",
      "metadata": {
        "id": "ZvUUcJCbDWQg"
      },
      "source": [
        "counts = df['user_id'].value_counts()\n",
        "data = df[df['user_id'].isin(counts[counts >= 50].index)]\n",
        "data.groupby('product_id')['ratings'].mean().sort_values(ascending=False) \n",
        "final_ratings = data.pivot(index = 'user_id', columns ='product_id', values = 'ratings').fillna(0)\n",
        "\n",
        "num_of_ratings = np.count_nonzero(final_ratings)\n",
        "possible_ratings = final_ratings.shape[0] * final_ratings.shape[1]\n",
        "density = (num_of_ratings/possible_ratings)\n",
        "density *= 100\n",
        "final_ratings_T = final_ratings.transpose()\n",
        "\n",
        "grouped = data.groupby('product_id').agg({'user_id': 'count'}).reset_index()\n",
        "grouped.rename(columns = {'user_id': 'score'},inplace=True)\n",
        "training_data = grouped.sort_values(['score', 'product_id'], ascending = [0,1]) \n",
        "training_data['Rank'] = training_data['score'].rank(ascending=0, method='first') \n",
        "recommendations = training_data.head()"
      ],
      "execution_count": 7,
      "outputs": []
    },
    {
      "cell_type": "markdown",
      "metadata": {
        "id": "HeSHff6XDtyw"
      },
      "source": [
        "Now I will write a Python function to generate recommendations based on the score of the product reviews:"
      ]
    },
    {
      "cell_type": "code",
      "metadata": {
        "colab": {
          "base_uri": "https://localhost:8080/"
        },
        "id": "7BHlaWZoDvah",
        "outputId": "c5815cf6-c879-45d3-ca14-ccdd4d0f8109"
      },
      "source": [
        "def recommend(id):     \n",
        "    recommend_products = recommendations \n",
        "    recommend_products['user_id'] = id \n",
        "    column = recommend_products.columns.tolist() \n",
        "    column = column[-1:] + column[:-1] \n",
        "    recommend_products = recommend_products[column] \n",
        "    return recommend_products \n",
        "\n",
        "print(recommend(11))"
      ],
      "execution_count": 8,
      "outputs": [
        {
          "output_type": "stream",
          "text": [
            "      user_id  product_id  score  Rank\n",
            "113        11  B00004SB92      6   1.0\n",
            "1099       11  B00008OE6I      5   2.0\n",
            "368        11  B00005AW1H      4   3.0\n",
            "612        11  B0000645C9      4   4.0\n",
            "976        11  B00007KDVI      4   5.0\n"
          ],
          "name": "stdout"
        },
        {
          "output_type": "stream",
          "text": [
            "/usr/local/lib/python3.7/dist-packages/ipykernel_launcher.py:3: SettingWithCopyWarning: \n",
            "A value is trying to be set on a copy of a slice from a DataFrame.\n",
            "Try using .loc[row_indexer,col_indexer] = value instead\n",
            "\n",
            "See the caveats in the documentation: https://pandas.pydata.org/pandas-docs/stable/user_guide/indexing.html#returning-a-view-versus-a-copy\n",
            "  This is separate from the ipykernel package so we can avoid doing imports until\n"
          ],
          "name": "stderr"
        }
      ]
    },
    {
      "cell_type": "markdown",
      "metadata": {
        "id": "Vjcs1eUuEDto"
      },
      "source": [
        "This is how we can create an Amazon Recommender System using Python. This dataset does not have names of products in it, it only had product id so the score of the product reviews becomes the most important feature for such kinds of datasets. I hope you like this article on how to create an Amazon Recommender System using Python. Feel free to ask your valuable questions in the comments section below"
      ]
    },
    {
      "cell_type": "markdown",
      "metadata": {
        "id": "YyqdPTfP7MSK"
      },
      "source": [
        "# **References**\n"
      ]
    },
    {
      "cell_type": "markdown",
      "metadata": {
        "id": "o-sR7X7X7Zxi"
      },
      "source": [
        "[Amazon Recommendation System using Python](https://thecleverprogrammer.com/2021/03/23/amazon-recommendation-system-using-python/)"
      ]
    },
    {
      "cell_type": "markdown",
      "metadata": {
        "id": "vwdIvrmh7lJq"
      },
      "source": [
        "[215+ Machine Learning Projects Solved and Explained](https://medium.com/coders-camp/215-machine-learning-projects-solved-and-explained-7bd6fd478897)"
      ]
    }
  ]
}