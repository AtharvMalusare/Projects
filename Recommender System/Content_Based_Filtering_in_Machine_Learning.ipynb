{
  "nbformat": 4,
  "nbformat_minor": 0,
  "metadata": {
    "colab": {
      "name": "Content-Based Filtering in Machine Learning.ipynb",
      "provenance": []
    },
    "kernelspec": {
      "name": "python3",
      "display_name": "Python 3"
    },
    "language_info": {
      "name": "python"
    },
    "accelerator": "GPU"
  },
  "cells": [
    {
      "cell_type": "markdown",
      "metadata": {
        "id": "sjvNCvCVT9Dn"
      },
      "source": [
        "# **Introduction** "
      ]
    },
    {
      "cell_type": "markdown",
      "metadata": {
        "id": "RoAWEMVeUCaY"
      },
      "source": [
        "Most recommendation systems use **content-based filtering and collaborative filtering** to show recommendations to the user to provide a better user experience. **Content-based filtering** generates recommendations based on a user’s behaviour. In this article, I will walk you through what content-based filtering is in machine learning and how to implement it using Python."
      ]
    },
    {
      "cell_type": "markdown",
      "metadata": {
        "id": "3VVu79ZgUYr0"
      },
      "source": [
        "A recommendation system is used to generate personalized recommendations by understanding a user’s preferences using data such as user history, time of viewing or reading etc. There are many applications based on recommendation systems. Most of the categories of these apps are:\n",
        "\n",
        "- Online Shopping (Amazon, Zomato, etc.)\n",
        "- Audio (Songs, Audiobooks, Podcast, etc.)\n",
        "- Video Recommendations (YouTube, Netflix, Amazon Prime, etc.)"
      ]
    },
    {
      "cell_type": "markdown",
      "metadata": {
        "id": "smtTBIpeUnOj"
      },
      "source": [
        "So there are two types of recommendation systems:\n",
        "\n",
        "- Collaborative Filtering\n",
        "- Content-Based Filtering"
      ]
    },
    {
      "cell_type": "markdown",
      "metadata": {
        "id": "dWFgl9-1VL14"
      },
      "source": [
        "Collaborative filtering uses the behaviour of other users who have similar interests like you and based on the activities of those users, it shows you perfect recommendations. A recommendation system based on the content-based method will show you recommendations based on your behaviour. In the section below, I’ll walk you through how content-based filtering in machine learning works in detail, and then we’ll see how to implement it using Python."
      ]
    },
    {
      "cell_type": "markdown",
      "metadata": {
        "id": "PE5K3A9BVb9X"
      },
      "source": [
        "A recommendation system based on content-based filtering provides recommendations to the user by analyzing the description of the content that has been rated by the user. In this method, the algorithm is trained to understand the context of the content and find similarities in other content to recommend the same class of content to a particular user."
      ]
    },
    {
      "cell_type": "markdown",
      "metadata": {
        "id": "AX1y-WlbVs88"
      },
      "source": [
        "Let’s understand the process of content-based filtering by looking at all the steps that are involved in this method for generating recommendations for the user:\n",
        "\n",
        " - It begins by identifying the keywords to understand the context of the content. In this step, it avoids unnecessary words such as stop words.\n",
        "- Then it finds the same kind of context in other content to find the similarities. To determine the similarities between two or more contents, the content-based method uses cosine similarities.\n",
        "- It finds similarities by analyzing the correlation between two or more users.\n",
        "- Then finally it generates recommendations by calculating the weighted average of all user ratings for active users.\n",
        "\n",
        "Hope you now understand how content-based filtering works. Now in the section below, I will walk you through how to implement it using the Python programming language."
      ]
    },
    {
      "cell_type": "markdown",
      "metadata": {
        "id": "whNLGDufWRo7"
      },
      "source": [
        "I hope till now you have understood what are recommendation systems and how content-based method is used to generate recommendations for a user. Now let’s see how to implement content-based method with Python. For this task, I will be using the dataset provided by MovieLens to create a movie recommendation system using content-based filtering with Python.\n",
        "\n",
        "Let’s start his task by importing the necessary Python libraries and the dataset:"
      ]
    },
    {
      "cell_type": "code",
      "metadata": {
        "colab": {
          "base_uri": "https://localhost:8080/"
        },
        "id": "xplkUI3eTvRl",
        "outputId": "a63d505a-606e-40b7-e76a-64a17251fadb"
      },
      "source": [
        "from google.colab import drive\n",
        "drive.mount('/content/drive')"
      ],
      "execution_count": 2,
      "outputs": [
        {
          "output_type": "stream",
          "text": [
            "Mounted at /content/drive\n"
          ],
          "name": "stdout"
        }
      ]
    },
    {
      "cell_type": "code",
      "metadata": {
        "colab": {
          "base_uri": "https://localhost:8080/"
        },
        "id": "9KJAMYqDYAd0",
        "outputId": "91c04533-25c6-43bc-83a8-3c69c1b3122b"
      },
      "source": [
        "import numpy as np\n",
        "import pandas as pd\n",
        "from sklearn.metrics.pairwise import cosine_similarity\n",
        "from sklearn.metrics import mean_squared_error\n",
        "from sklearn.model_selection import train_test_split\n",
        "from sklearn.feature_extraction.text import TfidfVectorizer\n",
        "from sklearn.metrics.pairwise import linear_kernel\n",
        "movies = pd.read_csv('/content/drive/MyDrive/Datasets/Movie Recommendation/movies_metadata.csv')\n",
        "print(movies.head())"
      ],
      "execution_count": 1,
      "outputs": [
        {
          "output_type": "stream",
          "text": [
            "   adult  ... vote_count\n",
            "0  False  ...     5415.0\n",
            "1  False  ...     2413.0\n",
            "2  False  ...       92.0\n",
            "3  False  ...       34.0\n",
            "4  False  ...      173.0\n",
            "\n",
            "[5 rows x 24 columns]\n"
          ],
          "name": "stdout"
        },
        {
          "output_type": "stream",
          "text": [
            "/usr/local/lib/python3.7/dist-packages/IPython/core/interactiveshell.py:2718: DtypeWarning: Columns (10) have mixed types.Specify dtype option on import or set low_memory=False.\n",
            "  interactivity=interactivity, compiler=compiler, result=result)\n"
          ],
          "name": "stderr"
        }
      ]
    },
    {
      "cell_type": "markdown",
      "metadata": {
        "id": "ehJD07xcZsCp"
      },
      "source": [
        "Now, I’m going to implement all of the steps I talked about in the content-based filtering process mentioned above using Python. Here I will prepare the data first, then select the columns that we will use to understand the context of the content, then we will remove the stop words and finally, we will find the cosine similarities to generate recommendations:"
      ]
    },
    {
      "cell_type": "code",
      "metadata": {
        "id": "PFzgTfntZ5a-"
      },
      "source": [
        "from sklearn.feature_extraction.text import TfidfVectorizer\n",
        "tfidf = TfidfVectorizer(stop_words='english')\n",
        "movies['overview'] = movies['overview'].fillna('')\n",
        "overview_matrix = tfidf.fit_transform(movies['overview'])\n",
        "similarity_matrix = linear_kernel(overview_matrix,overview_matrix)\n",
        "mapping = pd.Series(movies.index,index = movies['title'])\n",
        "print(mapping)"
      ],
      "execution_count": null,
      "outputs": []
    },
    {
      "cell_type": "markdown",
      "metadata": {
        "id": "wZVcdeIQbHS-"
      },
      "source": [
        "Now let’s create a function and have a look at how the recommendation system is working:"
      ]
    },
    {
      "cell_type": "code",
      "metadata": {
        "id": "UWanitCBbM6j"
      },
      "source": [
        "def recommend_movies(movie_input):\n",
        "    movie_index = mapping[movie_input]\n",
        "    similarity_score = list(enumerate(similarity_matrix[movie_index]))\n",
        "    similarity_score = sorted(similarity_score, key=lambda x: x[1], reverse=True)\n",
        "    similarity_score = similarity_score[1:15]\n",
        "    movie_indices = [i[0] for i in similarity_score]\n",
        "    return (movies['title'].iloc[movie_indices])\n",
        "\n",
        "print(recommend_movies('Life Begins for Andy Hardy'))"
      ],
      "execution_count": null,
      "outputs": []
    },
    {
      "cell_type": "markdown",
      "metadata": {
        "id": "cr_bxqX0TwU5"
      },
      "source": [
        "# **References**"
      ]
    },
    {
      "cell_type": "markdown",
      "metadata": {
        "id": "L6H5qa_CT3X_"
      },
      "source": [
        "[Content-Based Filtering in Machine Learning\n",
        "](https://thecleverprogrammer.com/2021/02/10/content-based-filtering-in-machine-learning/)"
      ]
    }
  ]
}