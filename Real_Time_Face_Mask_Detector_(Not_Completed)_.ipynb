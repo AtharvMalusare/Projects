{
  "nbformat": 4,
  "nbformat_minor": 0,
  "metadata": {
    "colab": {
      "name": "Real-Time Face Mask Detector (Not Completed) .ipynb",
      "provenance": [],
      "authorship_tag": "ABX9TyO0YFKvFk/Mtu3lDFg361zU",
      "include_colab_link": true
    },
    "kernelspec": {
      "name": "python3",
      "display_name": "Python 3"
    }
  },
  "cells": [
    {
      "cell_type": "markdown",
      "metadata": {
        "id": "view-in-github",
        "colab_type": "text"
      },
      "source": [
        "<a href=\"https://colab.research.google.com/github/hussain0048/Projects-/blob/master/Real_Time_Face_Mask_Detector_(Not_Completed)_.ipynb\" target=\"_parent\"><img src=\"https://colab.research.google.com/assets/colab-badge.svg\" alt=\"Open In Colab\"/></a>"
      ]
    },
    {
      "cell_type": "markdown",
      "metadata": {
        "id": "Ghz5R8e3_09f",
        "colab_type": "text"
      },
      "source": [
        "#**1-Introducion**\n",
        "\n",
        "During pandemic COVID-19, WHO has made wearing masks compulsory to protect against this deadly virus. In this tutorial we will develop a machine learning project – Real-time Face Mask Detector with Python.\n",
        "\n",
        "We will build a real-time system to detect whether the person on the webcam is wearing a mask or not. We will train the face mask detector model using Keras and OpenCV"
      ]
    },
    {
      "cell_type": "code",
      "metadata": {
        "id": "KIqScL3BuF5Y",
        "colab_type": "code",
        "colab": {}
      },
      "source": [
        "from google.colab import drive\n",
        "drive.mount('/content/drive')"
      ],
      "execution_count": null,
      "outputs": []
    },
    {
      "cell_type": "code",
      "metadata": {
        "id": "GY4UiMiovb7b",
        "colab_type": "code",
        "colab": {}
      },
      "source": [
        "!unzip -uq \"/content/drive/My Drive/Datasets/Real time Mask Detection /train.zip\" -d \"/content/drive/My Drive/Datasets/Real time Mask Detection /train\"\n"
      ],
      "execution_count": 17,
      "outputs": []
    },
    {
      "cell_type": "code",
      "metadata": {
        "id": "qR0dhQjrvb6L",
        "colab_type": "code",
        "colab": {}
      },
      "source": [
        "!unzip -uq \"/content/drive/My Drive/Datasets/Real time Mask Detection /test.zip\" -d \"/content/drive/My Drive/Datasets/Real time Mask Detection /test\"\n"
      ],
      "execution_count": 18,
      "outputs": []
    },
    {
      "cell_type": "markdown",
      "metadata": {
        "id": "EfhBTSsBA9Z6",
        "colab_type": "text"
      },
      "source": [
        "#**2- Dataset**\n",
        "The dataset we are working on consists of 1376 images with 690 images containing images of people wearing masks and 686 images with people without masks."
      ]
    },
    {
      "cell_type": "markdown",
      "metadata": {
        "id": "6AQ-eKWUF2Hb",
        "colab_type": "text"
      },
      "source": [
        "#**2-Import libraries and modules**"
      ]
    },
    {
      "cell_type": "code",
      "metadata": {
        "id": "3OFPPWYxGCKB",
        "colab_type": "code",
        "colab": {}
      },
      "source": [
        "from keras.optimizers import RMSprop\n",
        "from keras.preprocessing.image import ImageDataGenerator\n",
        "import cv2\n",
        "from keras.models import Sequential\n",
        "from keras.layers import Conv2D, Input, ZeroPadding2D, BatchNormalization, Activation, MaxPooling2D, Flatten, Dense,Dropout\n",
        "from keras.models import Model, load_model\n",
        "from keras.callbacks import TensorBoard, ModelCheckpoint\n",
        "from sklearn.model_selection import train_test_split\n",
        "from sklearn.metrics import f1_score\n",
        "from sklearn.utils import shuffle\n",
        "import imutils\n",
        "import numpy as np"
      ],
      "execution_count": 20,
      "outputs": []
    },
    {
      "cell_type": "markdown",
      "metadata": {
        "id": "chN1TaDmGQKh",
        "colab_type": "text"
      },
      "source": [
        "#**3- Build the neural network**\n",
        "\n",
        "This convolution network consists of two pairs of Conv and MaxPool layers to extract features from the dataset. Which is then followed by a Flatten and Dropout layer to convert the data in 1D and ensure overfitting.\n",
        "\n",
        "And then two Dense layers for classification."
      ]
    },
    {
      "cell_type": "code",
      "metadata": {
        "id": "RUUbpIcMGZ94",
        "colab_type": "code",
        "colab": {}
      },
      "source": [
        "model = Sequential([\n",
        "    Conv2D(100, (3,3), activation='relu', input_shape=(150, 150, 3)),\n",
        "    MaxPooling2D(2,2),\n",
        "    \n",
        "    Conv2D(100, (3,3), activation='relu'),\n",
        "    MaxPooling2D(2,2),\n",
        "    \n",
        "    Flatten(),\n",
        "    Dropout(0.5),\n",
        "    Dense(50, activation='relu'),\n",
        "    Dense(2, activation='softmax')\n",
        "])"
      ],
      "execution_count": 23,
      "outputs": []
    },
    {
      "cell_type": "code",
      "metadata": {
        "id": "DAxX4mV9Gmqa",
        "colab_type": "code",
        "colab": {}
      },
      "source": [
        "model.compile(optimizer='adam', loss='binary_crossentropy', metrics=['acc'])"
      ],
      "execution_count": 24,
      "outputs": []
    },
    {
      "cell_type": "markdown",
      "metadata": {
        "id": "jBn7P92dG8jc",
        "colab_type": "text"
      },
      "source": [
        "##**4-Image Data Generation/Augmentation**"
      ]
    },
    {
      "cell_type": "code",
      "metadata": {
        "id": "2JjGqvMfHMo6",
        "colab_type": "code",
        "colab": {
          "base_uri": "https://localhost:8080/",
          "height": 51
        },
        "outputId": "ebf3267d-bf62-4d16-ea41-9357e5495286"
      },
      "source": [
        "TRAINING_DIR = \"/content/drive/My Drive/Datasets/Real time Mask Detection /train\"\n",
        "train_datagen = ImageDataGenerator(rescale=1.0/255,\n",
        "                                   rotation_range=40,\n",
        "                                   width_shift_range=0.2,\n",
        "                                   height_shift_range=0.2,\n",
        "                                   shear_range=0.2,\n",
        "                                   zoom_range=0.2,\n",
        "                                   horizontal_flip=True,\n",
        "                                   fill_mode='nearest')\n",
        "train_generator = train_datagen.flow_from_directory(TRAINING_DIR, \n",
        "                                                    batch_size=10, \n",
        "                                                    target_size=(150, 150))\n",
        "VALIDATION_DIR = \"/content/drive/My Drive/Datasets/Real time Mask Detection /test\"\n",
        "validation_datagen = ImageDataGenerator(rescale=1.0/255)\n",
        "validation_generator = validation_datagen.flow_from_directory(VALIDATION_DIR, \n",
        "                                                         batch_size=10, \n",
        "                                                         target_size=(150, 150))"
      ],
      "execution_count": 22,
      "outputs": [
        {
          "output_type": "stream",
          "text": [
            "Found 1315 images belonging to 1 classes.\n",
            "Found 194 images belonging to 1 classes.\n"
          ],
          "name": "stdout"
        }
      ]
    },
    {
      "cell_type": "markdown",
      "metadata": {
        "id": "22YEm0M_HWUw",
        "colab_type": "text"
      },
      "source": [
        "##5-**Initialize a callback checkpoint**\n",
        "Initialize a callback checkpoint to keep saving best model after each epoch while training:"
      ]
    },
    {
      "cell_type": "code",
      "metadata": {
        "id": "oswEGEf2Hhmi",
        "colab_type": "code",
        "colab": {}
      },
      "source": [
        "checkpoint = ModelCheckpoint('model2-{epoch:03d}.model',monitor='val_loss',verbose=0,save_best_only=True,mode='auto')"
      ],
      "execution_count": 25,
      "outputs": []
    },
    {
      "cell_type": "markdown",
      "metadata": {
        "id": "BSjZM6-WHunD",
        "colab_type": "text"
      },
      "source": [
        "## **6-Train the model**"
      ]
    },
    {
      "cell_type": "code",
      "metadata": {
        "id": "mHmmke5YH4Lp",
        "colab_type": "code",
        "colab": {
          "base_uri": "https://localhost:8080/"
        },
        "outputId": "2f1069e4-9fa2-4cba-952d-f97945eb87f3"
      },
      "source": [
        "history = model.fit_generator(train_generator,\n",
        "                              epochs=10,\n",
        "                              validation_data=validation_generator,\n",
        "                              callbacks=[checkpoint])"
      ],
      "execution_count": 26,
      "outputs": [
        {
          "output_type": "stream",
          "text": [
            "WARNING:tensorflow:From <ipython-input-26-6272b23e5a0b>:4: Model.fit_generator (from tensorflow.python.keras.engine.training) is deprecated and will be removed in a future version.\n",
            "Instructions for updating:\n",
            "Please use Model.fit, which supports generators.\n",
            "Epoch 1/10\n",
            "132/132 [==============================] - ETA: 0s - loss: 0.7929 - acc: 0.9772WARNING:tensorflow:From /usr/local/lib/python3.6/dist-packages/tensorflow/python/training/tracking/tracking.py:111: Model.state_updates (from tensorflow.python.keras.engine.training) is deprecated and will be removed in a future version.\n",
            "Instructions for updating:\n",
            "This property should not be used in TensorFlow 2.0, as updates are applied automatically.\n",
            "WARNING:tensorflow:From /usr/local/lib/python3.6/dist-packages/tensorflow/python/training/tracking/tracking.py:111: Layer.updates (from tensorflow.python.keras.engine.base_layer) is deprecated and will be removed in a future version.\n",
            "Instructions for updating:\n",
            "This property should not be used in TensorFlow 2.0, as updates are applied automatically.\n",
            "INFO:tensorflow:Assets written to: model2-001.model/assets\n",
            "132/132 [==============================] - 156s 1s/step - loss: 0.7929 - acc: 0.9772 - val_loss: 0.6931 - val_acc: 1.0000\n",
            "Epoch 2/10\n",
            "132/132 [==============================] - ETA: 0s - loss: 0.6931 - acc: 1.0000INFO:tensorflow:Assets written to: model2-002.model/assets\n",
            "132/132 [==============================] - 149s 1s/step - loss: 0.6931 - acc: 1.0000 - val_loss: 0.6931 - val_acc: 1.0000\n",
            "Epoch 3/10\n",
            "132/132 [==============================] - 149s 1s/step - loss: 0.6931 - acc: 1.0000 - val_loss: 0.6931 - val_acc: 1.0000\n",
            "Epoch 4/10\n",
            "132/132 [==============================] - 148s 1s/step - loss: 0.6931 - acc: 0.8251 - val_loss: 0.6931 - val_acc: 0.0000e+00\n",
            "Epoch 5/10\n",
            "132/132 [==============================] - 152s 1s/step - loss: 0.6931 - acc: 0.0760 - val_loss: 0.6931 - val_acc: 1.0000\n",
            "Epoch 6/10\n",
            "132/132 [==============================] - 147s 1s/step - loss: 0.6931 - acc: 1.0000 - val_loss: 0.6931 - val_acc: 1.0000\n",
            "Epoch 7/10\n",
            "132/132 [==============================] - 148s 1s/step - loss: 0.6931 - acc: 1.0000 - val_loss: 0.6931 - val_acc: 1.0000\n",
            "Epoch 8/10\n",
            "132/132 [==============================] - 148s 1s/step - loss: 0.6931 - acc: 1.0000 - val_loss: 0.6931 - val_acc: 1.0000\n",
            "Epoch 9/10\n",
            "132/132 [==============================] - 152s 1s/step - loss: 0.6931 - acc: 1.0000 - val_loss: 0.6931 - val_acc: 1.0000\n",
            "Epoch 10/10\n",
            "132/132 [==============================] - 148s 1s/step - loss: 0.6931 - acc: 1.0000 - val_loss: 0.6931 - val_acc: 1.0000\n"
          ],
          "name": "stdout"
        }
      ]
    },
    {
      "cell_type": "markdown",
      "metadata": {
        "id": "D6zNOlMNH81w",
        "colab_type": "text"
      },
      "source": [
        "#**7- Test the model** \n",
        "\n",
        "Now we will test the results of face mask detector model using OpenCV.\n",
        "\n",
        "Make a python file “test.py” and paste the below script."
      ]
    },
    {
      "cell_type": "code",
      "metadata": {
        "id": "fgo-zu8FILgi",
        "colab_type": "code",
        "colab": {}
      },
      "source": [
        "import cv2\n",
        "import numpy as np\n",
        "from keras.models import load_model\n",
        "model=load_model(\"./model-010.h5\")\n",
        "results={0:'without mask',1:'mask'}\n",
        "GR_dict={0:(0,0,255),1:(0,255,0)}\n",
        "rect_size = 4\n",
        "cap = cv2.VideoCapture(0) \n",
        "haarcascade = cv2.CascadeClassifier('/home/user_name/.local/lib/python3.6/site-packages/cv2/data/haarcascade_frontalface_default.xml')\n",
        "while True:\n",
        "    (rval, im) = cap.read()\n",
        "    im=cv2.flip(im,1,1) \n",
        "    \n",
        "    rerect_size = cv2.resize(im, (im.shape[1] // rect_size, im.shape[0] // rect_size))\n",
        "    faces = haarcascade.detectMultiScale(rerect_size)\n",
        "    for f in faces:\n",
        "        (x, y, w, h) = [v * rect_size for v in f] \n",
        "        \n",
        "        face_img = im[y:y+h, x:x+w]\n",
        "        rerect_sized=cv2.resize(face_img,(150,150))\n",
        "        normalized=rerect_sized/255.0\n",
        "        reshaped=np.reshape(normalized,(1,150,150,3))\n",
        "        reshaped = np.vstack([reshaped])\n",
        "        result=model.predict(reshaped)\n",
        "        \n",
        "        label=np.argmax(result,axis=1)[0]\n",
        "      \n",
        "        cv2.rectangle(im,(x,y),(x+w,y+h),GR_dict[label],2)\n",
        "        cv2.rectangle(im,(x,y-40),(x+w,y),GR_dict[label],-1)\n",
        "        cv2.putText(im, results[label], (x, y-10),cv2.FONT_HERSHEY_SIMPLEX,0.8,(255,255,255),2)\n",
        "    cv2.imshow('LIVE',   im)\n",
        "    key = cv2.waitKey(10)\n",
        "    \n",
        "    if key == 27: \n",
        "        break\n",
        "cap.release()\n",
        "cv2.destroyAllWindows()"
      ],
      "execution_count": null,
      "outputs": []
    },
    {
      "cell_type": "markdown",
      "metadata": {
        "id": "zGNQE8-Y_gDP",
        "colab_type": "text"
      },
      "source": [
        "# **References** \n",
        "[[1] Real-Time Face Mask Detector with Python](https://https://data-flair.training/blogs/face-mask-detection-with-python/)"
      ]
    }
  ]
}