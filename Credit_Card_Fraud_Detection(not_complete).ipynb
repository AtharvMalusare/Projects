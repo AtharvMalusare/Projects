{
  "nbformat": 4,
  "nbformat_minor": 0,
  "metadata": {
    "colab": {
      "name": "Credit Card Fraud Detection(not complete).ipynb",
      "provenance": [],
      "authorship_tag": "ABX9TyNuNaOp9ZiyNwYavT32VhC9",
      "include_colab_link": true
    },
    "kernelspec": {
      "name": "python3",
      "display_name": "Python 3"
    }
  },
  "cells": [
    {
      "cell_type": "markdown",
      "metadata": {
        "id": "view-in-github",
        "colab_type": "text"
      },
      "source": [
        "<a href=\"https://colab.research.google.com/github/hussain0048/Projects-/blob/master/Credit_Card_Fraud_Detection(not_complete).ipynb\" target=\"_parent\"><img src=\"https://colab.research.google.com/assets/colab-badge.svg\" alt=\"Open In Colab\"/></a>"
      ]
    },
    {
      "cell_type": "markdown",
      "metadata": {
        "id": "xwSTf-Rr4C7P",
        "colab_type": "text"
      },
      "source": [
        "# **1-Introduction**\n",
        "\n",
        "Fraud transactions or fraudulent activities are significant issues in many industries like banking, insurance, etc. Especially for the banking industry, credit card fraud detection is a pressing issue to resolve.\n",
        "\n",
        "These industries suffer too much due to fraudulent activities towards revenue growth and lose customer’s trust. So these companies need to find fraud transactions before it becomes a big problem for them.  \n",
        "\n",
        "Unlike the other machine learning problems, in credit card fraud detection the target class distribution is not equally distributed. It is popularly known as the class imbalance problem or unbalanced data issue."
      ]
    },
    {
      "cell_type": "markdown",
      "metadata": {
        "id": "zt8hBkep4fV1",
        "colab_type": "text"
      },
      "source": [
        "#**2-Why do we need to find fraud transactions?**\n",
        "\n",
        "For many companies, fraud detection is a big problem because they find these fraudulent activities after they experience high loss. \n",
        "\n",
        "Fraud activities happen in all  industries. We can't say only particular companies/industries suffer from these fraudulent activities or transactions. \n",
        "\n",
        "But when it comes to financial-related companies, this fraud transaction becomes more of an issue/problem.  So these companies want to detect fraud transactions before the fraud activities turn into significant damage to their company.\n",
        "\n",
        "In the current generation, with high-end technology, still, on every 100 credit card transactions, 13% are falling into the fraudulent activities reported by the creditcards website.\n",
        "\n",
        "A survey paper mentioned that in the year 1997, 63% of companies experienced one fraud in the past two years, and in another year 1999, 57% of companies experienced at least one fraud in the last one year. \n",
        "\n",
        "Here the point is not only fraud activities increase, but the way of doing scams also increases badly. \n",
        "\n",
        "Companies suffer from detecting fraud, and due to these fraudulent activities, many companies worldwide have lost billions of dollars yearly.\n",
        "\n",
        "And one more thing, for any company, customer's trust is more important to achieve or reach some position in the business marketplace. If a company cannot find these fraudulent activities, companies lose customer's trust; then, they will suffer from customer churn."
      ]
    },
    {
      "cell_type": "markdown",
      "metadata": {
        "id": "6fi7ViZW5NbW",
        "colab_type": "text"
      },
      "source": [
        "#**3-Fraud Detection Approaches**\n",
        "\n",
        "First, companies hire few people only for the detection of these kinds of activities or transactions. But here they must and should be experts in this field or domain, and also the team should have knowledge of how frauds occur in particular domains. This requires more resources, such as people's effort and time.\n",
        "\n",
        "Second, companies changed manual processes to rule-based solutions. But this one also fails most of the time to detect frauds. \n",
        "\n",
        "Because in the real world, the way of doing frauds is changing drastically day by day. These rule-based systems follow some rules and conditions. If a new fraud process is different from others, then these systems fail. It requires adding that new rule to code and execute. \n",
        "\n",
        "Now companies are trying to adopt Artificial Intelligence or machine learning algorithms to detect frauds. Machine learning algorithms performed very well for this type of problem. "
      ]
    },
    {
      "cell_type": "markdown",
      "metadata": {
        "id": "lA_s4yn65nfs",
        "colab_type": "text"
      },
      "source": [
        "#**4-What is Credit Card Fraud Detection?**\n",
        "\n",
        "In the above section, we discussed the need for identifying fraudulent activities. The credit card fraud classification problem is used to find fraud transactions or fraudulent activities before they become a major problem to credit card companies. \n",
        "\n",
        "It uses the combination of fraud and non-fraud transactions from the historical data with different people's credit card transaction data to estimate fraud or non-fraud on credit card transactions.\n",
        "\n",
        "In this article, we are using the popular credit card dataset. Let’s understand the data before we start building the fraud detection models."
      ]
    },
    {
      "cell_type": "markdown",
      "metadata": {
        "id": "iIvt0S5654v6",
        "colab_type": "text"
      },
      "source": [
        "#**5-Understanding of Credit Card Dataset**\n",
        "\n",
        "For this credit card fraud classification problem, we are using the dataset which was downloaded from the Kaggle platform. \n",
        "\n",
        "You can find and download the dataset from here.\n",
        "\n",
        "Before going to the model development part, we should have some knowledge about our dataset\n",
        "\n",
        "Such as \n",
        "\n",
        "- What is the size of the dataset?\n",
        "- How many features does the dataset have?\n",
        "- What are the target values?\n",
        "- How many samples under each target value? , etc.\n",
        "\n",
        "If we know some information about the dataset, then we can decide what we have to do?. \n",
        "\n",
        "What are the questions we discussed above, all  we can explore by using the python pandas library. \n",
        "\n",
        "Let's jump to the data exploration part to find answers to all questions we have."
      ]
    },
    {
      "cell_type": "code",
      "metadata": {
        "id": "N21ciYRb6wSa",
        "colab_type": "code",
        "colab": {
          "base_uri": "https://localhost:8080/",
          "height": 34
        },
        "outputId": "a50099dd-c0f7-43c0-cec0-3e47bb419da1"
      },
      "source": [
        "from google.colab import drive\n",
        "drive.mount('/content/drive')"
      ],
      "execution_count": 1,
      "outputs": [
        {
          "output_type": "stream",
          "text": [
            "Mounted at /content/drive\n"
          ],
          "name": "stdout"
        }
      ]
    },
    {
      "cell_type": "markdown",
      "metadata": {
        "id": "8uL3U6-r8KJw",
        "colab_type": "text"
      },
      "source": [
        "#**6-Data Explorations**\n",
        "First, we need to load the dataset. After downloading the dataset, extract the data and keep the file in the dataset under the project folder. \n",
        "\n",
        "We can quickly load it using pandas."
      ]
    },
    {
      "cell_type": "code",
      "metadata": {
        "id": "T3pg57-27NMH",
        "colab_type": "code",
        "colab": {}
      },
      "source": [
        "\"/content/drive/My Drive/Datasets/Credit Card Detection /creditcard.csv\""
      ],
      "execution_count": null,
      "outputs": []
    },
    {
      "cell_type": "code",
      "metadata": {
        "id": "SWxze98F8rSQ",
        "colab_type": "code",
        "colab": {}
      },
      "source": [
        "import pandas as pd\n",
        "# load dataset\n",
        "fraud_df = pd.read_csv(\"/content/drive/My Drive/Datasets/Credit Card Detection /creditcard.csv\")"
      ],
      "execution_count": null,
      "outputs": []
    },
    {
      "cell_type": "markdown",
      "metadata": {
        "id": "5NpLewGl9CKY",
        "colab_type": "text"
      },
      "source": [
        "Our dataset is a CSV(Comma Separated Values) file. We can use the read_csv function from pandas to read the file. \n",
        "\n",
        "Ok, now find the answers for our above dataset related questions."
      ]
    },
    {
      "cell_type": "code",
      "metadata": {
        "id": "536S4RFq9D4B",
        "colab_type": "code",
        "colab": {}
      },
      "source": [
        "print(f\"Dataset Shape :- \\n {fraud_df.shape})\""
      ],
      "execution_count": null,
      "outputs": []
    },
    {
      "cell_type": "markdown",
      "metadata": {
        "id": "AyWjZ4oP3wZe",
        "colab_type": "text"
      },
      "source": [
        "# **References**\n",
        "[[1]Credit Card Fraud Detection](https://dataaspirant.com/credit-card-fraud-detection-classification-algorithms-python/?fbclid=IwAR2s8dv8K2ETBEJYbYWNiLSpbfBqR_iG7YvBOdene8z7TJk7EedTab8YYG0)"
      ]
    }
  ]
}