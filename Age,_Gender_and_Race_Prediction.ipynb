{
  "nbformat": 4,
  "nbformat_minor": 0,
  "metadata": {
    "colab": {
      "provenance": [],
      "toc_visible": true,
      "authorship_tag": "ABX9TyNlNwT8nAzRar/XnbpApcn4",
      "include_colab_link": true
    },
    "kernelspec": {
      "name": "python3",
      "display_name": "Python 3"
    },
    "language_info": {
      "name": "python"
    }
  },
  "cells": [
    {
      "cell_type": "markdown",
      "metadata": {
        "id": "view-in-github",
        "colab_type": "text"
      },
      "source": [
        "<a href=\"https://colab.research.google.com/github/hussain0048/Projects-/blob/master/Age%2C_Gender_and_Race_Prediction.ipynb\" target=\"_parent\"><img src=\"https://colab.research.google.com/assets/colab-badge.svg\" alt=\"Open In Colab\"/></a>"
      ]
    },
    {
      "cell_type": "code",
      "execution_count": null,
      "metadata": {
        "id": "Um3-v1sZFaP3"
      },
      "outputs": [],
      "source": []
    },
    {
      "cell_type": "markdown",
      "source": [
        "# **References**"
      ],
      "metadata": {
        "id": "wcg6YEhRFdz3"
      }
    },
    {
      "cell_type": "markdown",
      "source": [
        "[1-Age, Gender and Race Prediction](https://github.com/prathimacode-hub/ML-ProjectKart/blob/main/Age%2C%20Gender%20and%20Ethnicity%20Prediction/Model/age_gender_race.ipynb)"
      ],
      "metadata": {
        "id": "MTEWsVixFj-_"
      }
    }
  ]
}