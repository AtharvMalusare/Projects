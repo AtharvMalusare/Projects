{
  "nbformat": 4,
  "nbformat_minor": 0,
  "metadata": {
    "colab": {
      "name": "Build and Deploy Data Science Products .ipynb",
      "provenance": [],
      "authorship_tag": "ABX9TyNDpuAFJ7YHuehm8GgcFauv",
      "include_colab_link": true
    },
    "kernelspec": {
      "name": "python3",
      "display_name": "Python 3"
    }
  },
  "cells": [
    {
      "cell_type": "markdown",
      "metadata": {
        "id": "view-in-github",
        "colab_type": "text"
      },
      "source": [
        "<a href=\"https://colab.research.google.com/github/hussain0048/Projects-/blob/master/Build_and_Deploy_Data_Science_Products_.ipynb\" target=\"_parent\"><img src=\"https://colab.research.google.com/assets/colab-badge.svg\" alt=\"Open In Colab\"/></a>"
      ]
    },
    {
      "cell_type": "markdown",
      "metadata": {
        "id": "4wJEe-T6XuIZ"
      },
      "source": [
        "# **1-Understand the landscape of solutions available for machine translation**[1]\n",
        "\n",
        "\n",
        "In this series we will take a use case, understand the solution landscape and its evolution, explore different architecture choices, look under the hood of the architecture to understand the nuts and bolts, build a prototype, convert the prototype into production ready code, build an application from the production ready code and finally understand the process for deploying the application.\n",
        "\n",
        "The use case we will be dealing with will be **Machine Translation**. By the end of the series you would have working knowledge on how to build and deploy a Machine translation application, which translates, German sentences into English. This series will comprise of the following posts."
      ]
    },
    {
      "cell_type": "markdown",
      "metadata": {
        "id": "6-opydTdY3Hq"
      },
      "source": [
        "## **1.1 Introduction to Machine Translation**[1]\n",
        "\n",
        "**language translation** has always been a tough nut to crack. What makes it tough is the variations in structure and lexicon when one traverses from one language to the other. For this reason the problem of automated language translation or Machine translation has fascinated and inspired the best minds. Over the past decade some trailblazing advances have happened within this field. We have now reached a stage where machine translation has become quite ubiquitous. These technologies are now embedded in all our devices, mobiles, watches, desktops, tablets etc and have become an integral part of our every day life. A common example is the **Google Translate service** which has the capability to identify our input languge and subsequently translate it to multitudes of languages.\n",
        "\n",
        "**Machine translation** technologies have transcended different approaches before reaching the state we are in at present. Let us take a quick look at the evolution of the solution landscape of machine translation.\n",
        "\n",
        "The journey to the current state of the art translation technologies tells a fascinating tale of the strides in machine learning.\n",
        "\n",
        "The evolution of machine translation can be demarcated to three distinct phase. Let us look at each one of them and understand its distinct characteristics."
      ]
    },
    {
      "cell_type": "markdown",
      "metadata": {
        "id": "2kJFQyMBakvx"
      },
      "source": [
        "![](https://drive.google.com/uc?export=view&id=16oSEPChc0lXTMMBufQF2noWwEi2puYsA)"
      ]
    },
    {
      "cell_type": "markdown",
      "metadata": {
        "id": "RIL_QswGt_O_"
      },
      "source": [
        "## **1.2 Classical Machine Translation [1]**\n",
        "Classical machine translation methods relies heavily on linguisitc rules and deep domain knowledge to translate from a source language to a target language. There are three approaches under this method.\n",
        "\n",
        "**Direct Translation**\n",
        "\n",
        "Direct translation is based on a large bilingual dictionary;each entry in the dictionary can be viewed as a small program whose job is to translate one word”\n",
        "\n",
        "As the name suggests this method adopts a word-to-word translation of the source language to the target language. After the word to word translation a re-ordering of the translated words are required based on linguistic rules formulated between the source language and target language.\n",
        "\n",
        "**Transfer Method**[1]\n",
        "\n",
        "In the example we saw on direct translation method, we saw how the mapping of the English words for the translated Spanish sentence had a complete different ordering from the source English sentence. Every language has such structural charachteristics inherent in them. Transfer methods looks at tapping the structural differences between different language pairs.\n",
        "\n",
        "Unlike the direct method where there is word to word tranlation followed by re-ordering, transfer methods relies on codification of the contrastive knowledge i.e difference between languages, for translation from the source to the target language. Similar to the direct method, this method also relies on deep domain knowledge and codification of complex rules governing language construction.\n"
      ]
    },
    {
      "cell_type": "markdown",
      "metadata": {
        "id": "YOt5DCp5XdD6"
      },
      "source": [
        "# **References**\n",
        "\n",
        "[[1] Build and Deploy Data Science Products : A Practical Guide to Building a Machine Translation Application.](https://bayesianquest.com/2020/10/24/build-your-machine-translation-application-byte-by-byte/)"
      ]
    }
  ]
}