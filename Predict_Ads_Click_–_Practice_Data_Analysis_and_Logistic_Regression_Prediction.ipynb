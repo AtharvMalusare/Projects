{
  "nbformat": 4,
  "nbformat_minor": 0,
  "metadata": {
    "colab": {
      "provenance": [],
      "toc_visible": true,
      "authorship_tag": "ABX9TyObsQ3X9+H/WJmhu07rl5CY",
      "include_colab_link": true
    },
    "kernelspec": {
      "name": "python3",
      "display_name": "Python 3"
    },
    "language_info": {
      "name": "python"
    }
  },
  "cells": [
    {
      "cell_type": "markdown",
      "metadata": {
        "id": "view-in-github",
        "colab_type": "text"
      },
      "source": [
        "<a href=\"https://colab.research.google.com/github/hussain0048/Projects-/blob/master/Predict_Ads_Click_%E2%80%93_Practice_Data_Analysis_and_Logistic_Regression_Prediction.ipynb\" target=\"_parent\"><img src=\"https://colab.research.google.com/assets/colab-badge.svg\" alt=\"Open In Colab\"/></a>"
      ]
    },
    {
      "cell_type": "markdown",
      "source": [
        "# **Table of Content**"
      ],
      "metadata": {
        "id": "9A5Uvck_arzN"
      }
    },
    {
      "cell_type": "markdown",
      "source": [
        "\n",
        "\n",
        "1.   Importing Libraries\n",
        "2.   Gitting Data\n",
        "\n"
      ],
      "metadata": {
        "id": "owrYIppLazvF"
      }
    },
    {
      "cell_type": "markdown",
      "source": [
        "# **Importing Libraries**"
      ],
      "metadata": {
        "id": "VryJQfzqa_n8"
      }
    },
    {
      "cell_type": "code",
      "execution_count": 1,
      "metadata": {
        "id": "_Q21rAibXzs3"
      },
      "outputs": [],
      "source": [
        "import numpy as np\n",
        "import pandas as pd\n",
        "import matplotlib.pyplot as plt\n",
        "import seaborn as sns\n",
        "%matplotlib inline\n",
        "sns.set_style('whitegrid')"
      ]
    },
    {
      "cell_type": "code",
      "source": [
        "!rm markets.csv\n",
        "!wget https://github.com/hussain0048/Projects-/blob/52bf24551ba37363a2d454bed21604c0e630e221/Advertisements-Data.csv -O Advertisements-Data.csv\n",
        "df = pd.read_csv(\"Advertisements-Data.csv\", sep=\",\", header=0)\n"
      ],
      "metadata": {
        "id": "4z30PBsYw9DG"
      },
      "execution_count": null,
      "outputs": []
    },
    {
      "cell_type": "code",
      "source": [
        "!cat Advertisements-Data.csv"
      ],
      "metadata": {
        "id": "6C1vwYy7xviU"
      },
      "execution_count": null,
      "outputs": []
    },
    {
      "cell_type": "code",
      "source": [
        "data = pd.read_csv(\"https://github.com/hussain0048/Projects-/blob/52bf24551ba37363a2d454bed21604c0e630e221/Advertisements-Data.csv\", encoding= 'latin-1')\n",
        "data.head()"
      ],
      "metadata": {
        "id": "AhWZMXhWbc-N"
      },
      "execution_count": null,
      "outputs": []
    },
    {
      "cell_type": "markdown",
      "source": [
        "# **References**"
      ],
      "metadata": {
        "id": "g-D1RTOUx886"
      }
    },
    {
      "cell_type": "markdown",
      "source": [
        "[1-Ad-Click-Prediction\n",
        "](https://github.com/splikhita/Ad-Click-Prediction/blob/master/Ad-Click%20Prediction%20Project.ipynb)"
      ],
      "metadata": {
        "id": "Uy_diAOZyN_U"
      }
    },
    {
      "cell_type": "markdown",
      "source": [
        "[2-Predict Ads Click – Practice Data Analysis and Logistic Regression Prediction](https://projectsbasedlearning.com/apache-spark-machine-learning/predict-ads-click-practice-data-analysis-and-logistic-regression-prediction/?fbclid=IwAR3zhEqrzxRg5TP0lzd2MuZ_9XIrr5dXGU-h26_MWEV6wcuB7T2k15HzxsM)"
      ],
      "metadata": {
        "id": "7YQYSXEGyCNK"
      }
    }
  ]
}