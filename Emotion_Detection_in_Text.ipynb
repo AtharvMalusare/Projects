{
  "nbformat": 4,
  "nbformat_minor": 0,
  "metadata": {
    "colab": {
      "provenance": [],
      "authorship_tag": "ABX9TyMK2xbMI5HOKboxrHwEaYDM",
      "include_colab_link": true
    },
    "kernelspec": {
      "name": "python3",
      "display_name": "Python 3"
    },
    "language_info": {
      "name": "python"
    }
  },
  "cells": [
    {
      "cell_type": "markdown",
      "metadata": {
        "id": "view-in-github",
        "colab_type": "text"
      },
      "source": [
        "<a href=\"https://colab.research.google.com/github/hussain0048/Projects/blob/master/Emotion_Detection_in_Text.ipynb\" target=\"_parent\"><img src=\"https://colab.research.google.com/assets/colab-badge.svg\" alt=\"Open In Colab\"/></a>"
      ]
    },
    {
      "cell_type": "code",
      "execution_count": null,
      "metadata": {
        "id": "uf6tQ9qKeGjL"
      },
      "outputs": [],
      "source": []
    },
    {
      "cell_type": "markdown",
      "source": [
        "# **References**"
      ],
      "metadata": {
        "id": "a8xm7HCWeLf7"
      }
    },
    {
      "cell_type": "markdown",
      "source": [
        "[Using Hugging Face Transformers for Emotion Detection in Text](https://www.kdnuggets.com/using-hugging-face-transformers-for-emotion-detection-in-text?fbclid=IwY2xjawExY0BleHRuA2FlbQIxMAABHZ3RbcIRCZTEwZn3IQ1nd-4dHcP9OgD6dSGZ8sP9u4B4C5CSU4Gep7JNig_aem_ckeIZhX121O4XrywLl_V1A)"
      ],
      "metadata": {
        "id": "zxrRKSuseTUc"
      }
    }
  ]
}