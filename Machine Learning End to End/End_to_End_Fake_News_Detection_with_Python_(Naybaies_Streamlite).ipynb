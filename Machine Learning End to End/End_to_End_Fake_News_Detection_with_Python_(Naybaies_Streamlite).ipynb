{
  "nbformat": 4,
  "nbformat_minor": 0,
  "metadata": {
    "colab": {
      "name": "End-to-End Fake News Detection with Python (Naybaies Streamlite)",
      "provenance": [],
      "collapsed_sections": []
    },
    "kernelspec": {
      "name": "python3",
      "display_name": "Python 3"
    },
    "language_info": {
      "name": "python"
    }
  },
  "cells": [
    {
      "cell_type": "markdown",
      "metadata": {
        "id": "3y5steRGZdan"
      },
      "source": [
        "# **Introduction**"
      ]
    },
    {
      "cell_type": "markdown",
      "metadata": {
        "id": "weZu82mtnlYB"
      },
      "source": [
        "The spread of fake news is one of the most negative sides of social media applications. Recently I shared an article on how to detect fake news with machine learning which you can find here. With its continuation, in this article, I’ll take you through how to build an end-to-end fake news detection system with Python."
      ]
    },
    {
      "cell_type": "markdown",
      "metadata": {
        "id": "eaqsrot6jqtj"
      },
      "source": [
        "# **End-to-End Fake News Detection with Python**\n"
      ]
    },
    {
      "cell_type": "markdown",
      "metadata": {
        "id": "cV7zZ7Tls3-6"
      },
      "source": [
        "To create an end-to-end application for the task of fake news detection, you must first learn how to detect fake news with machine learning. You can learn all about Fake News detection with Machine Learning from here. Now returning to its end-to-end deployment, I’ll be using the streamlit library in Python to build an end-to-end application for the machine learning model to detect fake news in real-time. If you have never used the streamlit library before, you can easily install it on your system using the pip command:"
      ]
    },
    {
      "cell_type": "markdown",
      "metadata": {
        "id": "zn9LrOFutNXI"
      },
      "source": [
        "Now, if you have gone through this article, here is how you can build an end-to-end application for the task of fake news detection with Python:"
      ]
    },
    {
      "cell_type": "code",
      "metadata": {
        "id": "P0p34fjKlFoL"
      },
      "source": [
        "!pip install streamlit\n"
      ],
      "execution_count": null,
      "outputs": []
    },
    {
      "cell_type": "code",
      "metadata": {
        "id": "TY9wsa_Gp_-O"
      },
      "source": [
        "!pip install ipykernel>=5.1.2\n",
        "!pip install pydeck"
      ],
      "execution_count": null,
      "outputs": []
    },
    {
      "cell_type": "markdown",
      "metadata": {
        "id": "1wfEAwcpZkb1"
      },
      "source": [
        "# **Data Loading**"
      ]
    },
    {
      "cell_type": "code",
      "metadata": {
        "colab": {
          "base_uri": "https://localhost:8080/"
        },
        "id": "XbcqNzNhZoxG",
        "outputId": "0bc65981-3671-48f9-9831-5440b7dfcc2b"
      },
      "source": [
        "from google.colab import drive\n",
        "drive.mount('/content/drive')"
      ],
      "execution_count": 3,
      "outputs": [
        {
          "output_type": "stream",
          "name": "stdout",
          "text": [
            "Drive already mounted at /content/drive; to attempt to forcibly remount, call drive.mount(\"/content/drive\", force_remount=True).\n"
          ]
        }
      ]
    },
    {
      "cell_type": "code",
      "metadata": {
        "id": "_MSWWe4etaf4"
      },
      "source": [
        "import pandas as pd\n",
        "import numpy as np\n",
        "from sklearn.feature_extraction.text import CountVectorizer\n",
        "from sklearn.model_selection import train_test_split\n",
        "from sklearn.naive_bayes import MultinomialNB\n",
        "data = pd.read_csv(\"news.csv\")\n",
        "\n",
        "x = np.array(data[\"title\"])\n",
        "y = np.array(data[\"label\"])\n",
        "\n",
        "cv = CountVectorizer()\n",
        "x = cv.fit_transform(x)\n",
        "xtrain, xtest, ytrain, ytest = train_test_split(x, y, test_size=0.2, random_state=42)\n",
        "model = MultinomialNB()\n",
        "model.fit(xtrain, ytrain)\n",
        "\n",
        "import streamlit as st\n",
        "st.title(\"Fake News Detection System\")\n",
        "def fakenewsdetection():\n",
        "    user = st.text_area(\"Enter Any News Headline: \")\n",
        "    if len(user) < 1:\n",
        "        st.write(\"  \")\n",
        "    else:\n",
        "        sample = user\n",
        "        data = cv.transform([sample]).toarray()\n",
        "        a = model.predict(data)\n",
        "        st.title(a)\n",
        "fakenewsdetection()"
      ],
      "execution_count": null,
      "outputs": []
    },
    {
      "cell_type": "markdown",
      "metadata": {
        "id": "AaQzNurwuQLS"
      },
      "source": [
        "You cannot run this code the same way you run your other Python programs. As we are using the streamlit library here, so you need to write a command mentioned below in your command prompt or terminal to run this code:"
      ]
    },
    {
      "cell_type": "code",
      "metadata": {
        "id": "Rs4ldF-KuWSn"
      },
      "source": [
        "streamlit run filename.py"
      ],
      "execution_count": null,
      "outputs": []
    },
    {
      "cell_type": "markdown",
      "metadata": {
        "id": "GF3nw_82w63F"
      },
      "source": [
        "Once this command executes, it will open a link on your default web browser that will display your output as a web interface for fake news detection, as shown below."
      ]
    },
    {
      "cell_type": "markdown",
      "metadata": {
        "id": "Wb-f7U_ATlKy"
      },
      "source": [
        "# **References**\n",
        "[End-to-End Fake News Detection with Python](https://thecleverprogrammer.com/2021/07/09/end-to-end-fake-news-detection-with-python/)"
      ]
    }
  ]
}