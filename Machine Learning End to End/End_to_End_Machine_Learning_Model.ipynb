{
  "nbformat": 4,
  "nbformat_minor": 0,
  "metadata": {
    "colab": {
      "name": "End-to-End Machine Learning Model",
      "provenance": []
    },
    "kernelspec": {
      "name": "python3",
      "display_name": "Python 3"
    },
    "language_info": {
      "name": "python"
    }
  },
  "cells": [
    {
      "cell_type": "markdown",
      "metadata": {
        "id": "3y5steRGZdan"
      },
      "source": [
        "# **Introduction**"
      ]
    },
    {
      "cell_type": "markdown",
      "metadata": {
        "id": "weZu82mtnlYB"
      },
      "source": [
        "You’ll find plenty of machine learning projects and tutorials on the internet, but only a few of them focus on end-to-end model deployment. So, if you want to learn how to build an end-to-end machine learning model, then this article is for you. In this article, I’ll walk you through how to build an end-to-end machine learning model using Python."
      ]
    },
    {
      "cell_type": "markdown",
      "metadata": {
        "id": "eaqsrot6jqtj"
      },
      "source": [
        "# **How to Build an End-to-End Machine Learning Model?**\n"
      ]
    },
    {
      "cell_type": "markdown",
      "metadata": {
        "id": "p5ZLfMInoB4n"
      },
      "source": [
        "An end-to-end machine learning model means that you train a model and deploy it into an end product or application where it can be used to add value to an organization. For example, when you train a model for the task of predicting stock prices, it cannot be said to be an end-to-end model. But if you build an app where you give a user input as the name of the stock or its symbol and get its future prices as output, this is an end-to-end model.\n",
        "\n",
        "So we can say that if you build an application where you can test the predictions of your trained model, it is an end-to-end model. This is why having an end to end application in your data science resume strengthens your profile as it shows that you know how to train a model that can add value to an organization when deployed in the product or the final application. In the section below, I’ll walk you through how to build an end-to-end model using Python."
      ]
    },
    {
      "cell_type": "markdown",
      "metadata": {
        "id": "e38PRkl1oGiN"
      },
      "source": [
        "# **End-to-End Machine Learning Model using Python**\n"
      ]
    },
    {
      "cell_type": "markdown",
      "metadata": {
        "id": "TF3-9R0voPfd"
      },
      "source": [
        "We can use several ways in Python to build an end-to-end application for your model. I mainly use the streamlit library in Python which is so easy to use that it can deploy your model into an application in a few lines of code. If you’ve never used it before, you can easily install it using the pip command:\n",
        "\n"
      ]
    },
    {
      "cell_type": "code",
      "metadata": {
        "id": "P0p34fjKlFoL"
      },
      "source": [
        "!pip install streamlit\n"
      ],
      "execution_count": null,
      "outputs": []
    },
    {
      "cell_type": "code",
      "metadata": {
        "id": "wiplM4rapl82"
      },
      "source": [
        "!pip install autots"
      ],
      "execution_count": null,
      "outputs": []
    },
    {
      "cell_type": "code",
      "metadata": {
        "id": "TY9wsa_Gp_-O"
      },
      "source": [
        "!pip install ipykernel>=5.1.2\n",
        "!pip install pydeck"
      ],
      "execution_count": null,
      "outputs": []
    },
    {
      "cell_type": "markdown",
      "metadata": {
        "id": "1wfEAwcpZkb1"
      },
      "source": [
        "# **Data Loading**"
      ]
    },
    {
      "cell_type": "code",
      "metadata": {
        "colab": {
          "base_uri": "https://localhost:8080/"
        },
        "id": "XbcqNzNhZoxG",
        "outputId": "0bc65981-3671-48f9-9831-5440b7dfcc2b"
      },
      "source": [
        "from google.colab import drive\n",
        "drive.mount('/content/drive')"
      ],
      "execution_count": 3,
      "outputs": [
        {
          "output_type": "stream",
          "name": "stdout",
          "text": [
            "Drive already mounted at /content/drive; to attempt to forcibly remount, call drive.mount(\"/content/drive\", force_remount=True).\n"
          ]
        }
      ]
    },
    {
      "cell_type": "code",
      "metadata": {
        "id": "DCZnlXXpfvCz"
      },
      "source": [
        "from autots import AutoTS\n",
        "import numpy as np\n",
        "import pandas as pd\n",
        "import matplotlib.pyplot as plt\n",
        "import seaborn as sns\n",
        "from seaborn import regression\n",
        "sns.set()\n",
        "plt.style.use('seaborn-whitegrid')\n",
        "\n",
        "import streamlit as st\n",
        "st.title(\"Future Price Prediction Model\")\n",
        "df = st.text_input(\"Let's Predict the Future Prices\")\n",
        "\n",
        "if df == \"Dogecoin\":\n",
        "    data = pd.read_csv(\"/content/drive/MyDrive/Datasets/Future Price/Dogecoin.csv\")\n",
        "    print(data.head())\n",
        "    data.dropna()\n",
        "    model = AutoTS(forecast_length=10, frequency='infer', ensemble='simple', drop_data_older_than_periods=200)\n",
        "    model = model.fit(data, date_col='Date', value_col='Close', id_col=None)\n",
        "    prediction = model.predict()\n",
        "    forecast = prediction.forecast\n",
        "    st.write(forecast)\n"
      ],
      "execution_count": null,
      "outputs": []
    },
    {
      "cell_type": "markdown",
      "metadata": {
        "id": "0vfG21bgqdAE"
      },
      "source": [
        "To run this code, you have to write this command in your command prompt or terminal: \n",
        "\n",
        "**streamlit run filename.py **"
      ]
    },
    {
      "cell_type": "markdown",
      "metadata": {
        "id": "LN9UhFGdqf71"
      },
      "source": [
        "And then you will see a web page open in your default browser that will display your final output as shown below:"
      ]
    },
    {
      "cell_type": "markdown",
      "metadata": {
        "id": "Wb-f7U_ATlKy"
      },
      "source": [
        "# **References**\n",
        "[End-to-End Machine Learning Model](https://thecleverprogrammer.com/2021/06/03/end-to-end-machine-learning-model/)"
      ]
    }
  ]
}