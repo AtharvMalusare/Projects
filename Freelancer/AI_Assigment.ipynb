{
  "nbformat": 4,
  "nbformat_minor": 0,
  "metadata": {
    "colab": {
      "name": "AI_Assigment.ipynb",
      "provenance": [],
      "collapsed_sections": [],
      "toc_visible": true
    },
    "kernelspec": {
      "name": "python3",
      "display_name": "Python 3"
    }
  },
  "cells": [
    {
      "cell_type": "markdown",
      "metadata": {
        "id": "9pgvwHSmTbRV"
      },
      "source": [
        "# **1- Problem 1**\r\n",
        "\r\n",
        "Problem 1: For the data given, find a decision boundary that separates the two classes using the following models (Use the same initial condition for those two models):\r\n"
      ]
    },
    {
      "cell_type": "markdown",
      "metadata": {
        "id": "TszWUX0Yk0K3"
      },
      "source": [
        "**Data Pre-processing**\r\n",
        "- First we make list of each data\r\n",
        "- Then convert each list in np array "
      ]
    },
    {
      "cell_type": "code",
      "metadata": {
        "id": "L8GneDCCZf6a"
      },
      "source": [
        "list1=[1,-1]\r\n",
        "list2=[1,-2]\r\n",
        "list3=[2,-1]\r\n",
        "list4=[2,-2]"
      ],
      "execution_count": null,
      "outputs": []
    },
    {
      "cell_type": "code",
      "metadata": {
        "id": "vOEV7r6oZmNL"
      },
      "source": [
        "import numpy as np\r\n",
        "vector1 = np.array(list1) \r\n",
        "vector2 = np.array(list2) \r\n",
        "vector3 = np.array(list3) \r\n",
        "vector4 = np.array(list4)"
      ],
      "execution_count": null,
      "outputs": []
    },
    {
      "cell_type": "markdown",
      "metadata": {
        "id": "mljCmMFqlLxW"
      },
      "source": [
        "Then we combine the above Vectors in in one vector "
      ]
    },
    {
      "cell_type": "code",
      "metadata": {
        "id": "mYVrkraAZw9h"
      },
      "source": [
        "X1 = np.concatenate((vector1, vector2,vector3,vector4))"
      ],
      "execution_count": null,
      "outputs": []
    },
    {
      "cell_type": "code",
      "metadata": {
        "colab": {
          "base_uri": "https://localhost:8080/"
        },
        "id": "Qj2Bekz8yNeN",
        "outputId": "1fa8fd14-16c5-4d46-ffd7-11408c6c535f"
      },
      "source": [
        "X1"
      ],
      "execution_count": null,
      "outputs": [
        {
          "output_type": "execute_result",
          "data": {
            "text/plain": [
              "array([ 1, -1,  1, -2,  2, -1,  2, -2])"
            ]
          },
          "metadata": {
            "tags": []
          },
          "execution_count": 259
        }
      ]
    },
    {
      "cell_type": "code",
      "metadata": {
        "colab": {
          "base_uri": "https://localhost:8080/"
        },
        "id": "NT14IuCBxRdU",
        "outputId": "f80e9f64-7395-4426-f0a7-0a67d13e301a"
      },
      "source": [
        "X1.shape"
      ],
      "execution_count": null,
      "outputs": [
        {
          "output_type": "execute_result",
          "data": {
            "text/plain": [
              "(8,)"
            ]
          },
          "metadata": {
            "tags": []
          },
          "execution_count": 218
        }
      ]
    },
    {
      "cell_type": "markdown",
      "metadata": {
        "id": "IzUxiLWxlWBD"
      },
      "source": [
        "Using below Code we Covert Data in two-dimension "
      ]
    },
    {
      "cell_type": "code",
      "metadata": {
        "id": "tL64yK6iwWsO"
      },
      "source": [
        "X1test=X1.reshape(8,1)"
      ],
      "execution_count": null,
      "outputs": []
    },
    {
      "cell_type": "code",
      "metadata": {
        "colab": {
          "base_uri": "https://localhost:8080/"
        },
        "id": "cMQw2veah787",
        "outputId": "79bf1ffe-9def-47b1-88f1-58f31546315f"
      },
      "source": [
        "X1test.shape"
      ],
      "execution_count": null,
      "outputs": [
        {
          "output_type": "execute_result",
          "data": {
            "text/plain": [
              "(8, 1)"
            ]
          },
          "metadata": {
            "tags": []
          },
          "execution_count": 221
        }
      ]
    },
    {
      "cell_type": "code",
      "metadata": {
        "id": "RZrShR5yiJD0"
      },
      "source": [
        "X1test"
      ],
      "execution_count": null,
      "outputs": []
    },
    {
      "cell_type": "markdown",
      "metadata": {
        "id": "bReWpKvPlgpS"
      },
      "source": [
        "using below Code we Make class for above Data "
      ]
    },
    {
      "cell_type": "code",
      "metadata": {
        "id": "D6Rz4oq7Z2pp"
      },
      "source": [
        "Y1list=[0,0,0,0,0,0,0,0]\r\n",
        "Y1=np.array(Y1list)"
      ],
      "execution_count": null,
      "outputs": []
    },
    {
      "cell_type": "code",
      "metadata": {
        "colab": {
          "base_uri": "https://localhost:8080/"
        },
        "id": "046SyigFw66V",
        "outputId": "04fb7471-0234-4818-f3c3-4c25f920d851"
      },
      "source": [
        "Y1.shape"
      ],
      "execution_count": null,
      "outputs": [
        {
          "output_type": "execute_result",
          "data": {
            "text/plain": [
              "(8,)"
            ]
          },
          "metadata": {
            "tags": []
          },
          "execution_count": 262
        }
      ]
    },
    {
      "cell_type": "markdown",
      "metadata": {
        "id": "jY-nos08lpu_"
      },
      "source": [
        "The savem detaisl is applied for second type data"
      ]
    },
    {
      "cell_type": "code",
      "metadata": {
        "id": "ryFbSEsNZ53j"
      },
      "source": [
        "list5=[-1,0]\r\n",
        "list6=[-1,1]\r\n",
        "list7=[-2,0]\r\n",
        "list8=[-2,1]"
      ],
      "execution_count": null,
      "outputs": []
    },
    {
      "cell_type": "code",
      "metadata": {
        "id": "XtdiEGsMZ-oh"
      },
      "source": [
        "import numpy as np\r\n",
        "vector5 = np.array(list5) \r\n",
        "vector6 = np.array(list6) \r\n",
        "vector7 = np.array(list7) \r\n",
        "vector8 = np.array(list8)"
      ],
      "execution_count": null,
      "outputs": []
    },
    {
      "cell_type": "code",
      "metadata": {
        "id": "87X52KH-aIQh"
      },
      "source": [
        "X2 = np.concatenate((vector5, vector6,vector7,vector8))"
      ],
      "execution_count": null,
      "outputs": []
    },
    {
      "cell_type": "code",
      "metadata": {
        "colab": {
          "base_uri": "https://localhost:8080/"
        },
        "id": "e6G_T3WUyG9N",
        "outputId": "fdba0377-9d35-4ef0-b6a2-738ed4bf4321"
      },
      "source": [
        "X2"
      ],
      "execution_count": null,
      "outputs": [
        {
          "output_type": "execute_result",
          "data": {
            "text/plain": [
              "array([-1,  0, -1,  1, -2,  0, -2,  1])"
            ]
          },
          "metadata": {
            "tags": []
          },
          "execution_count": 266
        }
      ]
    },
    {
      "cell_type": "code",
      "metadata": {
        "colab": {
          "base_uri": "https://localhost:8080/"
        },
        "id": "8IaTJVGbva8Q",
        "outputId": "5e7bdecd-e3dc-4838-aa79-9b20c98a2888"
      },
      "source": [
        "X2.shape"
      ],
      "execution_count": null,
      "outputs": [
        {
          "output_type": "execute_result",
          "data": {
            "text/plain": [
              "(8,)"
            ]
          },
          "metadata": {
            "tags": []
          },
          "execution_count": 267
        }
      ]
    },
    {
      "cell_type": "code",
      "metadata": {
        "id": "DU2YV9AKijED"
      },
      "source": [
        "X2test=X2.reshape(8,1)"
      ],
      "execution_count": null,
      "outputs": []
    },
    {
      "cell_type": "code",
      "metadata": {
        "colab": {
          "base_uri": "https://localhost:8080/"
        },
        "id": "f1Sbh6wxiuIa",
        "outputId": "2b8dffe5-bbc5-46a6-9e9f-f64bd4063150"
      },
      "source": [
        "X2test.shape"
      ],
      "execution_count": null,
      "outputs": [
        {
          "output_type": "execute_result",
          "data": {
            "text/plain": [
              "(8, 1)"
            ]
          },
          "metadata": {
            "tags": []
          },
          "execution_count": 244
        }
      ]
    },
    {
      "cell_type": "code",
      "metadata": {
        "id": "esM07gRraNPz"
      },
      "source": [
        "Y2list=[1,1,1,1,1,1,1,1]\r\n",
        "Y2=np.array(Y2list)"
      ],
      "execution_count": null,
      "outputs": []
    },
    {
      "cell_type": "markdown",
      "metadata": {
        "id": "azt9mTWvl8h6"
      },
      "source": [
        "In this section we combine two type input X and Y "
      ]
    },
    {
      "cell_type": "code",
      "metadata": {
        "id": "Hsmz57b7aWn5"
      },
      "source": [
        "X1 = np.concatenate((X2test, X1test))\r\n",
        "Y1 = np.concatenate((Y1, Y2))"
      ],
      "execution_count": null,
      "outputs": []
    },
    {
      "cell_type": "code",
      "metadata": {
        "colab": {
          "base_uri": "https://localhost:8080/"
        },
        "id": "bSFaY6AWjU6b",
        "outputId": "ddef6f96-db03-4dee-abfe-07e6b29cbc62"
      },
      "source": [
        "X1.shape"
      ],
      "execution_count": null,
      "outputs": [
        {
          "output_type": "execute_result",
          "data": {
            "text/plain": [
              "(16, 1)"
            ]
          },
          "metadata": {
            "tags": []
          },
          "execution_count": 250
        }
      ]
    },
    {
      "cell_type": "code",
      "metadata": {
        "colab": {
          "base_uri": "https://localhost:8080/"
        },
        "id": "ZkMZAEBpsd9y",
        "outputId": "01f574fa-1abc-45b3-fbca-d17ae7452250"
      },
      "source": [
        "Y1.shape"
      ],
      "execution_count": null,
      "outputs": [
        {
          "output_type": "execute_result",
          "data": {
            "text/plain": [
              "(16, 1)"
            ]
          },
          "metadata": {
            "tags": []
          },
          "execution_count": 251
        }
      ]
    },
    {
      "cell_type": "code",
      "metadata": {
        "id": "dl9t9HlEeSxW"
      },
      "source": [
        "#from sklearn.datasets import make_classification\r\n",
        "#X, y = make_classification(n_samples=200, n_features=2, n_informative=2, n_redundant=0, n_classes=2, random_state=1)"
      ],
      "execution_count": null,
      "outputs": []
    },
    {
      "cell_type": "code",
      "metadata": {
        "id": "HXVrLkIMmEFS"
      },
      "source": [
        ""
      ],
      "execution_count": null,
      "outputs": []
    },
    {
      "cell_type": "markdown",
      "metadata": {
        "id": "-tNvPiNhmFV1"
      },
      "source": [
        "**Data Normalization**"
      ]
    },
    {
      "cell_type": "markdown",
      "metadata": {
        "id": "hk7MQhgRly6K"
      },
      "source": [
        "In section We convert the input data between 0-1"
      ]
    },
    {
      "cell_type": "code",
      "metadata": {
        "id": "K4kFKDtic5Fa"
      },
      "source": [
        "from sklearn.preprocessing import StandardScaler\r\n",
        "sc_X = StandardScaler()\r\n",
        "#sc_y = StandardScaler()\r\n",
        "Xnew = sc_X.fit_transform(X1)\r\n"
      ],
      "execution_count": null,
      "outputs": []
    },
    {
      "cell_type": "code",
      "metadata": {
        "id": "ZkviXSb9gqDG"
      },
      "source": [
        "Y2.shape"
      ],
      "execution_count": null,
      "outputs": []
    },
    {
      "cell_type": "markdown",
      "metadata": {
        "id": "_l6lBOPymQwc"
      },
      "source": [
        "**Applied Machine learning Models**"
      ]
    },
    {
      "cell_type": "code",
      "metadata": {
        "id": "ECLvsKRea-zu"
      },
      "source": [
        "from sklearn.linear_model import LogisticRegression\r\n",
        "from sklearn.tree import DecisionTreeClassifier\r\n",
        "from sklearn.ensemble import RandomForestClassifier\r\n",
        "from sklearn.svm import SVC\r\n",
        "from sklearn.naive_bayes import GaussianNB \r\n",
        "from sklearn.neural_network import MLPClassifier\r\n",
        "from sklearn.linear_model import Perceptron\r\n"
      ],
      "execution_count": null,
      "outputs": []
    },
    {
      "cell_type": "code",
      "metadata": {
        "id": "iNegeht2bC2E"
      },
      "source": [
        "# Initializing Classifiers\r\n",
        "clf1 = LogisticRegression()\r\n",
        "clf2 = DecisionTreeClassifier()\r\n",
        "clf3 = RandomForestClassifier()\r\n",
        "clf4 = SVC(gamma='auto')\r\n",
        "clf7 = GaussianNB()\r\n",
        "clf5=Perceptron()\r\n",
        "clf6 = MLPClassifier()\r\n"
      ],
      "execution_count": null,
      "outputs": []
    },
    {
      "cell_type": "code",
      "metadata": {
        "colab": {
          "base_uri": "https://localhost:8080/",
          "height": 865
        },
        "id": "4tD4zUojbKXx",
        "outputId": "99dd4bad-eeca-445c-fb85-71191ef63f23"
      },
      "source": [
        "import matplotlib.pyplot as plt\r\n",
        "from mlxtend.plotting import plot_decision_regions\r\n",
        "import matplotlib.gridspec as gridspec\r\n",
        "%matplotlib inline  \r\n",
        " \r\n",
        "gs = gridspec.GridSpec(3, 2)\r\n",
        " \r\n",
        "fig = plt.figure(figsize=(14,10))\r\n",
        " \r\n",
        "labels = ['Logistic Regression', 'Decision Tree', 'Random Forest', 'SVM', 'Perceptron', 'Neural Network']\r\n",
        "for clf, lab, grd in zip([clf1, clf2, clf3, clf4, clf5, clf6, clf7],\r\n",
        "                         labels,\r\n",
        "                         [(0,0), (0,1), (1,0), (1,1), (2,0), (2,1)]):\r\n",
        " \r\n",
        "    clf.fit(Xnew, Y1)\r\n",
        "    ax = plt.subplot(gs[grd[0], grd[1]])\r\n",
        "    fig = plot_decision_regions(X=X1, y=Y1, clf=clf, legend=2)\r\n",
        "    plt.title(lab)\r\n",
        " \r\n",
        "plt.show()"
      ],
      "execution_count": null,
      "outputs": [
        {
          "output_type": "stream",
          "text": [
            "/usr/local/lib/python3.6/dist-packages/mlxtend/plotting/decision_regions.py:244: MatplotlibDeprecationWarning: Passing unsupported keyword arguments to axis() will raise a TypeError in 3.3.\n",
            "  ax.axis(xmin=xx.min(), xmax=xx.max(), y_min=yy.min(), y_max=yy.max())\n",
            "/usr/local/lib/python3.6/dist-packages/mlxtend/plotting/decision_regions.py:244: MatplotlibDeprecationWarning: Passing unsupported keyword arguments to axis() will raise a TypeError in 3.3.\n",
            "  ax.axis(xmin=xx.min(), xmax=xx.max(), y_min=yy.min(), y_max=yy.max())\n",
            "/usr/local/lib/python3.6/dist-packages/mlxtend/plotting/decision_regions.py:244: MatplotlibDeprecationWarning: Passing unsupported keyword arguments to axis() will raise a TypeError in 3.3.\n",
            "  ax.axis(xmin=xx.min(), xmax=xx.max(), y_min=yy.min(), y_max=yy.max())\n",
            "/usr/local/lib/python3.6/dist-packages/mlxtend/plotting/decision_regions.py:244: MatplotlibDeprecationWarning: Passing unsupported keyword arguments to axis() will raise a TypeError in 3.3.\n",
            "  ax.axis(xmin=xx.min(), xmax=xx.max(), y_min=yy.min(), y_max=yy.max())\n",
            "/usr/local/lib/python3.6/dist-packages/mlxtend/plotting/decision_regions.py:244: MatplotlibDeprecationWarning: Passing unsupported keyword arguments to axis() will raise a TypeError in 3.3.\n",
            "  ax.axis(xmin=xx.min(), xmax=xx.max(), y_min=yy.min(), y_max=yy.max())\n",
            "/usr/local/lib/python3.6/dist-packages/sklearn/neural_network/_multilayer_perceptron.py:571: ConvergenceWarning: Stochastic Optimizer: Maximum iterations (200) reached and the optimization hasn't converged yet.\n",
            "  % self.max_iter, ConvergenceWarning)\n",
            "/usr/local/lib/python3.6/dist-packages/mlxtend/plotting/decision_regions.py:244: MatplotlibDeprecationWarning: Passing unsupported keyword arguments to axis() will raise a TypeError in 3.3.\n",
            "  ax.axis(xmin=xx.min(), xmax=xx.max(), y_min=yy.min(), y_max=yy.max())\n"
          ],
          "name": "stderr"
        },
        {
          "output_type": "display_data",
          "data": {
            "image/png": "[encoded data removed]",
            "text/plain": [
              "<Figure size 1008x720 with 6 Axes>"
            ]
          },
          "metadata": {
            "tags": [],
            "needs_background": "light"
          }
        }
      ]
    },
    {
      "cell_type": "markdown",
      "metadata": {
        "id": "r3398uKGTWJ1"
      },
      "source": [
        "# **2- Problem-2**\r\n",
        "\r\n",
        "Find an optimal linear decision boundary that maximizes the margin of separation in a nonlinear transform space.\r\n",
        "\r\n",
        "Find an optimal nonlinear decision boundary that maximizes the margin of separationin the original feature space.\r\n",
        "\r\n",
        "Detaisl and coding is similar to Problem 1 but online Data is changed "
      ]
    },
    {
      "cell_type": "code",
      "metadata": {
        "id": "Ik8GkastTxPl"
      },
      "source": [
        "list1=[-2,3]\r\n",
        "list2=[1,-1]\r\n",
        "list3=[2, 1]\r\n",
        "list4=[2,-1]"
      ],
      "execution_count": null,
      "outputs": []
    },
    {
      "cell_type": "code",
      "metadata": {
        "id": "qxYB1aFET3A6"
      },
      "source": [
        "import numpy as np\r\n",
        "vector1 = np.array(list1) \r\n",
        "vector2 = np.array(list2) \r\n",
        "vector3 = np.array(list3) \r\n",
        "vector4 = np.array(list4)"
      ],
      "execution_count": null,
      "outputs": []
    },
    {
      "cell_type": "code",
      "metadata": {
        "id": "kepWkaaLUGyS"
      },
      "source": [
        "X1 = np.concatenate((vector1, vector2,vector3,vector4))"
      ],
      "execution_count": null,
      "outputs": []
    },
    {
      "cell_type": "code",
      "metadata": {
        "id": "BczfrjkhdFbF"
      },
      "source": [
        "X1"
      ],
      "execution_count": null,
      "outputs": []
    },
    {
      "cell_type": "code",
      "metadata": {
        "id": "Cm29jy6XdMqb"
      },
      "source": [
        "X1.shape"
      ],
      "execution_count": null,
      "outputs": []
    },
    {
      "cell_type": "code",
      "metadata": {
        "id": "1uJ3fNCldSrd"
      },
      "source": [
        "X1test=X1.reshape(8,1)"
      ],
      "execution_count": null,
      "outputs": []
    },
    {
      "cell_type": "code",
      "metadata": {
        "colab": {
          "base_uri": "https://localhost:8080/"
        },
        "id": "I6epezTNdbp7",
        "outputId": "7471deb4-2beb-4990-ce74-c0861dd4259d"
      },
      "source": [
        "X1test.shape"
      ],
      "execution_count": null,
      "outputs": [
        {
          "output_type": "execute_result",
          "data": {
            "text/plain": [
              "(8, 1)"
            ]
          },
          "metadata": {
            "tags": []
          },
          "execution_count": 302
        }
      ]
    },
    {
      "cell_type": "code",
      "metadata": {
        "id": "gzhj8MO6diKj"
      },
      "source": [
        "X1test"
      ],
      "execution_count": null,
      "outputs": []
    },
    {
      "cell_type": "code",
      "metadata": {
        "id": "IfGOIg5ydso1"
      },
      "source": [
        "Y1list=[0,0,0,0,0,0,0,0]\r\n",
        "Y1=np.array(Y1list)"
      ],
      "execution_count": null,
      "outputs": []
    },
    {
      "cell_type": "code",
      "metadata": {
        "colab": {
          "base_uri": "https://localhost:8080/"
        },
        "id": "SyesUqKYdzof",
        "outputId": "449948ce-f3f2-4a4c-bb84-fa856ca13c33"
      },
      "source": [
        "Y1.shape"
      ],
      "execution_count": null,
      "outputs": [
        {
          "output_type": "execute_result",
          "data": {
            "text/plain": [
              "(8,)"
            ]
          },
          "metadata": {
            "tags": []
          },
          "execution_count": 305
        }
      ]
    },
    {
      "cell_type": "code",
      "metadata": {
        "id": "uUtpKfpod90S"
      },
      "source": [
        "list5=[0.5,1]\r\n",
        "list6=[-0.2,0.5]\r\n",
        "list7=[-1,3]\r\n",
        "list8=[0,2]"
      ],
      "execution_count": null,
      "outputs": []
    },
    {
      "cell_type": "code",
      "metadata": {
        "id": "ActBbG7peaad"
      },
      "source": [
        "import numpy as np\r\n",
        "vector5 = np.array(list5) \r\n",
        "vector6 = np.array(list6) \r\n",
        "vector7 = np.array(list7) \r\n",
        "vector8 = np.array(list8)"
      ],
      "execution_count": null,
      "outputs": []
    },
    {
      "cell_type": "code",
      "metadata": {
        "id": "WLlMqfmJemf9"
      },
      "source": [
        "X2 = np.concatenate((vector5, vector6,vector7,vector8))"
      ],
      "execution_count": null,
      "outputs": []
    },
    {
      "cell_type": "code",
      "metadata": {
        "id": "XOGxaXXMesHl"
      },
      "source": [
        "X2test=X2.reshape(8,1)"
      ],
      "execution_count": null,
      "outputs": []
    },
    {
      "cell_type": "code",
      "metadata": {
        "id": "J-H6Uxq9e7pC"
      },
      "source": [
        "Y2list=[1,1,1,1,1,1,1,1]\r\n",
        "Y2=np.array(Y2list)"
      ],
      "execution_count": null,
      "outputs": []
    },
    {
      "cell_type": "code",
      "metadata": {
        "id": "qcKZDPOKfFDo"
      },
      "source": [
        "X1 = np.concatenate((X2test, X1test))\r\n",
        "Y1 = np.concatenate((Y1, Y2))"
      ],
      "execution_count": null,
      "outputs": []
    },
    {
      "cell_type": "code",
      "metadata": {
        "colab": {
          "base_uri": "https://localhost:8080/"
        },
        "id": "puBFAfC_fSId",
        "outputId": "f7b083c0-9870-40c2-d43f-cd33cf8ac584"
      },
      "source": [
        "X1.shape"
      ],
      "execution_count": null,
      "outputs": [
        {
          "output_type": "execute_result",
          "data": {
            "text/plain": [
              "(16, 1)"
            ]
          },
          "metadata": {
            "tags": []
          },
          "execution_count": 312
        }
      ]
    },
    {
      "cell_type": "code",
      "metadata": {
        "id": "vfvXefe2fbtt"
      },
      "source": [
        "from sklearn.preprocessing import StandardScaler\r\n",
        "sc_X = StandardScaler()\r\n",
        "#sc_y = StandardScaler()\r\n",
        "Xnew = sc_X.fit_transform(X1)"
      ],
      "execution_count": null,
      "outputs": []
    },
    {
      "cell_type": "code",
      "metadata": {
        "id": "bBoureAqfjxk"
      },
      "source": [
        "from sklearn.linear_model import LogisticRegression\r\n",
        "from sklearn.tree import DecisionTreeClassifier\r\n",
        "from sklearn.ensemble import RandomForestClassifier\r\n",
        "from sklearn.svm import SVC\r\n",
        "from sklearn.naive_bayes import GaussianNB \r\n",
        "from sklearn.neural_network import MLPClassifier\r\n",
        "from sklearn.linear_model import Perceptron"
      ],
      "execution_count": null,
      "outputs": []
    },
    {
      "cell_type": "code",
      "metadata": {
        "id": "dKLBDyM-fsHS"
      },
      "source": [
        "# Initializing Classifiers\r\n",
        "clf1 = LogisticRegression()\r\n",
        "clf2 = DecisionTreeClassifier()\r\n",
        "clf3 = RandomForestClassifier()\r\n",
        "clf4 = SVC(gamma='auto')\r\n",
        "clf7 = GaussianNB()\r\n",
        "clf5=Perceptron()\r\n",
        "clf6 = MLPClassifier()"
      ],
      "execution_count": null,
      "outputs": []
    },
    {
      "cell_type": "code",
      "metadata": {
        "colab": {
          "base_uri": "https://localhost:8080/",
          "height": 865
        },
        "id": "DIOWaQFlf0ZR",
        "outputId": "e47588bc-ab41-4302-dac0-c3a2b1819c24"
      },
      "source": [
        "import matplotlib.pyplot as plt\r\n",
        "from mlxtend.plotting import plot_decision_regions\r\n",
        "import matplotlib.gridspec as gridspec\r\n",
        "%matplotlib inline  \r\n",
        " \r\n",
        "gs = gridspec.GridSpec(3, 2)\r\n",
        " \r\n",
        "fig = plt.figure(figsize=(14,10))\r\n",
        " \r\n",
        "labels = ['Logistic Regression', 'Decision Tree', 'Random Forest', 'SVM', 'Perceptron', 'Neural Network']\r\n",
        "for clf, lab, grd in zip([clf1, clf2, clf3, clf4, clf5, clf6, clf7],\r\n",
        "                         labels,\r\n",
        "                         [(0,0), (0,1), (1,0), (1,1), (2,0), (2,1)]):\r\n",
        " \r\n",
        "    clf.fit(Xnew, Y1)\r\n",
        "    ax = plt.subplot(gs[grd[0], grd[1]])\r\n",
        "    fig = plot_decision_regions(X=X1, y=Y1, clf=clf, legend=2)\r\n",
        "    plt.title(lab)\r\n",
        " \r\n",
        "plt.show()"
      ],
      "execution_count": null,
      "outputs": [
        {
          "output_type": "stream",
          "text": [
            "/usr/local/lib/python3.6/dist-packages/mlxtend/plotting/decision_regions.py:244: MatplotlibDeprecationWarning: Passing unsupported keyword arguments to axis() will raise a TypeError in 3.3.\n",
            "  ax.axis(xmin=xx.min(), xmax=xx.max(), y_min=yy.min(), y_max=yy.max())\n",
            "/usr/local/lib/python3.6/dist-packages/mlxtend/plotting/decision_regions.py:244: MatplotlibDeprecationWarning: Passing unsupported keyword arguments to axis() will raise a TypeError in 3.3.\n",
            "  ax.axis(xmin=xx.min(), xmax=xx.max(), y_min=yy.min(), y_max=yy.max())\n",
            "/usr/local/lib/python3.6/dist-packages/mlxtend/plotting/decision_regions.py:244: MatplotlibDeprecationWarning: Passing unsupported keyword arguments to axis() will raise a TypeError in 3.3.\n",
            "  ax.axis(xmin=xx.min(), xmax=xx.max(), y_min=yy.min(), y_max=yy.max())\n",
            "/usr/local/lib/python3.6/dist-packages/mlxtend/plotting/decision_regions.py:244: MatplotlibDeprecationWarning: Passing unsupported keyword arguments to axis() will raise a TypeError in 3.3.\n",
            "  ax.axis(xmin=xx.min(), xmax=xx.max(), y_min=yy.min(), y_max=yy.max())\n",
            "/usr/local/lib/python3.6/dist-packages/mlxtend/plotting/decision_regions.py:244: MatplotlibDeprecationWarning: Passing unsupported keyword arguments to axis() will raise a TypeError in 3.3.\n",
            "  ax.axis(xmin=xx.min(), xmax=xx.max(), y_min=yy.min(), y_max=yy.max())\n",
            "/usr/local/lib/python3.6/dist-packages/sklearn/neural_network/_multilayer_perceptron.py:571: ConvergenceWarning: Stochastic Optimizer: Maximum iterations (200) reached and the optimization hasn't converged yet.\n",
            "  % self.max_iter, ConvergenceWarning)\n",
            "/usr/local/lib/python3.6/dist-packages/mlxtend/plotting/decision_regions.py:244: MatplotlibDeprecationWarning: Passing unsupported keyword arguments to axis() will raise a TypeError in 3.3.\n",
            "  ax.axis(xmin=xx.min(), xmax=xx.max(), y_min=yy.min(), y_max=yy.max())\n"
          ],
          "name": "stderr"
        },
        {
          "output_type": "display_data",
          "data": {
            "image/png": "[encoded data removed]",
            "text/plain": [
              "<Figure size 1008x720 with 6 Axes>"
            ]
          },
          "metadata": {
            "tags": [],
            "needs_background": "light"
          }
        }
      ]
    },
    {
      "cell_type": "markdown",
      "metadata": {
        "id": "bGxSnsPYkCRL"
      },
      "source": [
        "# **References**\r\n",
        "\r\n",
        "[Decision Boundary In Python](https://predictivehacks.com/decision-boundary-in-python/)"
      ]
    }
  ]
}