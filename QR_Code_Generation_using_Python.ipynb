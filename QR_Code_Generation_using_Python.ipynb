{
  "nbformat": 4,
  "nbformat_minor": 0,
  "metadata": {
    "colab": {
      "provenance": [],
      "include_colab_link": true
    },
    "kernelspec": {
      "name": "python3",
      "display_name": "Python 3"
    },
    "language_info": {
      "name": "python"
    }
  },
  "cells": [
    {
      "cell_type": "markdown",
      "metadata": {
        "id": "view-in-github",
        "colab_type": "text"
      },
      "source": [
        "<a href=\"https://colab.research.google.com/github/hussain0048/Projects-/blob/master/QR_Code_Generation_using_Python.ipynb\" target=\"_parent\"><img src=\"https://colab.research.google.com/assets/colab-badge.svg\" alt=\"Open In Colab\"/></a>"
      ]
    },
    {
      "cell_type": "markdown",
      "source": [
        "# **Generating QR Code in Python**\n",
        "QR (Quick Response) codes have become ubiquitous in our digital age. These square-shaped patterns, composed of black squares arranged on a white background, encode information that can be quickly and easily scanned by a smartphone camera.\n",
        "\n",
        " Originally developed in Japan in the 1990s for tracking automotive parts, QR codes have since found widespread use in various applications, including advertising, marketing, inventory management, ticketing, and more.\n",
        "\n",
        "\n",
        "In this tutorial, we'll explore how to generate QR codes in Python using the `qrcode` library. We'll create a simple QR code that encodes the URL \"https://coursesteach.com/\".\n",
        "\n",
        "## **1- Installing the qrcode Library**\n",
        "\n",
        "First, let's install the `qrcode` library using pip.\n",
        "\n",
        " Run the following command in your terminal or Jupyter notebook:"
      ],
      "metadata": {
        "id": "BfXGp-rwoEO3"
      }
    },
    {
      "cell_type": "code",
      "execution_count": 1,
      "metadata": {
        "id": "qP-qdb2xn94D",
        "colab": {
          "base_uri": "https://localhost:8080/"
        },
        "outputId": "c54e6e90-97e3-4668-b0d6-cb225386c922"
      },
      "outputs": [
        {
          "output_type": "stream",
          "name": "stdout",
          "text": [
            "Collecting qrcode\n",
            "  Downloading qrcode-7.4.2-py3-none-any.whl (46 kB)\n",
            "\u001b[2K     \u001b[90m━━━━━━━━━━━━━━━━━━━━━━━━━━━━━━━━━━━━━━━━\u001b[0m \u001b[32m46.2/46.2 kB\u001b[0m \u001b[31m1.1 MB/s\u001b[0m eta \u001b[36m0:00:00\u001b[0m\n",
            "\u001b[?25hRequirement already satisfied: typing-extensions in /usr/local/lib/python3.10/dist-packages (from qrcode) (4.11.0)\n",
            "Collecting pypng (from qrcode)\n",
            "  Downloading pypng-0.20220715.0-py3-none-any.whl (58 kB)\n",
            "\u001b[2K     \u001b[90m━━━━━━━━━━━━━━━━━━━━━━━━━━━━━━━━━━━━━━━━\u001b[0m \u001b[32m58.1/58.1 kB\u001b[0m \u001b[31m3.7 MB/s\u001b[0m eta \u001b[36m0:00:00\u001b[0m\n",
            "\u001b[?25hInstalling collected packages: pypng, qrcode\n",
            "Successfully installed pypng-0.20220715.0 qrcode-7.4.2\n"
          ]
        }
      ],
      "source": [
        "!pip install qrcode"
      ]
    },
    {
      "cell_type": "markdown",
      "source": [
        "## **2- Importing Libraries**\n",
        "\n",
        "\n",
        "\n"
      ],
      "metadata": {
        "id": "1n_C---7poOI"
      }
    },
    {
      "cell_type": "code",
      "source": [
        "import qrcode as qr"
      ],
      "metadata": {
        "id": "xS2imlfPqVLj"
      },
      "execution_count": 2,
      "outputs": []
    },
    {
      "cell_type": "markdown",
      "source": [
        "# **3- Generating Qr Code**\n",
        "##### Now, let's generate the QR code using the qrcode library. We'll encode the URL \"https://coursesteach.com/\" into the QR code."
      ],
      "metadata": {
        "id": "N3C8WZmSqnzn"
      }
    },
    {
      "cell_type": "code",
      "source": [
        "img=qr.make(\"https://coursesteach.com/\")"
      ],
      "metadata": {
        "id": "H09M1k1prGZw"
      },
      "execution_count": 3,
      "outputs": []
    },
    {
      "cell_type": "markdown",
      "source": [
        "#**4-Saving Qr Code**\n",
        "The below code will create a QR code representing the URL \"https://coursesteach.com/\" and save it as an image file named \"courseteach.png\" in the current directory."
      ],
      "metadata": {
        "id": "CMPshIY0rMuF"
      }
    },
    {
      "cell_type": "code",
      "source": [
        "img.save(\"corusesteah.png\")"
      ],
      "metadata": {
        "id": "I9YlsR3BruIJ"
      },
      "execution_count": 4,
      "outputs": []
    },
    {
      "cell_type": "markdown",
      "source": [
        "#**5-Viewing the QR Code**\n",
        "Let's display the generated QR code image:\n",
        "\n",
        "\n",
        "You can scan this QR code using a QR code scanner app on your smartphone or any QR code reader to open the encoded URL \"https://coursesteach.com/\".\n"
      ],
      "metadata": {
        "id": "ye-hxJ4hr0Pl"
      }
    },
    {
      "cell_type": "markdown",
      "source": [
        "#**6-Conclusion**\n",
        "In this tutorial, we learned how to generate QR codes in Python using the qrcode library.\n",
        "\n",
        " QR codes have revolutionized the way we interact with digital content, providing a convenient and efficient way to access information with just a scan.\n",
        "\n",
        " The qrcode library provides a simple and straightforward way to create QR codes programmatically, making it easy to integrate QR code generation into your Python projects."
      ],
      "metadata": {
        "id": "_igQ7fs6sI5v"
      }
    }
  ]
}