{
  "nbformat": 4,
  "nbformat_minor": 0,
  "metadata": {
    "colab": {
      "name": "President Heights_exploratory data.ipynb",
      "provenance": []
    },
    "kernelspec": {
      "name": "python3",
      "display_name": "Python 3"
    }
  },
  "cells": [
    {
      "cell_type": "markdown",
      "metadata": {
        "id": "VLBfWEAzvy4m"
      },
      "source": [
        "# **1- Read Data**"
      ]
    },
    {
      "cell_type": "code",
      "metadata": {
        "colab": {
          "base_uri": "https://localhost:8080/"
        },
        "id": "lOXT9jLAifU7",
        "outputId": "baf6a1d1-19bb-4ca6-e2a9-906c7e5734e2"
      },
      "source": [
        "from google.colab import drive\r\n",
        "drive.mount('/content/drive')"
      ],
      "execution_count": 1,
      "outputs": [
        {
          "output_type": "stream",
          "text": [
            "Mounted at /content/drive\n"
          ],
          "name": "stdout"
        }
      ]
    },
    {
      "cell_type": "code",
      "metadata": {
        "id": "OWcKC8M4tMGH"
      },
      "source": [
        "import pandas as pd \r\n"
      ],
      "execution_count": 2,
      "outputs": []
    },
    {
      "cell_type": "code",
      "metadata": {
        "id": "KRhuIfEeswYk"
      },
      "source": [
        "data = pd.read_csv(\"/content/drive/My Drive/Datasets/President Heights/president_heights.csv\")"
      ],
      "execution_count": 6,
      "outputs": []
    },
    {
      "cell_type": "code",
      "metadata": {
        "id": "RUsO8tBGuebK"
      },
      "source": [
        "print(data.head())"
      ],
      "execution_count": null,
      "outputs": []
    },
    {
      "cell_type": "markdown",
      "metadata": {
        "id": "zR8K8NUtulS3"
      },
      "source": [
        "We’ll use the Pandas package to read the file and extract this information (note that the heights are measured in centimeters):"
      ]
    },
    {
      "cell_type": "code",
      "metadata": {
        "id": "8heF3-ORuqfY"
      },
      "source": [
        "import numpy as np \r\n",
        "height = np.array(data[\"height(cm)\"])\r\n",
        "print(height)"
      ],
      "execution_count": null,
      "outputs": []
    },
    {
      "cell_type": "markdown",
      "metadata": {
        "id": "Od_Gf0YLv-_b"
      },
      "source": [
        "# **2- summary statistics**"
      ]
    },
    {
      "cell_type": "markdown",
      "metadata": {
        "id": "eYXe4UtSu2ZJ"
      },
      "source": [
        "Now that we have this data array, we can compute a variety of summary statistics:\r\n",
        "\r\n"
      ]
    },
    {
      "cell_type": "code",
      "metadata": {
        "id": "3Peo8bqbu4LH"
      },
      "source": [
        "print(\"Mean of heights =\", height.mean())\r\n",
        "print(\"Standard Deviation of height =\", height.std())\r\n",
        "print(\"Minimum height =\", height.min())\r\n",
        "print(\"Maximum height =\", height.max())"
      ],
      "execution_count": null,
      "outputs": []
    },
    {
      "cell_type": "markdown",
      "metadata": {
        "id": "OjmRGKIIvBzo"
      },
      "source": [
        "Note that in each case, the aggregation operation reduced the entire array to a single summarizing value, which gives us information about the distribution of values. We may also wish to compute quantiles:"
      ]
    },
    {
      "cell_type": "code",
      "metadata": {
        "id": "AtQbRegjvOwx"
      },
      "source": [
        "print(\"25th percentile =\", np.percentile(height, 25))\r\n",
        "print(\"Median =\", np.median(height))\r\n",
        "print(\"75th percentile =\", np.percentile(height, 75))"
      ],
      "execution_count": null,
      "outputs": []
    },
    {
      "cell_type": "markdown",
      "metadata": {
        "id": "zWvwrSo1wPmQ"
      },
      "source": [
        "# **3- visual representation**"
      ]
    },
    {
      "cell_type": "markdown",
      "metadata": {
        "id": "d_XgTxfetLOj"
      },
      "source": [
        "We see that the median height of US presidents is 182 cm, or just shy of six feet. Of course, sometimes it’s more useful to see a visual representation of this data, which we can accomplish using tools in Matplotlib:"
      ]
    },
    {
      "cell_type": "code",
      "metadata": {
        "id": "r-RXoly5vgts"
      },
      "source": [
        "import matplotlib.pyplot as plt\r\n",
        "import seaborn as sns\r\n",
        "sns.set()\r\n"
      ],
      "execution_count": 12,
      "outputs": []
    },
    {
      "cell_type": "code",
      "metadata": {
        "id": "SUVETaw4vo2X"
      },
      "source": [
        "plt.hist(height)\r\n",
        "plt.title(\"Height Distribution of Presidents of USA\")\r\n",
        "plt.xlabel(\"height(cm)\")\r\n",
        "plt.ylabel(\"Number\")\r\n",
        "plt.show()"
      ],
      "execution_count": null,
      "outputs": []
    },
    {
      "cell_type": "markdown",
      "metadata": {
        "id": "0JSZsBVDwVwt"
      },
      "source": [
        "# **References**\r\n",
        "[Data Science Project on President Heights](https://thecleverprogrammer.com/2020/05/08/data-science-project-on-president-heights/)"
      ]
    }
  ]
}