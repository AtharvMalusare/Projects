{
  "nbformat": 4,
  "nbformat_minor": 0,
  "metadata": {
    "colab": {
      "name": "Stock Price Prediction using-Linear Regression.ipynb",
      "provenance": [],
      "collapsed_sections": []
    },
    "kernelspec": {
      "name": "python3",
      "display_name": "Python 3"
    }
  },
  "cells": [
    {
      "cell_type": "markdown",
      "metadata": {
        "id": "kkdLMCcxbwQA"
      },
      "source": [
        "# **1- Introduction**\r\n",
        "Predicting the stock market is one of the most important applications of Machine Learning in finance. In this article, I will take you through a simple Data Science project on Stock Price Prediction using Machine Learning Python."
      ]
    },
    {
      "cell_type": "markdown",
      "metadata": {
        "id": "NATWVPgKcACn"
      },
      "source": [
        "# **2-Stock Price Prediction**\r\n",
        "\r\n",
        "Predicting the stock market has been the bane and goal of investors since its inception. Every day billions of dollars are traded on the stock exchange, and behind every dollar is an investor hoping to make a profit in one way or another.\r\n",
        "\r\n",
        "Entire companies rise and fall daily depending on market behaviour. If an investor is able to accurately predict market movements, he offers a tantalizing promise of wealth and influence. \r\n",
        "\r\n",
        "\r\n",
        " \r\n",
        "Today, so many people are making money staying at home trading in the stock market. It is a plus point for you if you use your experience in the stock market and your machine learning skills for the task of stock price prediction.\r\n",
        "\r\n",
        "Let’s see how to predict stock prices using Machine Learning and the python programming language. I will start this task by importing all the necessary python libraries that we need for this task:"
      ]
    },
    {
      "cell_type": "markdown",
      "metadata": {
        "id": "17PGGREJcUIt"
      },
      "source": [
        "# **3- Import Nessary library**"
      ]
    },
    {
      "cell_type": "code",
      "metadata": {
        "id": "8-MwpYmdbZ51"
      },
      "source": [
        "import numpy as np\r\n",
        "import pandas as pd\r\n",
        "from sklearn import preprocessing\r\n",
        "from sklearn.model_selection import train_test_split\r\n",
        "from sklearn.linear_model import LinearRegression"
      ],
      "execution_count": 4,
      "outputs": []
    },
    {
      "cell_type": "markdown",
      "metadata": {
        "id": "mKLDktRWVSge"
      },
      "source": [
        "#**4- Read Data**"
      ]
    },
    {
      "cell_type": "code",
      "metadata": {
        "colab": {
          "base_uri": "https://localhost:8080/"
        },
        "id": "EAwT1IcvJpha",
        "outputId": "be2e6a30-b05e-4806-899a-220d6e8cfda6"
      },
      "source": [
        "from google.colab import drive\r\n",
        "drive.mount('/content/drive')"
      ],
      "execution_count": 1,
      "outputs": [
        {
          "output_type": "stream",
          "text": [
            "Mounted at /content/drive\n"
          ],
          "name": "stdout"
        }
      ]
    },
    {
      "cell_type": "code",
      "metadata": {
        "id": "pmO--ZoiL5qu"
      },
      "source": [
        "df = pd.read_csv(\"/content/drive/My Drive/Datasets/Stock Price Prediction/stock_data.csv\")\r\n",
        "#df = df[df.symbol == \"GOOG\"]"
      ],
      "execution_count": 12,
      "outputs": []
    },
    {
      "cell_type": "markdown",
      "metadata": {
        "id": "kQ1R6zXwVcIk"
      },
      "source": [
        "# **5- Preprocessing**"
      ]
    },
    {
      "cell_type": "code",
      "metadata": {
        "id": "ei1ocSYgNE2u"
      },
      "source": [
        "df "
      ],
      "execution_count": null,
      "outputs": []
    },
    {
      "cell_type": "code",
      "metadata": {
        "id": "_3n6O9DJOgoy"
      },
      "source": [
        "cols = [1,2,3,4,5,7]"
      ],
      "execution_count": 14,
      "outputs": []
    },
    {
      "cell_type": "code",
      "metadata": {
        "id": "jfbe5FQKOnDK"
      },
      "source": [
        "df = df[df.columns[cols]]\r\n"
      ],
      "execution_count": 15,
      "outputs": []
    },
    {
      "cell_type": "code",
      "metadata": {
        "id": "SIGUmEFmOqHy"
      },
      "source": [
        "df"
      ],
      "execution_count": null,
      "outputs": []
    },
    {
      "cell_type": "code",
      "metadata": {
        "id": "RcJqZxRARsig"
      },
      "source": [
        "X=df.drop(columns=['Close'])"
      ],
      "execution_count": 21,
      "outputs": []
    },
    {
      "cell_type": "code",
      "metadata": {
        "colab": {
          "base_uri": "https://localhost:8080/",
          "height": 419
        },
        "id": "LRl0PPQ9R4qu",
        "outputId": "51909d30-a02e-411a-f557-e1757c172ded"
      },
      "source": [
        "X"
      ],
      "execution_count": 27,
      "outputs": [
        {
          "output_type": "execute_result",
          "data": {
            "text/html": [
              "<div>\n",
              "<style scoped>\n",
              "    .dataframe tbody tr th:only-of-type {\n",
              "        vertical-align: middle;\n",
              "    }\n",
              "\n",
              "    .dataframe tbody tr th {\n",
              "        vertical-align: top;\n",
              "    }\n",
              "\n",
              "    .dataframe thead th {\n",
              "        text-align: right;\n",
              "    }\n",
              "</style>\n",
              "<table border=\"1\" class=\"dataframe\">\n",
              "  <thead>\n",
              "    <tr style=\"text-align: right;\">\n",
              "      <th></th>\n",
              "      <th>Open</th>\n",
              "      <th>High</th>\n",
              "      <th>Low</th>\n",
              "      <th>Volume</th>\n",
              "      <th>Stock</th>\n",
              "    </tr>\n",
              "  </thead>\n",
              "  <tbody>\n",
              "    <tr>\n",
              "      <th>0</th>\n",
              "      <td>0.42388</td>\n",
              "      <td>0.42902</td>\n",
              "      <td>0.41874</td>\n",
              "      <td>23220030</td>\n",
              "      <td>AAPL</td>\n",
              "    </tr>\n",
              "    <tr>\n",
              "      <th>1</th>\n",
              "      <td>0.42388</td>\n",
              "      <td>0.42516</td>\n",
              "      <td>0.41366</td>\n",
              "      <td>18022532</td>\n",
              "      <td>AAPL</td>\n",
              "    </tr>\n",
              "    <tr>\n",
              "      <th>2</th>\n",
              "      <td>0.42516</td>\n",
              "      <td>0.43668</td>\n",
              "      <td>0.42516</td>\n",
              "      <td>42498199</td>\n",
              "      <td>AAPL</td>\n",
              "    </tr>\n",
              "    <tr>\n",
              "      <th>3</th>\n",
              "      <td>0.42902</td>\n",
              "      <td>0.43157</td>\n",
              "      <td>0.41618</td>\n",
              "      <td>37125801</td>\n",
              "      <td>AAPL</td>\n",
              "    </tr>\n",
              "    <tr>\n",
              "      <th>4</th>\n",
              "      <td>0.43927</td>\n",
              "      <td>0.44052</td>\n",
              "      <td>0.43927</td>\n",
              "      <td>57822062</td>\n",
              "      <td>AAPL</td>\n",
              "    </tr>\n",
              "    <tr>\n",
              "      <th>...</th>\n",
              "      <td>...</td>\n",
              "      <td>...</td>\n",
              "      <td>...</td>\n",
              "      <td>...</td>\n",
              "      <td>...</td>\n",
              "    </tr>\n",
              "    <tr>\n",
              "      <th>19581</th>\n",
              "      <td>178.56000</td>\n",
              "      <td>180.45000</td>\n",
              "      <td>178.31000</td>\n",
              "      <td>13275578</td>\n",
              "      <td>FB</td>\n",
              "    </tr>\n",
              "    <tr>\n",
              "      <th>19582</th>\n",
              "      <td>180.50000</td>\n",
              "      <td>180.74800</td>\n",
              "      <td>179.40300</td>\n",
              "      <td>12903836</td>\n",
              "      <td>FB</td>\n",
              "    </tr>\n",
              "    <tr>\n",
              "      <th>19583</th>\n",
              "      <td>179.79000</td>\n",
              "      <td>180.35000</td>\n",
              "      <td>179.11000</td>\n",
              "      <td>10467606</td>\n",
              "      <td>FB</td>\n",
              "    </tr>\n",
              "    <tr>\n",
              "      <th>19584</th>\n",
              "      <td>178.31000</td>\n",
              "      <td>179.40000</td>\n",
              "      <td>177.09000</td>\n",
              "      <td>12602188</td>\n",
              "      <td>FB</td>\n",
              "    </tr>\n",
              "    <tr>\n",
              "      <th>19585</th>\n",
              "      <td>178.35000</td>\n",
              "      <td>179.10000</td>\n",
              "      <td>177.96000</td>\n",
              "      <td>11060355</td>\n",
              "      <td>FB</td>\n",
              "    </tr>\n",
              "  </tbody>\n",
              "</table>\n",
              "<p>19586 rows × 5 columns</p>\n",
              "</div>"
            ],
            "text/plain": [
              "            Open       High        Low    Volume Stock\n",
              "0        0.42388    0.42902    0.41874  23220030  AAPL\n",
              "1        0.42388    0.42516    0.41366  18022532  AAPL\n",
              "2        0.42516    0.43668    0.42516  42498199  AAPL\n",
              "3        0.42902    0.43157    0.41618  37125801  AAPL\n",
              "4        0.43927    0.44052    0.43927  57822062  AAPL\n",
              "...          ...        ...        ...       ...   ...\n",
              "19581  178.56000  180.45000  178.31000  13275578    FB\n",
              "19582  180.50000  180.74800  179.40300  12903836    FB\n",
              "19583  179.79000  180.35000  179.11000  10467606    FB\n",
              "19584  178.31000  179.40000  177.09000  12602188    FB\n",
              "19585  178.35000  179.10000  177.96000  11060355    FB\n",
              "\n",
              "[19586 rows x 5 columns]"
            ]
          },
          "metadata": {
            "tags": []
          },
          "execution_count": 27
        }
      ]
    },
    {
      "cell_type": "code",
      "metadata": {
        "id": "xxrj4koVSEH-"
      },
      "source": [
        "cols = [3]\r\n",
        "Y = df[df.columns[cols]]"
      ],
      "execution_count": 24,
      "outputs": []
    },
    {
      "cell_type": "code",
      "metadata": {
        "id": "6s1O7-yHSlFw"
      },
      "source": [
        "Y"
      ],
      "execution_count": null,
      "outputs": []
    },
    {
      "cell_type": "code",
      "metadata": {
        "id": "ddZb6VHTS3R1"
      },
      "source": [
        "X.select_dtypes(include=['object']).columns"
      ],
      "execution_count": null,
      "outputs": []
    },
    {
      "cell_type": "code",
      "metadata": {
        "id": "wgwM_JEmTB31"
      },
      "source": [
        "X['Stock'] = X['Stock'].fillna(X['Stock'].mode()[0])\r\n"
      ],
      "execution_count": 29,
      "outputs": []
    },
    {
      "cell_type": "code",
      "metadata": {
        "id": "zwHSfWrQTWHG"
      },
      "source": [
        "# Convert categorical features to continuous features with Label Encoding\r\n",
        "from sklearn.preprocessing import LabelEncoder\r\n",
        "lencoders = {}\r\n",
        "for col in X.select_dtypes(include=['object']).columns:\r\n",
        "    lencoders[col] = LabelEncoder()\r\n",
        "    X[col] = lencoders[col].fit_transform(X[col])"
      ],
      "execution_count": 31,
      "outputs": []
    },
    {
      "cell_type": "code",
      "metadata": {
        "id": "f7MBY2ySTqcl"
      },
      "source": [
        "X"
      ],
      "execution_count": null,
      "outputs": []
    },
    {
      "cell_type": "code",
      "metadata": {
        "id": "ueM201HKT0h9"
      },
      "source": [
        "import warnings\r\n",
        "warnings.filterwarnings(\"ignore\")\r\n",
        "# Multiple Imputation by Chained Equations\r\n",
        "from sklearn.experimental import enable_iterative_imputer\r\n",
        "from sklearn.impute import IterativeImputer\r\n",
        "MiceImputed = X.copy(deep=True) \r\n",
        "mice_imputer = IterativeImputer()\r\n",
        "MiceImputed.iloc[:, :] = mice_imputer.fit_transform(X)"
      ],
      "execution_count": 33,
      "outputs": []
    },
    {
      "cell_type": "code",
      "metadata": {
        "id": "yXsERht8T7tt"
      },
      "source": [
        "MiceImputed"
      ],
      "execution_count": null,
      "outputs": []
    },
    {
      "cell_type": "code",
      "metadata": {
        "id": "Bb_06ov3UAsF"
      },
      "source": [
        "X=MiceImputed"
      ],
      "execution_count": 35,
      "outputs": []
    },
    {
      "cell_type": "code",
      "metadata": {
        "id": "L7I1QYMaUMbk"
      },
      "source": [
        "# Standardizing data\r\n",
        "from sklearn import preprocessing\r\n",
        "r_scaler = preprocessing.MinMaxScaler()\r\n",
        "r_scaler.fit(MiceImputed)\r\n",
        "modified_data = pd.DataFrame(r_scaler.transform(MiceImputed), index=MiceImputed.index, columns=MiceImputed.columns)"
      ],
      "execution_count": 36,
      "outputs": []
    },
    {
      "cell_type": "code",
      "metadata": {
        "id": "86nOO0bKUPjU"
      },
      "source": [
        "modified_data"
      ],
      "execution_count": null,
      "outputs": []
    },
    {
      "cell_type": "markdown",
      "metadata": {
        "id": "hPlyXHJAVkTz"
      },
      "source": [
        "# **6-Data Spliiting** "
      ]
    },
    {
      "cell_type": "code",
      "metadata": {
        "id": "71jffCRgUcOm"
      },
      "source": [
        "X_train, X_test, y_train, y_test = train_test_split(modified_data, Y, test_size=0.30, random_state=100)"
      ],
      "execution_count": 39,
      "outputs": []
    },
    {
      "cell_type": "markdown",
      "metadata": {
        "id": "QskbptQ1VrTN"
      },
      "source": [
        "# **7- Build Model**"
      ]
    },
    {
      "cell_type": "code",
      "metadata": {
        "id": "8F1phluiUsJV"
      },
      "source": [
        "learner = LinearRegression() #initializing linear regression model\r\n"
      ],
      "execution_count": 40,
      "outputs": []
    },
    {
      "cell_type": "code",
      "metadata": {
        "id": "VKRHuF6OUt9k"
      },
      "source": [
        "learner.fit(X_train,y_train) #training the linear regression model"
      ],
      "execution_count": null,
      "outputs": []
    },
    {
      "cell_type": "code",
      "metadata": {
        "id": "6So1IOd9U6ZE"
      },
      "source": [
        "score=learner.score(X_test,y_test)#testing the linear regression model\r\n"
      ],
      "execution_count": 42,
      "outputs": []
    },
    {
      "cell_type": "code",
      "metadata": {
        "id": "1AI19aLJVE8r"
      },
      "source": [
        "score"
      ],
      "execution_count": null,
      "outputs": []
    },
    {
      "cell_type": "markdown",
      "metadata": {
        "id": "V3BsycdObb0g"
      },
      "source": [
        "# **Reference** \r\n",
        "[Stock Price Prediction using Machine Learning](https://thecleverprogrammer.com/2020/11/14/stock-price-prediction-using-machine-learning/)"
      ]
    }
  ]
}