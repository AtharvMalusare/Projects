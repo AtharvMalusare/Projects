{
  "nbformat": 4,
  "nbformat_minor": 0,
  "metadata": {
    "colab": {
      "name": "Data Science Project on Area and Population.ipynb",
      "provenance": [],
      "collapsed_sections": []
    },
    "kernelspec": {
      "name": "python3",
      "display_name": "Python 3"
    },
    "language_info": {
      "name": "python"
    }
  },
  "cells": [
    {
      "cell_type": "markdown",
      "metadata": {
        "id": "vwhNM-sPzs1G"
      },
      "source": [
        "# **Datasets**\n",
        "\n",
        "In this project we’ll use the size of points to indicate the area and populations of California cities. We would like a legend that specifies the scale of the sizes of the points, and we’ll accomplish this by plotting some labeled data with no entries."
      ]
    },
    {
      "cell_type": "code",
      "metadata": {
        "id": "m7FlbPEV0zi3"
      },
      "source": [
        "from google.colab import drive\n",
        "drive.mount('/content/drive')"
      ],
      "execution_count": null,
      "outputs": []
    },
    {
      "cell_type": "code",
      "metadata": {
        "id": "X2jENpNnzbZx"
      },
      "source": [
        "import pandas as pd\n",
        "cities  = pd.read_csv(\"/content/drive/MyDrive/Datasets/Area and Population/california_cities.csv\") "
      ],
      "execution_count": 23,
      "outputs": []
    },
    {
      "cell_type": "code",
      "metadata": {
        "colab": {
          "base_uri": "https://localhost:8080/",
          "height": 241
        },
        "id": "Lgxv7dQV150H",
        "outputId": "17ff1596-5c48-4dee-efda-b6871c5f49d3"
      },
      "source": [
        "cities.head()"
      ],
      "execution_count": 24,
      "outputs": [
        {
          "output_type": "execute_result",
          "data": {
            "text/html": [
              "<div>\n",
              "<style scoped>\n",
              "    .dataframe tbody tr th:only-of-type {\n",
              "        vertical-align: middle;\n",
              "    }\n",
              "\n",
              "    .dataframe tbody tr th {\n",
              "        vertical-align: top;\n",
              "    }\n",
              "\n",
              "    .dataframe thead th {\n",
              "        text-align: right;\n",
              "    }\n",
              "</style>\n",
              "<table border=\"1\" class=\"dataframe\">\n",
              "  <thead>\n",
              "    <tr style=\"text-align: right;\">\n",
              "      <th></th>\n",
              "      <th>Unnamed: 0</th>\n",
              "      <th>city</th>\n",
              "      <th>latd</th>\n",
              "      <th>longd</th>\n",
              "      <th>elevation_m</th>\n",
              "      <th>elevation_ft</th>\n",
              "      <th>population_total</th>\n",
              "      <th>area_total_sq_mi</th>\n",
              "      <th>area_land_sq_mi</th>\n",
              "      <th>area_water_sq_mi</th>\n",
              "      <th>area_total_km2</th>\n",
              "      <th>area_land_km2</th>\n",
              "      <th>area_water_km2</th>\n",
              "      <th>area_water_percent</th>\n",
              "    </tr>\n",
              "  </thead>\n",
              "  <tbody>\n",
              "    <tr>\n",
              "      <th>0</th>\n",
              "      <td>0</td>\n",
              "      <td>Adelanto</td>\n",
              "      <td>34.576111</td>\n",
              "      <td>-117.432778</td>\n",
              "      <td>875.0</td>\n",
              "      <td>2871.0</td>\n",
              "      <td>31765</td>\n",
              "      <td>56.027</td>\n",
              "      <td>56.009</td>\n",
              "      <td>0.018</td>\n",
              "      <td>145.107</td>\n",
              "      <td>145.062</td>\n",
              "      <td>0.046</td>\n",
              "      <td>0.03</td>\n",
              "    </tr>\n",
              "    <tr>\n",
              "      <th>1</th>\n",
              "      <td>1</td>\n",
              "      <td>AgouraHills</td>\n",
              "      <td>34.153333</td>\n",
              "      <td>-118.761667</td>\n",
              "      <td>281.0</td>\n",
              "      <td>922.0</td>\n",
              "      <td>20330</td>\n",
              "      <td>7.822</td>\n",
              "      <td>7.793</td>\n",
              "      <td>0.029</td>\n",
              "      <td>20.260</td>\n",
              "      <td>20.184</td>\n",
              "      <td>0.076</td>\n",
              "      <td>0.37</td>\n",
              "    </tr>\n",
              "    <tr>\n",
              "      <th>2</th>\n",
              "      <td>2</td>\n",
              "      <td>Alameda</td>\n",
              "      <td>37.756111</td>\n",
              "      <td>-122.274444</td>\n",
              "      <td>NaN</td>\n",
              "      <td>33.0</td>\n",
              "      <td>75467</td>\n",
              "      <td>22.960</td>\n",
              "      <td>10.611</td>\n",
              "      <td>12.349</td>\n",
              "      <td>59.465</td>\n",
              "      <td>27.482</td>\n",
              "      <td>31.983</td>\n",
              "      <td>53.79</td>\n",
              "    </tr>\n",
              "    <tr>\n",
              "      <th>3</th>\n",
              "      <td>3</td>\n",
              "      <td>Albany</td>\n",
              "      <td>37.886944</td>\n",
              "      <td>-122.297778</td>\n",
              "      <td>NaN</td>\n",
              "      <td>43.0</td>\n",
              "      <td>18969</td>\n",
              "      <td>5.465</td>\n",
              "      <td>1.788</td>\n",
              "      <td>3.677</td>\n",
              "      <td>14.155</td>\n",
              "      <td>4.632</td>\n",
              "      <td>9.524</td>\n",
              "      <td>67.28</td>\n",
              "    </tr>\n",
              "    <tr>\n",
              "      <th>4</th>\n",
              "      <td>4</td>\n",
              "      <td>Alhambra</td>\n",
              "      <td>34.081944</td>\n",
              "      <td>-118.135000</td>\n",
              "      <td>150.0</td>\n",
              "      <td>492.0</td>\n",
              "      <td>83089</td>\n",
              "      <td>7.632</td>\n",
              "      <td>7.631</td>\n",
              "      <td>0.001</td>\n",
              "      <td>19.766</td>\n",
              "      <td>19.763</td>\n",
              "      <td>0.003</td>\n",
              "      <td>0.01</td>\n",
              "    </tr>\n",
              "  </tbody>\n",
              "</table>\n",
              "</div>"
            ],
            "text/plain": [
              "   Unnamed: 0         city  ...  area_water_km2  area_water_percent\n",
              "0           0     Adelanto  ...           0.046                0.03\n",
              "1           1  AgouraHills  ...           0.076                0.37\n",
              "2           2      Alameda  ...          31.983               53.79\n",
              "3           3       Albany  ...           9.524               67.28\n",
              "4           4     Alhambra  ...           0.003                0.01\n",
              "\n",
              "[5 rows x 14 columns]"
            ]
          },
          "metadata": {
            "tags": []
          },
          "execution_count": 24
        }
      ]
    },
    {
      "cell_type": "code",
      "metadata": {
        "id": "Byh5JpI12w8p"
      },
      "source": [
        "# extracting the data we ar interested in\n",
        "latitude, longitude = cities[\"latd\"], cities[\"longd\"]\n",
        "population, area = cities[\"population_total\"], cities[\"area_total_km2\"]"
      ],
      "execution_count": 25,
      "outputs": []
    },
    {
      "cell_type": "code",
      "metadata": {
        "id": "XnE1NmOx78uA"
      },
      "source": [
        "# to scatter the points, using size and color but without label\n",
        "import numpy as np\n",
        "import matplotlib.pyplot as plt\n",
        "import seaborn\n",
        "seaborn.set()\n",
        "plt.scatter(longitude, latitude, label=None, c=np.log10(population),\n",
        "            cmap='viridis', s=area, linewidth=0, alpha=0.5)\n",
        "plt.axis(aspect='equal')\n",
        "plt.xlabel('Longitude')\n",
        "plt.ylabel('Longitude')\n",
        "plt.colorbar(label='log$_{10}$(population)')\n",
        "plt.clim(3, 7)\n",
        "# now we will craete a legend, we will plot empty lists with the desired size and label\n",
        "for area in [100, 300, 500]:\n",
        "    plt.scatter([], [], c='k', alpha=0.3, s=area, label=str(area) + 'km$^2$')\n",
        "plt.legend(scatterpoints=1, frameon=False, labelspacing=1, title='City Areas')\n",
        "plt.title(\"Area and Population of California Cities\")\n",
        "plt.show()"
      ],
      "execution_count": null,
      "outputs": []
    },
    {
      "cell_type": "markdown",
      "metadata": {
        "id": "ImiW7uD94qUu"
      },
      "source": [
        "# **References**"
      ]
    },
    {
      "cell_type": "markdown",
      "metadata": {
        "id": "8JCjJCjP4u_p"
      },
      "source": [
        "[Data Science Project on Area and Population](https://thecleverprogrammer.com/2020/05/09/data-science-project-on-area-and-population/)"
      ]
    }
  ]
}