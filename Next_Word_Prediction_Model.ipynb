{
  "nbformat": 4,
  "nbformat_minor": 0,
  "metadata": {
    "colab": {
      "provenance": [],
      "toc_visible": true,
      "authorship_tag": "ABX9TyNFf5W/Cf1BwSJ8MRcPGB5z",
      "include_colab_link": true
    },
    "kernelspec": {
      "name": "python3",
      "display_name": "Python 3"
    },
    "language_info": {
      "name": "python"
    }
  },
  "cells": [
    {
      "cell_type": "markdown",
      "metadata": {
        "id": "view-in-github",
        "colab_type": "text"
      },
      "source": [
        "<a href=\"https://colab.research.google.com/github/hussain0048/Projects-/blob/master/Next_Word_Prediction_Model.ipynb\" target=\"_parent\"><img src=\"https://colab.research.google.com/assets/colab-badge.svg\" alt=\"Open In Colab\"/></a>"
      ]
    },
    {
      "cell_type": "markdown",
      "source": [
        "# **Introduction**"
      ],
      "metadata": {
        "id": "Z6FcOtuKD-45"
      }
    },
    {
      "cell_type": "markdown",
      "source": [
        "Most of the keyboards in smartphones give next word prediction features; google also uses next word prediction based on our browsing history. So a preloaded data is also stored in the keyboard function of our smartphones to predict the next word correctly."
      ],
      "metadata": {
        "id": "ZSlATptKEE0Z"
      }
    },
    {
      "cell_type": "markdown",
      "source": [
        "# **Table of Content**"
      ],
      "metadata": {
        "id": "W47NdJsKEIwv"
      }
    },
    {
      "cell_type": "markdown",
      "source": [
        "# **Techniques and Libraries**"
      ],
      "metadata": {
        "id": "hYdz0Dd8EPK_"
      }
    },
    {
      "cell_type": "markdown",
      "source": [
        "\n",
        "\n",
        "*    Keras library\n",
        "*   \n",
        "\n"
      ],
      "metadata": {
        "id": "g-txLfUVEhY_"
      }
    },
    {
      "cell_type": "markdown",
      "source": [
        "# **Import libraries**"
      ],
      "metadata": {
        "id": "RlQs8u0kEtpP"
      }
    },
    {
      "cell_type": "code",
      "source": [],
      "metadata": {
        "id": "pyuDMENBFSlo"
      },
      "execution_count": null,
      "outputs": []
    },
    {
      "cell_type": "code",
      "execution_count": 3,
      "metadata": {
        "id": "L6ZhWXfY2b5e"
      },
      "outputs": [],
      "source": [
        "import numpy as np\n",
        "from nltk.tokenize import RegexpTokenizer\n",
        "from keras.models import Sequential, load_model\n",
        "from keras.layers import LSTM, Dense, Activation # import Dense and Activation directly from keras.layers\n",
        "from keras.optimizers import RMSprop\n",
        "import matplotlib.pyplot as plt\n",
        "import pickle\n",
        "import heapq"
      ]
    },
    {
      "cell_type": "markdown",
      "source": [
        "# **References**"
      ],
      "metadata": {
        "id": "Rfq5lKZ32hgM"
      }
    },
    {
      "cell_type": "markdown",
      "source": [
        "[1-Next Word Prediction Model](https://thecleverprogrammer.com/2020/07/20/next-word-prediction-model/)"
      ],
      "metadata": {
        "id": "DORoprVG2nxg"
      }
    }
  ]
}