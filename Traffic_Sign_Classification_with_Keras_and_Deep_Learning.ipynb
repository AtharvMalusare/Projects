{
  "nbformat": 4,
  "nbformat_minor": 0,
  "metadata": {
    "colab": {
      "provenance": [],
      "toc_visible": true,
      "authorship_tag": "ABX9TyMgIOSFqjU9vky9DW/1Bjs6",
      "include_colab_link": true
    },
    "kernelspec": {
      "name": "python3",
      "display_name": "Python 3"
    },
    "language_info": {
      "name": "python"
    }
  },
  "cells": [
    {
      "cell_type": "markdown",
      "metadata": {
        "id": "view-in-github",
        "colab_type": "text"
      },
      "source": [
        "<a href=\"https://colab.research.google.com/github/hussain0048/Projects/blob/master/Traffic_Sign_Classification_with_Keras_and_Deep_Learning.ipynb\" target=\"_parent\"><img src=\"https://colab.research.google.com/assets/colab-badge.svg\" alt=\"Open In Colab\"/></a>"
      ]
    },
    {
      "cell_type": "code",
      "execution_count": null,
      "metadata": {
        "id": "R2-qLumoBqQe"
      },
      "outputs": [],
      "source": []
    },
    {
      "cell_type": "markdown",
      "source": [
        "#**Introduction**"
      ],
      "metadata": {
        "id": "blvh0tqoCOSu"
      }
    },
    {
      "cell_type": "markdown",
      "source": [
        "In the first part of this tutorial, we’ll discuss the concept of traffic sign classification and recognition, including the dataset we’ll be using to train our own custom traffic sign classifier.We’ll then implement TrafficSignNet, a Convolutional Neural Network which we’ll train on our dataset.\n",
        "\n",
        "Given our trained model we’ll evaluate its accuracy on the test data and even learn how to make predictions on new input data as well."
      ],
      "metadata": {
        "id": "AFEB2oPaEFXU"
      }
    },
    {
      "cell_type": "markdown",
      "source": [
        "#**What is traffic sign classification?**\n"
      ],
      "metadata": {
        "id": "Xi9hivCaEdT7"
      }
    },
    {
      "cell_type": "markdown",
      "source": [
        "Traffic sign classification is the process of automatically recognizing traffic signs along the road, including speed limit signs, yield signs, merge signs, etc. Being able to automatically recognize traffic signs enables us to build “smarter cars”.\n",
        "\n",
        "Self-driving cars need traffic sign recognition in order to properly parse and understand the roadway. Similarly, “driver alert” systems inside cars need to understand the roadway around them to help aid and protect drivers.\n",
        "\n",
        "Traffic sign recognition is just one of the problems that computer vision and deep learning can solve."
      ],
      "metadata": {
        "id": "CgumbgpFE1gC"
      }
    },
    {
      "cell_type": "markdown",
      "source": [
        "#  **Traffic sign dataset**"
      ],
      "metadata": {
        "id": "kgNZcqE6FFJC"
      }
    },
    {
      "cell_type": "markdown",
      "source": [
        "The dataset we’ll be using to train our own custom traffic sign classifier is the German Traffic Sign Recognition Benchmark (GTSRB).\n",
        "\n"
      ],
      "metadata": {
        "id": "yxzog4mqFbrS"
      }
    },
    {
      "cell_type": "markdown",
      "source": [
        "The GTSRB dataset consists of 43 traffic sign classes and nearly 50,000 images."
      ],
      "metadata": {
        "id": "bc-23EVjFltR"
      }
    },
    {
      "cell_type": "markdown",
      "source": [
        "In the real-world, traffic sign recognition is a two-stage process:\n",
        "\n",
        "Localization: Detect and localize where in an input image/frame a traffic sign is.\n",
        "Recognition: Take the localized ROI and actually recognize and classify the traffic sign.\n",
        "Deep learning object detectors can perform localization and recognition in a single forward-pass of the network — if you’re interested in learning more about object detection and traffic sign localization using Faster R-CNNs, Single Shot Detectors (SSDs), and RetinaNet, be sure to refer to my book, Deep Learning for Computer Vision with Python, where I cover the topic in detail."
      ],
      "metadata": {
        "id": "ZKzH4irdF0dA"
      }
    },
    {
      "cell_type": "markdown",
      "source": [
        "# **Challenges with the GTSRB dataset**"
      ],
      "metadata": {
        "id": "9pSTHHnVHc9j"
      }
    },
    {
      "cell_type": "markdown",
      "source": [
        "There are a number of challenges in the GTSRB dataset, the first being that images are low resolution, and worse, have poor contrast (as seen in Figure 2 above). These images are pixelated, and in some cases, it’s extremely challenging, if not impossible, for the human eye and brain to recognize the sign.\n",
        "\n",
        "The second challenge with the dataset is handling class skew:"
      ],
      "metadata": {
        "id": "Ttu5WTV3HxYp"
      }
    },
    {
      "cell_type": "markdown",
      "source": [
        "The top class (Speed limit 50km/h) has over 2,000 examples while the least represented class (Speed limit 20km/h) has under 200 examples — that’s an order of magnitude difference!\n",
        "\n",
        "In order to successfully train an accurate traffic sign classifier we’ll need to devise an experiment that can:\n",
        "\n",
        "Preprocess our input images to improve contrast.\n",
        "Account for class label skew."
      ],
      "metadata": {
        "id": "KQXGJ-FuH7vw"
      }
    },
    {
      "cell_type": "markdown",
      "source": [
        "# **Configuring your development environment**\n"
      ],
      "metadata": {
        "id": "MqG50Y_bIaZt"
      }
    },
    {
      "cell_type": "markdown",
      "source": [
        "For this article, you’ll need to have the following packages installed:\n",
        "\n",
        "1. OpenCV\n",
        "2. NumPy\n",
        "3. scikit-learn\n",
        "4. scikit-image\n",
        "5. imutils\n",
        "6. matplotlib\n",
        "7. TensorFlow 2.0 (CPU or GPU)\n",
        "\n",
        "Luckily each of these is easily installed with pip, a Python package manager.\n",
        "\n",
        "Let’s install the packages now, ideally into a virtual environment as shown (you’ll need to create the environment):"
      ],
      "metadata": {
        "id": "lUISQe-AIv5d"
      }
    },
    {
      "cell_type": "code",
      "source": [
        "\n",
        "!pip install opencv-contrib-python\n",
        "!pip install numpy\n",
        "!pip install scikit-learn\n",
        "!pip install scikit-image\n",
        "!pip install imutils\n",
        "!pip install matplotlib\n",
        "!pip install tensorflow==2.0.0 # or tensorflow-gpu"
      ],
      "metadata": {
        "id": "-lA0pqLKJHiL"
      },
      "execution_count": null,
      "outputs": []
    },
    {
      "cell_type": "markdown",
      "source": [
        "#**References**"
      ],
      "metadata": {
        "id": "WeXOPxIIB412"
      }
    },
    {
      "cell_type": "markdown",
      "source": [
        "[1-Traffic Sign Classification with Keras and Deep Learning](https://pyimagesearch.com/2019/11/04/traffic-sign-classification-with-keras-and-deep-learning/)"
      ],
      "metadata": {
        "id": "XfR0KHaqB_T2"
      }
    }
  ]
}