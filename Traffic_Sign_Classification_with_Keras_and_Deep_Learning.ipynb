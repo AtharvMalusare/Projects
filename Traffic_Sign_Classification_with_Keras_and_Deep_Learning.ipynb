{
  "nbformat": 4,
  "nbformat_minor": 0,
  "metadata": {
    "colab": {
      "provenance": [],
      "toc_visible": true,
      "authorship_tag": "ABX9TyOoycX4klOJQJWyjcY01oQa",
      "include_colab_link": true
    },
    "kernelspec": {
      "name": "python3",
      "display_name": "Python 3"
    },
    "language_info": {
      "name": "python"
    }
  },
  "cells": [
    {
      "cell_type": "markdown",
      "metadata": {
        "id": "view-in-github",
        "colab_type": "text"
      },
      "source": [
        "<a href=\"https://colab.research.google.com/github/hussain0048/Projects/blob/master/Traffic_Sign_Classification_with_Keras_and_Deep_Learning.ipynb\" target=\"_parent\"><img src=\"https://colab.research.google.com/assets/colab-badge.svg\" alt=\"Open In Colab\"/></a>"
      ]
    },
    {
      "cell_type": "code",
      "execution_count": null,
      "metadata": {
        "id": "R2-qLumoBqQe"
      },
      "outputs": [],
      "source": []
    },
    {
      "cell_type": "markdown",
      "source": [
        "#**Introduction**"
      ],
      "metadata": {
        "id": "blvh0tqoCOSu"
      }
    },
    {
      "cell_type": "markdown",
      "source": [
        "In the first part of this tutorial, we’ll discuss the concept of traffic sign classification and recognition, including the dataset we’ll be using to train our own custom traffic sign classifier.We’ll then implement TrafficSignNet, a Convolutional Neural Network which we’ll train on our dataset.\n",
        "\n",
        "Given our trained model we’ll evaluate its accuracy on the test data and even learn how to make predictions on new input data as well."
      ],
      "metadata": {
        "id": "AFEB2oPaEFXU"
      }
    },
    {
      "cell_type": "markdown",
      "source": [
        "#**What is traffic sign classification?**\n"
      ],
      "metadata": {
        "id": "Xi9hivCaEdT7"
      }
    },
    {
      "cell_type": "markdown",
      "source": [
        "Traffic sign classification is the process of automatically recognizing traffic signs along the road, including speed limit signs, yield signs, merge signs, etc. Being able to automatically recognize traffic signs enables us to build “smarter cars”.\n",
        "\n",
        "Self-driving cars need traffic sign recognition in order to properly parse and understand the roadway. Similarly, “driver alert” systems inside cars need to understand the roadway around them to help aid and protect drivers.\n",
        "\n",
        "Traffic sign recognition is just one of the problems that computer vision and deep learning can solve."
      ],
      "metadata": {
        "id": "CgumbgpFE1gC"
      }
    },
    {
      "cell_type": "markdown",
      "source": [
        "#  **Traffic sign dataset**"
      ],
      "metadata": {
        "id": "kgNZcqE6FFJC"
      }
    },
    {
      "cell_type": "markdown",
      "source": [
        "The dataset we’ll be using to train our own custom traffic sign classifier is the German Traffic Sign Recognition Benchmark (GTSRB).\n",
        "\n"
      ],
      "metadata": {
        "id": "yxzog4mqFbrS"
      }
    },
    {
      "cell_type": "markdown",
      "source": [
        "The GTSRB dataset consists of 43 traffic sign classes and nearly 50,000 images."
      ],
      "metadata": {
        "id": "bc-23EVjFltR"
      }
    },
    {
      "cell_type": "markdown",
      "source": [
        "In the real-world, traffic sign recognition is a two-stage process:\n",
        "\n",
        "Localization: Detect and localize where in an input image/frame a traffic sign is.\n",
        "Recognition: Take the localized ROI and actually recognize and classify the traffic sign.\n",
        "Deep learning object detectors can perform localization and recognition in a single forward-pass of the network — if you’re interested in learning more about object detection and traffic sign localization using Faster R-CNNs, Single Shot Detectors (SSDs), and RetinaNet, be sure to refer to my book, Deep Learning for Computer Vision with Python, where I cover the topic in detail."
      ],
      "metadata": {
        "id": "ZKzH4irdF0dA"
      }
    },
    {
      "cell_type": "markdown",
      "source": [
        "# **Challenges with the GTSRB dataset**"
      ],
      "metadata": {
        "id": "9pSTHHnVHc9j"
      }
    },
    {
      "cell_type": "markdown",
      "source": [
        "There are a number of challenges in the GTSRB dataset, the first being that images are low resolution, and worse, have poor contrast (as seen in Figure 2 above). These images are pixelated, and in some cases, it’s extremely challenging, if not impossible, for the human eye and brain to recognize the sign.\n",
        "\n",
        "The second challenge with the dataset is handling class skew:"
      ],
      "metadata": {
        "id": "Ttu5WTV3HxYp"
      }
    },
    {
      "cell_type": "markdown",
      "source": [
        "The top class (Speed limit 50km/h) has over 2,000 examples while the least represented class (Speed limit 20km/h) has under 200 examples — that’s an order of magnitude difference!\n",
        "\n",
        "In order to successfully train an accurate traffic sign classifier we’ll need to devise an experiment that can:\n",
        "\n",
        "Preprocess our input images to improve contrast.\n",
        "Account for class label skew."
      ],
      "metadata": {
        "id": "KQXGJ-FuH7vw"
      }
    },
    {
      "cell_type": "markdown",
      "source": [
        "# **Configuring your development environment**\n"
      ],
      "metadata": {
        "id": "MqG50Y_bIaZt"
      }
    },
    {
      "cell_type": "markdown",
      "source": [
        "For this article, you’ll need to have the following packages installed:\n",
        "\n",
        "1. OpenCV\n",
        "2. NumPy\n",
        "3. scikit-learn\n",
        "4. scikit-image\n",
        "5. imutils\n",
        "6. matplotlib\n",
        "7. TensorFlow 2.0 (CPU or GPU)\n",
        "\n",
        "Luckily each of these is easily installed with pip, a Python package manager.\n",
        "\n",
        "Let’s install the packages now, ideally into a virtual environment as shown (you’ll need to create the environment):"
      ],
      "metadata": {
        "id": "lUISQe-AIv5d"
      }
    },
    {
      "cell_type": "code",
      "source": [
        "\n",
        "!pip install opencv-contrib-python\n",
        "!pip install numpy\n",
        "!pip install scikit-learn\n",
        "!pip install scikit-image\n",
        "!pip install imutils\n",
        "!pip install matplotlib\n",
        "!pip install tensorflow==2.0.0 # or tensorflow-gpu"
      ],
      "metadata": {
        "id": "-lA0pqLKJHiL"
      },
      "execution_count": null,
      "outputs": []
    },
    {
      "cell_type": "markdown",
      "source": [
        "# **Import Libraries**"
      ],
      "metadata": {
        "id": "5oDGvyRdKaDQ"
      }
    },
    {
      "cell_type": "code",
      "source": [
        "import numpy as np\n",
        "import matplotlib.pyplot as plt\n",
        "from tensorflow.keras.datasets import cifar10\n",
        "from tensorflow.keras.utils import to_categorical\n",
        "from tensorflow.keras.models import Sequential\n",
        "from tensorflow.keras.layers import Conv2D, MaxPooling2D, Flatten, Dense, Dropout\n",
        "from tensorflow.keras.optimizers import Adam\n",
        "from sklearn.model_selection import train_test_split\n",
        "from sklearn.preprocessing import LabelBinarizer\n"
      ],
      "metadata": {
        "id": "pJSY7GqoKhS0"
      },
      "execution_count": 10,
      "outputs": []
    },
    {
      "cell_type": "markdown",
      "source": [
        "# **Load and Preprocess the Dataset**"
      ],
      "metadata": {
        "id": "-bfT_qojOuCn"
      }
    },
    {
      "cell_type": "code",
      "source": [
        "# Load the CIFAR-10 dataset\n",
        "(X_train, y_train), (X_test, y_test) = cifar10.load_data()\n",
        "\n",
        "# Normalize the image data\n",
        "X_train = X_train.astype('float32') / 255.0\n",
        "X_test = X_test.astype('float32') / 255.0\n",
        "\n",
        "# Convert labels to one-hot encoding\n",
        "y_train = to_categorical(y_train, 10)\n",
        "y_test = to_categorical(y_test, 10)\n"
      ],
      "metadata": {
        "id": "vO3mkCvmO4A_",
        "outputId": "c199ed6e-18e6-4db2-99c6-3de0d13d202f",
        "colab": {
          "base_uri": "https://localhost:8080/"
        }
      },
      "execution_count": 11,
      "outputs": [
        {
          "output_type": "stream",
          "name": "stdout",
          "text": [
            "Downloading data from https://www.cs.toronto.edu/~kriz/cifar-10-python.tar.gz\n",
            "\u001b[1m170498071/170498071\u001b[0m \u001b[32m━━━━━━━━━━━━━━━━━━━━\u001b[0m\u001b[37m\u001b[0m \u001b[1m2s\u001b[0m 0us/step\n"
          ]
        }
      ]
    },
    {
      "cell_type": "markdown",
      "source": [
        "#**Build the CNN Model**"
      ],
      "metadata": {
        "id": "7KnTOQdqO_Ye"
      }
    },
    {
      "cell_type": "code",
      "source": [
        "model = Sequential()\n",
        "\n",
        "# First Convolutional Layer\n",
        "model.add(Conv2D(32, (3, 3), activation='relu', input_shape=(32, 32, 3)))\n",
        "model.add(MaxPooling2D(pool_size=(2, 2)))\n",
        "\n",
        "# Second Convolutional Layer\n",
        "model.add(Conv2D(64, (3, 3), activation='relu'))\n",
        "model.add(MaxPooling2D(pool_size=(2, 2)))\n",
        "\n",
        "# Third Convolutional Layer\n",
        "model.add(Conv2D(128, (3, 3), activation='relu'))\n",
        "model.add(MaxPooling2D(pool_size=(2, 2)))\n",
        "\n",
        "# Flattening Layer\n",
        "model.add(Flatten())\n",
        "\n",
        "# Fully Connected Layer\n",
        "model.add(Dense(256, activation='relu'))\n",
        "model.add(Dropout(0.5))\n",
        "\n",
        "# Output Layer\n",
        "model.add(Dense(10, activation='softmax'))\n",
        "\n",
        "# Compile the model\n",
        "model.compile(optimizer=Adam(), loss='categorical_crossentropy', metrics=['accuracy'])\n"
      ],
      "metadata": {
        "id": "E04_T2N_PKHJ"
      },
      "execution_count": null,
      "outputs": []
    },
    {
      "cell_type": "markdown",
      "source": [
        "# **Train the CNN Model**"
      ],
      "metadata": {
        "id": "BMw3m-BxPQsF"
      }
    },
    {
      "cell_type": "code",
      "source": [
        "history = model.fit(X_train, y_train, epochs=20, batch_size=64, validation_data=(X_test, y_test))\n"
      ],
      "metadata": {
        "id": "XVBwsCdaPW3x"
      },
      "execution_count": null,
      "outputs": []
    },
    {
      "cell_type": "markdown",
      "source": [
        "# **Evaluate the Model**"
      ],
      "metadata": {
        "id": "TIM9Wl6vPcrm"
      }
    },
    {
      "cell_type": "code",
      "source": [
        "# Evaluate the model on test data\n",
        "test_loss, test_accuracy = model.evaluate(X_test, y_test)\n",
        "\n",
        "print(f'Test Accuracy: {test_accuracy:.4f}')\n"
      ],
      "metadata": {
        "id": "ND8ZneR-PkN2"
      },
      "execution_count": null,
      "outputs": []
    },
    {
      "cell_type": "markdown",
      "source": [
        "# **Plot Training History**"
      ],
      "metadata": {
        "id": "xnaHkUccPqVF"
      }
    },
    {
      "cell_type": "code",
      "source": [
        "# Plot training & validation accuracy values\n",
        "plt.figure(figsize=(12, 4))\n",
        "plt.subplot(1, 2, 1)\n",
        "plt.plot(history.history['accuracy'])\n",
        "plt.plot(history.history['val_accuracy'])\n",
        "plt.title('Model accuracy')\n",
        "plt.ylabel('Accuracy')\n",
        "plt.xlabel('Epoch')\n",
        "plt.legend(['Train', 'Test'], loc='upper left')\n",
        "\n",
        "# Plot training & validation loss values\n",
        "plt.subplot(1, 2, 2)\n",
        "plt.plot(history.history['loss'])\n",
        "plt.plot(history.history['val_loss'])\n",
        "plt.title('Model loss')\n",
        "plt.ylabel('Loss')\n",
        "plt.xlabel('Epoch')\n",
        "plt.legend(['Train', 'Test'], loc='upper left')\n",
        "\n",
        "plt.show()\n"
      ],
      "metadata": {
        "id": "tuel9Iv1PwkW"
      },
      "execution_count": null,
      "outputs": []
    },
    {
      "cell_type": "markdown",
      "source": [
        "# **Make Predictions**"
      ],
      "metadata": {
        "id": "pABZjEP8P181"
      }
    },
    {
      "cell_type": "code",
      "source": [
        "# Make predictions on the test data\n",
        "predictions = model.predict(X_test)\n",
        "\n",
        "# Display some predictions with their corresponding true labels\n",
        "for i in range(5):\n",
        "    plt.imshow(X_test[i])\n",
        "    plt.title(f'Prediction: {np.argmax(predictions[i])}, True Label: {np.argmax(y_test[i])}')\n",
        "    plt.show()\n"
      ],
      "metadata": {
        "id": "tw1DcCYVP8gW"
      },
      "execution_count": null,
      "outputs": []
    },
    {
      "cell_type": "markdown",
      "source": [
        "# **Save the Model**"
      ],
      "metadata": {
        "id": "HazTRbh3QBFe"
      }
    },
    {
      "cell_type": "code",
      "source": [
        "# Save the trained model\n",
        "model.save('traffic_sign_classifier.h5')\n"
      ],
      "metadata": {
        "id": "Dg-4WInpQHgo"
      },
      "execution_count": null,
      "outputs": []
    },
    {
      "cell_type": "markdown",
      "source": [
        "#**References**"
      ],
      "metadata": {
        "id": "WeXOPxIIB412"
      }
    },
    {
      "cell_type": "markdown",
      "source": [
        "[1-Traffic Sign Classification with Keras and Deep Learning](https://pyimagesearch.com/2019/11/04/traffic-sign-classification-with-keras-and-deep-learning/)"
      ],
      "metadata": {
        "id": "XfR0KHaqB_T2"
      }
    }
  ]
}