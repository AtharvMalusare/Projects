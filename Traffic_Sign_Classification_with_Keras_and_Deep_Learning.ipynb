{
  "nbformat": 4,
  "nbformat_minor": 0,
  "metadata": {
    "colab": {
      "provenance": [],
      "toc_visible": true,
      "authorship_tag": "ABX9TyMNyw4uh0OfgYZ43CtfimoU",
      "include_colab_link": true
    },
    "kernelspec": {
      "name": "python3",
      "display_name": "Python 3"
    },
    "language_info": {
      "name": "python"
    }
  },
  "cells": [
    {
      "cell_type": "markdown",
      "metadata": {
        "id": "view-in-github",
        "colab_type": "text"
      },
      "source": [
        "<a href=\"https://colab.research.google.com/github/hussain0048/Projects/blob/master/Traffic_Sign_Classification_with_Keras_and_Deep_Learning.ipynb\" target=\"_parent\"><img src=\"https://colab.research.google.com/assets/colab-badge.svg\" alt=\"Open In Colab\"/></a>"
      ]
    },
    {
      "cell_type": "code",
      "execution_count": null,
      "metadata": {
        "id": "R2-qLumoBqQe"
      },
      "outputs": [],
      "source": []
    },
    {
      "cell_type": "markdown",
      "source": [
        "#**Introduction**"
      ],
      "metadata": {
        "id": "blvh0tqoCOSu"
      }
    },
    {
      "cell_type": "markdown",
      "source": [
        "In the first part of this tutorial, we’ll discuss the concept of traffic sign classification and recognition, including the dataset we’ll be using to train our own custom traffic sign classifier.We’ll then implement TrafficSignNet, a Convolutional Neural Network which we’ll train on our dataset.\n",
        "\n",
        "Given our trained model we’ll evaluate its accuracy on the test data and even learn how to make predictions on new input data as well."
      ],
      "metadata": {
        "id": "AFEB2oPaEFXU"
      }
    },
    {
      "cell_type": "markdown",
      "source": [
        "#**What is traffic sign classification?**\n"
      ],
      "metadata": {
        "id": "Xi9hivCaEdT7"
      }
    },
    {
      "cell_type": "markdown",
      "source": [
        "Traffic sign classification is the process of automatically recognizing traffic signs along the road, including speed limit signs, yield signs, merge signs, etc. Being able to automatically recognize traffic signs enables us to build “smarter cars”.\n",
        "\n",
        "Self-driving cars need traffic sign recognition in order to properly parse and understand the roadway. Similarly, “driver alert” systems inside cars need to understand the roadway around them to help aid and protect drivers.\n",
        "\n",
        "Traffic sign recognition is just one of the problems that computer vision and deep learning can solve."
      ],
      "metadata": {
        "id": "CgumbgpFE1gC"
      }
    },
    {
      "cell_type": "markdown",
      "source": [
        "#**References**"
      ],
      "metadata": {
        "id": "WeXOPxIIB412"
      }
    },
    {
      "cell_type": "markdown",
      "source": [
        "[1-Traffic Sign Classification with Keras and Deep Learning](https://pyimagesearch.com/2019/11/04/traffic-sign-classification-with-keras-and-deep-learning/)"
      ],
      "metadata": {
        "id": "XfR0KHaqB_T2"
      }
    }
  ]
}