{
  "nbformat": 4,
  "nbformat_minor": 0,
  "metadata": {
    "colab": {
      "name": "Movie Recommender(not Completed).ipynb",
      "provenance": [],
      "authorship_tag": "ABX9TyNeoChPXxlrHQ2L/14ux/Wl",
      "include_colab_link": true
    },
    "kernelspec": {
      "name": "python3",
      "display_name": "Python 3"
    }
  },
  "cells": [
    {
      "cell_type": "markdown",
      "metadata": {
        "id": "view-in-github",
        "colab_type": "text"
      },
      "source": [
        "<a href=\"https://colab.research.google.com/github/hussain0048/Projects-/blob/master/Movie_Recommender(not_Completed).ipynb\" target=\"_parent\"><img src=\"https://colab.research.google.com/assets/colab-badge.svg\" alt=\"Open In Colab\"/></a>"
      ]
    },
    {
      "cell_type": "code",
      "metadata": {
        "id": "I-Euh3ynJIxL",
        "colab_type": "code",
        "colab": {}
      },
      "source": [
        ""
      ],
      "execution_count": null,
      "outputs": []
    },
    {
      "cell_type": "markdown",
      "metadata": {
        "id": "fyEguSH4JV5b",
        "colab_type": "text"
      },
      "source": [
        "#**References**\n",
        "[[1]Building a Movie Recommender using Python](https://towardsdatascience.com/building-a-movie-recommender-using-python-277959b07dae)"
      ]
    }
  ]
}