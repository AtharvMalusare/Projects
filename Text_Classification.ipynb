{
  "nbformat": 4,
  "nbformat_minor": 0,
  "metadata": {
    "colab": {
      "name": "Text Classification.ipynb",
      "provenance": [],
      "authorship_tag": "ABX9TyPvP19vTj2cNZPCA5uT8itf",
      "include_colab_link": true
    },
    "kernelspec": {
      "name": "python3",
      "display_name": "Python 3"
    }
  },
  "cells": [
    {
      "cell_type": "markdown",
      "metadata": {
        "id": "view-in-github",
        "colab_type": "text"
      },
      "source": [
        "<a href=\"https://colab.research.google.com/github/hussain0048/Projects-/blob/master/Text_Classification.ipynb\" target=\"_parent\"><img src=\"https://colab.research.google.com/assets/colab-badge.svg\" alt=\"Open In Colab\"/></a>"
      ]
    },
    {
      "cell_type": "markdown",
      "metadata": {
        "id": "g_1jrmiVK6lp"
      },
      "source": [
        "# **1-Multinomial naive Bayes for text classification**"
      ]
    },
    {
      "cell_type": "markdown",
      "metadata": {
        "id": "hf-eIVCJJtDt"
      },
      "source": [
        "##**1.1- Introduction**\n",
        "\n",
        "One place in Data Science where multinomial naive Bayes is often used is in text classification, where the features are related to word counts or frequencies within the documents to be classified.\n",
        "\n",
        "In this data science project we will use the sparse word count features from the 20 Newsgroups corpus to show how we might classify these short documents into categories[1]"
      ]
    },
    {
      "cell_type": "markdown",
      "metadata": {
        "id": "8QR-OCyAKHEZ"
      },
      "source": [
        "##**1.2- Dataset** \n",
        "Let’s download the data and take a look at the target names:[1]"
      ]
    },
    {
      "cell_type": "code",
      "metadata": {
        "id": "yvnw-IXiKYc6"
      },
      "source": [
        "from sklearn.datasets import fetch_20newsgroups\n",
        "data = fetch_20newsgroups()\n",
        "print(data.target_names)"
      ],
      "execution_count": null,
      "outputs": []
    },
    {
      "cell_type": "markdown",
      "metadata": {
        "id": "wpmoNU6mKxC6"
      },
      "source": [
        "## **1.3- Training and Testing**\n",
        "For simplicity, we will select just a few of these categories, and download the training and testing set[1]:\n",
        "\n"
      ]
    },
    {
      "cell_type": "code",
      "metadata": {
        "id": "VShV5srPLbvN"
      },
      "source": [
        "categories = ['talk.religion.misc', 'soc.religion.christian', 'sci.space', 'comp.graphics']\n",
        "train = fetch_20newsgroups(subset='train', categories=categories)\n",
        "test = fetch_20newsgroups(subset='test', categories=categories)"
      ],
      "execution_count": 2,
      "outputs": []
    },
    {
      "cell_type": "markdown",
      "metadata": {
        "id": "I1iYjs36Li2j"
      },
      "source": [
        "Here is a representative entry from the data:[1]"
      ]
    },
    {
      "cell_type": "code",
      "metadata": {
        "id": "7Ok_kdz-Lq-S"
      },
      "source": [
        "print(train.data[5])"
      ],
      "execution_count": null,
      "outputs": []
    },
    {
      "cell_type": "markdown",
      "metadata": {
        "id": "wEo1y1YxL3Lq"
      },
      "source": [
        "## **1.4- Build model**\n",
        "\n",
        "n order to use this data for machine learning, we need to be able to convert the content of each string into a vector of numbers. For this we will use the TF–IDF vectorizer, and create a pipeline that attaches it to a multinomial naive Bayes classifier:[1]"
      ]
    },
    {
      "cell_type": "code",
      "metadata": {
        "id": "c0d8XIYQMMkP"
      },
      "source": [
        "from sklearn.feature_extraction.text import TfidfVectorizer\n",
        "from sklearn.naive_bayes import MultinomialNB\n",
        "from sklearn.pipeline import make_pipeline"
      ],
      "execution_count": 4,
      "outputs": []
    },
    {
      "cell_type": "code",
      "metadata": {
        "id": "R4JbEv4hMONJ"
      },
      "source": [
        "model = make_pipeline(TfidfVectorizer(), MultinomialNB())"
      ],
      "execution_count": 5,
      "outputs": []
    },
    {
      "cell_type": "markdown",
      "metadata": {
        "id": "6iL07r6EMU8q"
      },
      "source": [
        "With this pipeline, we can apply the model to the training data, and predict labels for the test data:[1]\n",
        "\n"
      ]
    },
    {
      "cell_type": "code",
      "metadata": {
        "id": "gdpllpbFMaZR"
      },
      "source": [
        "model.fit(train.data, train.target)\n",
        "labels = model.predict(test.data)"
      ],
      "execution_count": 6,
      "outputs": []
    },
    {
      "cell_type": "markdown",
      "metadata": {
        "id": "4oIz0zBoMv-S"
      },
      "source": [
        "## **1.5- Model evaluation**\n",
        "Now that we have predicted the labels for the test data, we can evaluate them to learn about the performance of the estimator. For example, here is the confusion matrix between the true and predicted labels for the test data[1].\n"
      ]
    },
    {
      "cell_type": "code",
      "metadata": {
        "id": "-Ij3asCGNILL"
      },
      "source": [
        "from sklearn.metrics import confusion_matrix\n",
        "mat = confusion_matrix(test.target, labels)\n",
        "import seaborn as sns\n",
        "import matplotlib.pyplot as plt\n",
        "sns.heatmap(mat.T,square=True,annot=True,fmt='d',cbar=False,\n",
        "            xticklabels=train.target_names,yticklabels=train.target_names)\n",
        "plt.xlabel('True Label')\n",
        "plt.ylabel(\"Predicted Label\")\n",
        "plt.show()"
      ],
      "execution_count": null,
      "outputs": []
    },
    {
      "cell_type": "markdown",
      "metadata": {
        "id": "ORjSMxTfOY66"
      },
      "source": [
        "Evidently, even this very simple classifier can successfully separate space talk from computer talk, but it gets confused between talk about religion and talk about Christianity. This is perhaps an expected area of confusion.\n",
        "\n",
        "The very cool thing here is that we now have the tools to determine the category for any string, using the predict() method of this pipeline. Here’s a quick utility function that will return the prediction for a single string:[1]"
      ]
    },
    {
      "cell_type": "code",
      "metadata": {
        "id": "aL8U0uKdObfC"
      },
      "source": [
        "def predict_category(s, train=train,model=model):\n",
        "    pred = model.predict([s])\n",
        "    print(train.target_names[pred[0]])"
      ],
      "execution_count": 10,
      "outputs": []
    },
    {
      "cell_type": "code",
      "metadata": {
        "id": "lXsS8oR6Oity",
        "outputId": "d32d5aca-27f0-48c3-c8c2-3435768399ca",
        "colab": {
          "base_uri": "https://localhost:8080/"
        }
      },
      "source": [
        "predict_category(\"sending a payload to the ISS\")"
      ],
      "execution_count": 11,
      "outputs": [
        {
          "output_type": "stream",
          "text": [
            "sci.space\n"
          ],
          "name": "stdout"
        }
      ]
    },
    {
      "cell_type": "code",
      "metadata": {
        "id": "bbNd-mbLOp1M"
      },
      "source": [
        "predict_category(\"discussing islam vs atheism\")"
      ],
      "execution_count": null,
      "outputs": []
    },
    {
      "cell_type": "code",
      "metadata": {
        "id": "9C4ghbrQOu9c"
      },
      "source": [
        "predict_category(\"determining the screen resolution\")"
      ],
      "execution_count": null,
      "outputs": []
    },
    {
      "cell_type": "markdown",
      "metadata": {
        "id": "jj_itr1rO3dT"
      },
      "source": [
        "Remember that this is nothing more sophisticated than a simple probability model for the (weighted) frequency of each word in the string; nevertheless, the result is striking. Even a very naive algorithm, when used carefully and trained on a large set of high-dimensional data, can be surprisingly effective."
      ]
    },
    {
      "cell_type": "markdown",
      "metadata": {
        "id": "oX1A0hwlJMH6"
      },
      "source": [
        "# **References** \n",
        "\n",
        "[[1]-Text Classification with Data Science](https://thecleverprogrammer.com/2020/05/14/text-classification-with-data-science/)\n",
        "\n",
        "[[2]-Text Classification Using Convolutional Neural Networks](https://www.youtube.com/watch?v=8YsZXTpFRO0)"
      ]
    }
  ]
}