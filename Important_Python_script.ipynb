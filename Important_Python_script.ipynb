{
  "nbformat": 4,
  "nbformat_minor": 0,
  "metadata": {
    "colab": {
      "provenance": [],
      "toc_visible": true,
      "authorship_tag": "ABX9TyO7YUjfqKfeh1Y6cfg7l+g5",
      "include_colab_link": true
    },
    "kernelspec": {
      "name": "python3",
      "display_name": "Python 3"
    },
    "language_info": {
      "name": "python"
    }
  },
  "cells": [
    {
      "cell_type": "markdown",
      "metadata": {
        "id": "view-in-github",
        "colab_type": "text"
      },
      "source": [
        "<a href=\"https://colab.research.google.com/github/hussain0048/Projects-/blob/master/Important_Python_script.ipynb\" target=\"_parent\"><img src=\"https://colab.research.google.com/assets/colab-badge.svg\" alt=\"Open In Colab\"/></a>"
      ]
    },
    {
      "cell_type": "code",
      "execution_count": null,
      "metadata": {
        "id": "Ca6wREvacVna"
      },
      "outputs": [],
      "source": []
    },
    {
      "cell_type": "markdown",
      "source": [
        "# **Speech to Text**"
      ],
      "metadata": {
        "id": "KVOUJuCQcibP"
      }
    },
    {
      "cell_type": "code",
      "source": [
        "# install the module\n",
        "!pip install speechrecognition\n",
        "!conda install pyaudio"
      ],
      "metadata": {
        "id": "mnCkKXoLcplO"
      },
      "execution_count": null,
      "outputs": []
    },
    {
      "cell_type": "code",
      "source": [
        "# import the module\n",
        "import speech_recognition as sr"
      ],
      "metadata": {
        "id": "N-U6jEEtc2VG"
      },
      "execution_count": null,
      "outputs": []
    },
    {
      "cell_type": "code",
      "source": [
        "# initialize\n",
        "r = sr.Recognizer()"
      ],
      "metadata": {
        "id": "UfaBl3p0c5ol"
      },
      "execution_count": null,
      "outputs": []
    },
    {
      "cell_type": "code",
      "source": [
        "# Install PortAudio\n",
        "!apt-get install portaudio19-dev\n",
        "\n",
        "# Install PyAudio\n",
        "!pip install pyaudio"
      ],
      "metadata": {
        "colab": {
          "base_uri": "https://localhost:8080/"
        },
        "id": "_X3owtkIejIf",
        "outputId": "3d34081a-49ad-4cd8-a986-65bea2c0a605"
      },
      "execution_count": null,
      "outputs": [
        {
          "output_type": "stream",
          "name": "stdout",
          "text": [
            "Reading package lists... Done\n",
            "Building dependency tree... Done\n",
            "Reading state information... Done\n",
            "The following additional packages will be installed:\n",
            "  libportaudio2 libportaudiocpp0\n",
            "Suggested packages:\n",
            "  portaudio19-doc\n",
            "The following NEW packages will be installed:\n",
            "  libportaudio2 libportaudiocpp0 portaudio19-dev\n",
            "0 upgraded, 3 newly installed, 0 to remove and 45 not upgraded.\n",
            "Need to get 188 kB of archives.\n",
            "After this operation, 927 kB of additional disk space will be used.\n",
            "Get:1 http://archive.ubuntu.com/ubuntu jammy/universe amd64 libportaudio2 amd64 19.6.0-1.1 [65.3 kB]\n",
            "Get:2 http://archive.ubuntu.com/ubuntu jammy/universe amd64 libportaudiocpp0 amd64 19.6.0-1.1 [16.1 kB]\n",
            "Get:3 http://archive.ubuntu.com/ubuntu jammy/universe amd64 portaudio19-dev amd64 19.6.0-1.1 [106 kB]\n",
            "Fetched 188 kB in 1s (352 kB/s)\n",
            "Selecting previously unselected package libportaudio2:amd64.\n",
            "(Reading database ... 121925 files and directories currently installed.)\n",
            "Preparing to unpack .../libportaudio2_19.6.0-1.1_amd64.deb ...\n",
            "Unpacking libportaudio2:amd64 (19.6.0-1.1) ...\n",
            "Selecting previously unselected package libportaudiocpp0:amd64.\n",
            "Preparing to unpack .../libportaudiocpp0_19.6.0-1.1_amd64.deb ...\n",
            "Unpacking libportaudiocpp0:amd64 (19.6.0-1.1) ...\n",
            "Selecting previously unselected package portaudio19-dev:amd64.\n",
            "Preparing to unpack .../portaudio19-dev_19.6.0-1.1_amd64.deb ...\n",
            "Unpacking portaudio19-dev:amd64 (19.6.0-1.1) ...\n",
            "Setting up libportaudio2:amd64 (19.6.0-1.1) ...\n",
            "Setting up libportaudiocpp0:amd64 (19.6.0-1.1) ...\n",
            "Setting up portaudio19-dev:amd64 (19.6.0-1.1) ...\n",
            "Processing triggers for libc-bin (2.35-0ubuntu3.4) ...\n",
            "/sbin/ldconfig.real: /usr/local/lib/libtbbbind_2_0.so.3 is not a symbolic link\n",
            "\n",
            "/sbin/ldconfig.real: /usr/local/lib/libtbbmalloc_proxy.so.2 is not a symbolic link\n",
            "\n",
            "/sbin/ldconfig.real: /usr/local/lib/libtbbmalloc.so.2 is not a symbolic link\n",
            "\n",
            "/sbin/ldconfig.real: /usr/local/lib/libtbbbind.so.3 is not a symbolic link\n",
            "\n",
            "/sbin/ldconfig.real: /usr/local/lib/libtbb.so.12 is not a symbolic link\n",
            "\n",
            "/sbin/ldconfig.real: /usr/local/lib/libtbbbind_2_5.so.3 is not a symbolic link\n",
            "\n",
            "Collecting pyaudio\n",
            "  Using cached PyAudio-0.2.14.tar.gz (47 kB)\n",
            "  Installing build dependencies ... \u001b[?25l\u001b[?25hdone\n",
            "  Getting requirements to build wheel ... \u001b[?25l\u001b[?25hdone\n",
            "  Preparing metadata (pyproject.toml) ... \u001b[?25l\u001b[?25hdone\n",
            "Building wheels for collected packages: pyaudio\n",
            "  Building wheel for pyaudio (pyproject.toml) ... \u001b[?25l\u001b[?25hdone\n",
            "  Created wheel for pyaudio: filename=PyAudio-0.2.14-cp310-cp310-linux_x86_64.whl size=63859 sha256=c121c824b14323f14a14179cccbc1a425f398764a08683d37e67f4b5ccf995bf\n",
            "  Stored in directory: /root/.cache/pip/wheels/d6/21/f4/0b51d41ba79e51b16295cbb096ec49f334792814d545b508c5\n",
            "Successfully built pyaudio\n",
            "Installing collected packages: pyaudio\n",
            "Successfully installed pyaudio-0.2.14\n"
          ]
        }
      ]
    },
    {
      "cell_type": "code",
      "source": [
        "!pip install pyaudio\n",
        "!pip install speechrecognition"
      ],
      "metadata": {
        "colab": {
          "base_uri": "https://localhost:8080/"
        },
        "id": "0qvw_EgLdSoO",
        "outputId": "db643ac7-2498-4e35-e6ef-014941e1f4a1"
      },
      "execution_count": null,
      "outputs": [
        {
          "output_type": "stream",
          "name": "stdout",
          "text": [
            "Collecting pyaudio\n",
            "  Using cached PyAudio-0.2.14.tar.gz (47 kB)\n",
            "  Installing build dependencies ... \u001b[?25l\u001b[?25hdone\n",
            "  Getting requirements to build wheel ... \u001b[?25l\u001b[?25hdone\n",
            "  Preparing metadata (pyproject.toml) ... \u001b[?25l\u001b[?25hdone\n",
            "Building wheels for collected packages: pyaudio\n",
            "  \u001b[1;31merror\u001b[0m: \u001b[1msubprocess-exited-with-error\u001b[0m\n",
            "  \n",
            "  \u001b[31m×\u001b[0m \u001b[32mBuilding wheel for pyaudio \u001b[0m\u001b[1;32m(\u001b[0m\u001b[32mpyproject.toml\u001b[0m\u001b[1;32m)\u001b[0m did not run successfully.\n",
            "  \u001b[31m│\u001b[0m exit code: \u001b[1;36m1\u001b[0m\n",
            "  \u001b[31m╰─>\u001b[0m See above for output.\n",
            "  \n",
            "  \u001b[1;35mnote\u001b[0m: This error originates from a subprocess, and is likely not a problem with pip.\n",
            "  Building wheel for pyaudio (pyproject.toml) ... \u001b[?25l\u001b[?25herror\n",
            "\u001b[31m  ERROR: Failed building wheel for pyaudio\u001b[0m\u001b[31m\n",
            "\u001b[0mFailed to build pyaudio\n",
            "\u001b[31mERROR: Could not build wheels for pyaudio, which is required to install pyproject.toml-based projects\u001b[0m\u001b[31m\n",
            "\u001b[0mRequirement already satisfied: speechrecognition in /usr/local/lib/python3.10/dist-packages (3.10.4)\n",
            "Requirement already satisfied: requests>=2.26.0 in /usr/local/lib/python3.10/dist-packages (from speechrecognition) (2.31.0)\n",
            "Requirement already satisfied: typing-extensions in /usr/local/lib/python3.10/dist-packages (from speechrecognition) (4.12.2)\n",
            "Requirement already satisfied: charset-normalizer<4,>=2 in /usr/local/lib/python3.10/dist-packages (from requests>=2.26.0->speechrecognition) (3.3.2)\n",
            "Requirement already satisfied: idna<4,>=2.5 in /usr/local/lib/python3.10/dist-packages (from requests>=2.26.0->speechrecognition) (3.7)\n",
            "Requirement already satisfied: urllib3<3,>=1.21.1 in /usr/local/lib/python3.10/dist-packages (from requests>=2.26.0->speechrecognition) (2.0.7)\n",
            "Requirement already satisfied: certifi>=2017.4.17 in /usr/local/lib/python3.10/dist-packages (from requests>=2.26.0->speechrecognition) (2024.6.2)\n"
          ]
        }
      ]
    },
    {
      "cell_type": "code",
      "source": [
        "# import the module\n",
        "import speech_recognition as sr\n",
        "\n",
        "# initialize\n",
        "r = sr.Recognizer()"
      ],
      "metadata": {
        "id": "wMFdpa5kdi7f"
      },
      "execution_count": null,
      "outputs": []
    },
    {
      "cell_type": "markdown",
      "source": [
        "**Convert Speech to Text in Real time**"
      ],
      "metadata": {
        "id": "fr9L-NpPc9td"
      }
    },
    {
      "cell_type": "code",
      "source": [
        "while True:\n",
        "    with sr.Microphone() as source:\n",
        "        # clear background noise\n",
        "        r.adjust_for_ambient_noise(source, duration=0.3)\n",
        "\n",
        "        print(\"Speak now\")\n",
        "        # capture the audio\n",
        "        audio = r.listen(source)\n",
        "\n",
        "        try:\n",
        "            text = r.recognize_google(audio)\n",
        "            print(\"Speaker:\", text)\n",
        "            if text == 'quit':\n",
        "                break\n",
        "        except:\n",
        "            print('Please say again!!!')"
      ],
      "metadata": {
        "id": "SlVS2i0KdDm2"
      },
      "execution_count": null,
      "outputs": []
    },
    {
      "cell_type": "markdown",
      "source": [
        "# **Grammar fixer**"
      ],
      "metadata": {
        "id": "nJRPbv7yizVj"
      }
    },
    {
      "cell_type": "markdown",
      "source": [
        "Tired of proofreading your long articles or texts? Then, you can try this automated script which will scan your text and correct grammar errors. This great script uses the Happtransformer module, which is a machine learning module trained to fix grammar errors in text."
      ],
      "metadata": {
        "id": "sTtDZSgIi8jy"
      }
    },
    {
      "cell_type": "code",
      "source": [
        "!pip install happytransformer # Install the missing module"
      ],
      "metadata": {
        "id": "D2lnvxObjPUT"
      },
      "execution_count": null,
      "outputs": []
    },
    {
      "cell_type": "code",
      "source": [
        "# Grammer Fixer\n",
        "# pip install happytransformer\n",
        "from happytransformer import HappyTextToText as HappyTTT\n",
        "from happytransformer import TTSettings\n",
        "def Grammer_Fixer(Text):\n",
        "    Grammer = HappyTTT(\"T5\",\"prithivida/grammar_error_correcter_v1\")\n",
        "    config = TTSettings(do_sample=True, top_k=10, max_length=100)\n",
        "    corrected = Grammer.generate_text(Text, args=config)\n",
        "    print(\"Corrected Text: \", corrected.text)\n",
        "Text = \"This is smple tet we how know this\"\n",
        "Grammer_Fixer(Text)"
      ],
      "metadata": {
        "id": "fVBNBH6zi3S9"
      },
      "execution_count": null,
      "outputs": []
    },
    {
      "cell_type": "markdown",
      "source": [
        "# **Spelling correction**"
      ],
      "metadata": {
        "id": "HqxzFqlxkDut"
      }
    },
    {
      "cell_type": "markdown",
      "source": [
        "This great script will help you correct spelling errors in your text words. You can find the script below which will tell you how to fix single or multiple words in a sentence."
      ],
      "metadata": {
        "id": "ODMwFksRkMoL"
      }
    },
    {
      "cell_type": "code",
      "source": [
        "# Spell Fixer\n",
        "# pip install textblob\n",
        "from textblob import *\n",
        "# Fixing Paragraph Spells\n",
        "def fix_paragraph_words(paragraph):\n",
        "    sentence = TextBlob(paragraph)\n",
        "    correction = sentence.correct()\n",
        "    print(correction)\n",
        "# Fixing Words Spells\n",
        "def fix_word_spell(word):\n",
        "    word = Word(word)\n",
        "    correction = word.correct()\n",
        "    print(correction)\n",
        "fix_paragraph_words(\"This is sammple tet!!\")\n",
        "fix_word_spell(\"maangoo\")"
      ],
      "metadata": {
        "colab": {
          "base_uri": "https://localhost:8080/"
        },
        "id": "rteeqHmokQyY",
        "outputId": "7ff32213-84b0-4a00-a43b-187bcc1dc413"
      },
      "execution_count": 4,
      "outputs": [
        {
          "output_type": "stream",
          "name": "stdout",
          "text": [
            "His is sample met!!\n",
            "maangoo\n"
          ]
        }
      ]
    },
    {
      "cell_type": "markdown",
      "source": [
        "# **Internet downloader**"
      ],
      "metadata": {
        "id": "urWHpB38kdyn"
      }
    },
    {
      "cell_type": "markdown",
      "source": [
        "You may use download software to download photos or videos from the internet, but now you can create your own downloader using the Python IDM module."
      ],
      "metadata": {
        "id": "Q8gybXPokljD"
      }
    },
    {
      "cell_type": "code",
      "source": [
        "!pip install internetdownloadmanager"
      ],
      "metadata": {
        "colab": {
          "base_uri": "https://localhost:8080/",
          "height": 655
        },
        "id": "XDehDhKXktw3",
        "outputId": "100382f1-4377-4b11-cfd5-aa530c28c739"
      },
      "execution_count": 6,
      "outputs": [
        {
          "output_type": "stream",
          "name": "stdout",
          "text": [
            "Collecting internetdownloadmanager\n",
            "  Downloading internetdownloadmanager-0.0.2-py3-none-any.whl (7.2 kB)\n",
            "Collecting chardet<3.1.0,>=3.0.2 (from internetdownloadmanager)\n",
            "  Downloading chardet-3.0.4-py2.py3-none-any.whl (133 kB)\n",
            "\u001b[2K     \u001b[90m━━━━━━━━━━━━━━━━━━━━━━━━━━━━━━━━━━━━━━━━\u001b[0m \u001b[32m133.4/133.4 kB\u001b[0m \u001b[31m2.9 MB/s\u001b[0m eta \u001b[36m0:00:00\u001b[0m\n",
            "\u001b[?25hCollecting idna<2.9,>=2.5 (from internetdownloadmanager)\n",
            "  Downloading idna-2.8-py2.py3-none-any.whl (58 kB)\n",
            "\u001b[2K     \u001b[90m━━━━━━━━━━━━━━━━━━━━━━━━━━━━━━━━━━━━━━━━\u001b[0m \u001b[32m58.6/58.6 kB\u001b[0m \u001b[31m5.7 MB/s\u001b[0m eta \u001b[36m0:00:00\u001b[0m\n",
            "\u001b[?25hCollecting urllib3!=1.25.0,!=1.25.1,<1.26,>=1.21.1 (from internetdownloadmanager)\n",
            "  Downloading urllib3-1.25.11-py2.py3-none-any.whl (127 kB)\n",
            "\u001b[2K     \u001b[90m━━━━━━━━━━━━━━━━━━━━━━━━━━━━━━━━━━━━━━━━\u001b[0m \u001b[32m128.0/128.0 kB\u001b[0m \u001b[31m5.3 MB/s\u001b[0m eta \u001b[36m0:00:00\u001b[0m\n",
            "\u001b[?25hRequirement already satisfied: certifi>=2017.4.17 in /usr/local/lib/python3.10/dist-packages (from internetdownloadmanager) (2024.6.2)\n",
            "Requirement already satisfied: requests>=2.22.0 in /usr/local/lib/python3.10/dist-packages (from internetdownloadmanager) (2.32.3)\n",
            "Requirement already satisfied: charset-normalizer<4,>=2 in /usr/local/lib/python3.10/dist-packages (from requests>=2.22.0->internetdownloadmanager) (3.3.2)\n",
            "Installing collected packages: chardet, urllib3, idna, internetdownloadmanager\n",
            "  Attempting uninstall: chardet\n",
            "    Found existing installation: chardet 5.2.0\n",
            "    Uninstalling chardet-5.2.0:\n",
            "      Successfully uninstalled chardet-5.2.0\n",
            "  Attempting uninstall: urllib3\n",
            "    Found existing installation: urllib3 2.0.7\n",
            "    Uninstalling urllib3-2.0.7:\n",
            "      Successfully uninstalled urllib3-2.0.7\n",
            "  Attempting uninstall: idna\n",
            "    Found existing installation: idna 3.7\n",
            "    Uninstalling idna-3.7:\n",
            "      Successfully uninstalled idna-3.7\n",
            "\u001b[31mERROR: pip's dependency resolver does not currently take into account all the packages that are installed. This behaviour is the source of the following dependency conflicts.\n",
            "sentry-sdk 2.6.0 requires urllib3>=1.26.11, but you have urllib3 1.25.11 which is incompatible.\u001b[0m\u001b[31m\n",
            "\u001b[0mSuccessfully installed chardet-3.0.4 idna-2.8 internetdownloadmanager-0.0.2 urllib3-1.25.11\n"
          ]
        },
        {
          "output_type": "display_data",
          "data": {
            "application/vnd.colab-display-data+json": {
              "pip_warning": {
                "packages": [
                  "chardet",
                  "idna",
                  "urllib3"
                ]
              },
              "id": "f8f03f2c7dfe4b1bb85cc51ae49cfaf4"
            }
          },
          "metadata": {}
        }
      ]
    },
    {
      "cell_type": "code",
      "source": [
        "# Python Downloader\n",
        "# pip install internetdownloadmanager\n",
        "import internetdownloadmanager as idm\n",
        "def Downloader(url, output):\n",
        "    pydownloader = idm.Downloader(worker=20,\n",
        "                                part_size=1024*1024*10,\n",
        "                                resumable=True,)\n",
        "\n",
        "    pydownloader .download(url, output)\n",
        "Downloader(\"https://www.youtube.com/watch?v=s9ZOXFNFGng\", \"video.mp4\")"
      ],
      "metadata": {
        "colab": {
          "base_uri": "https://localhost:8080/"
        },
        "id": "OHPdzF9rkkAr",
        "outputId": "25c069f3-e70f-42f8-fd0e-1bb16844b908"
      },
      "execution_count": 2,
      "outputs": [
        {
          "output_type": "stream",
          "name": "stderr",
          "text": [
            "WARNING:internetdownloadmanager.utils:Download Starting\n"
          ]
        },
        {
          "output_type": "stream",
          "name": "stdout",
          "text": [
            "\rStatus: %100.0 | Transfer Rate =  3382512 Kb/s | Time Left: 0 sn | Time: 1 sn | AVG Speed=3382512 Kb/s "
          ]
        }
      ]
    },
    {
      "cell_type": "markdown",
      "source": [
        "# **References**"
      ],
      "metadata": {
        "id": "cG9G4YIJiePH"
      }
    },
    {
      "cell_type": "markdown",
      "source": [
        "[1-10 killer Python automation scripts](https://medium.com/@chenyumei8866/10-killer-python-automation-scripts-f305d7261d55)\n",
        "```\n",
        "# This is formatted as code\n",
        "```\n",
        "\n"
      ],
      "metadata": {
        "id": "Xx3V05hZiiU-"
      }
    }
  ]
}