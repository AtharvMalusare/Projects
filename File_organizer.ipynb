{
  "nbformat": 4,
  "nbformat_minor": 0,
  "metadata": {
    "colab": {
      "provenance": [],
      "authorship_tag": "ABX9TyMctezci4pAS6IzQbkkbQ36",
      "include_colab_link": true
    },
    "kernelspec": {
      "name": "python3",
      "display_name": "Python 3"
    },
    "language_info": {
      "name": "python"
    }
  },
  "cells": [
    {
      "cell_type": "markdown",
      "metadata": {
        "id": "view-in-github",
        "colab_type": "text"
      },
      "source": [
        "<a href=\"https://colab.research.google.com/github/dr-mushtaq/Projects/blob/master/File_organizer.ipynb\" target=\"_parent\"><img src=\"https://colab.research.google.com/assets/colab-badge.svg\" alt=\"Open In Colab\"/></a>"
      ]
    },
    {
      "cell_type": "code",
      "execution_count": null,
      "metadata": {
        "id": "NYJP3aOzbhim"
      },
      "outputs": [],
      "source": []
    },
    {
      "cell_type": "markdown",
      "source": [
        "# **References**"
      ],
      "metadata": {
        "id": "wIDmEoy5blcX"
      }
    },
    {
      "cell_type": "markdown",
      "source": [
        "[1-Local-File-Organizer](https://github.com/QiuYannnn/Local-File-Organizer/tree/main)\n",
        "\n",
        "[2-I built a Python script uses AI to organize files, runs 100% on your device](https://www.reddit.com/r/Python/comments/1fmgj31/i_built_a_python_script_uses_ai_to_organize_files/)"
      ],
      "metadata": {
        "id": "c8182BC8brNn"
      }
    }
  ]
}