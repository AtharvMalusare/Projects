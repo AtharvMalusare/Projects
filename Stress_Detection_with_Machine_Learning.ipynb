{
  "nbformat": 4,
  "nbformat_minor": 0,
  "metadata": {
    "colab": {
      "provenance": [],
      "toc_visible": true,
      "authorship_tag": "ABX9TyOWaAwXLNQm+0Stw1VO1zKT",
      "include_colab_link": true
    },
    "kernelspec": {
      "name": "python3",
      "display_name": "Python 3"
    },
    "language_info": {
      "name": "python"
    }
  },
  "cells": [
    {
      "cell_type": "markdown",
      "metadata": {
        "id": "view-in-github",
        "colab_type": "text"
      },
      "source": [
        "<a href=\"https://colab.research.google.com/github/hussain0048/Projects-/blob/master/Stress_Detection_with_Machine_Learning.ipynb\" target=\"_parent\"><img src=\"https://colab.research.google.com/assets/colab-badge.svg\" alt=\"Open In Colab\"/></a>"
      ]
    },
    {
      "cell_type": "code",
      "execution_count": null,
      "metadata": {
        "id": "p8L3qgpH0zZg"
      },
      "outputs": [],
      "source": []
    },
    {
      "cell_type": "markdown",
      "source": [
        "#**Referebces**"
      ],
      "metadata": {
        "id": "6nzF6BZf1Kdy"
      }
    },
    {
      "cell_type": "markdown",
      "source": [
        "[1-Stress Detection with Machine Learning](https://thecleverprogrammer.com/2021/12/20/stress-detection-with-machine-learning/)"
      ],
      "metadata": {
        "id": "BCrOn6Sc1SZC"
      }
    }
  ]
}