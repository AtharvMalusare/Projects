{
  "nbformat": 4,
  "nbformat_minor": 0,
  "metadata": {
    "colab": {
      "provenance": [],
      "toc_visible": true,
      "authorship_tag": "ABX9TyMm3NbG1R4l/Qs/1irslO1l",
      "include_colab_link": true
    },
    "kernelspec": {
      "name": "python3",
      "display_name": "Python 3"
    },
    "language_info": {
      "name": "python"
    }
  },
  "cells": [
    {
      "cell_type": "markdown",
      "metadata": {
        "id": "view-in-github",
        "colab_type": "text"
      },
      "source": [
        "<a href=\"https://colab.research.google.com/github/hussain0048/Projects-/blob/master/Movie_Reviews_through_Sentiment_Analysis_in_NLP.ipynb\" target=\"_parent\"><img src=\"https://colab.research.google.com/assets/colab-badge.svg\" alt=\"Open In Colab\"/></a>"
      ]
    },
    {
      "cell_type": "markdown",
      "source": [
        "# **📚Table of Content**"
      ],
      "metadata": {
        "id": "6Co0qTWwl3jM"
      }
    },
    {
      "cell_type": "markdown",
      "source": [
        "\n",
        "\n",
        "1.   Introduction\n",
        "2.   Import necessary libraries\n",
        "\n"
      ],
      "metadata": {
        "id": "yHmMqIDemLR9"
      }
    },
    {
      "cell_type": "markdown",
      "source": [
        "# **📚Introduction:**"
      ],
      "metadata": {
        "id": "Xru3Elnsl0Ck"
      }
    },
    {
      "cell_type": "markdown",
      "source": [
        "In the ever-evolving landscape of cinema, understanding audience sentiments towards movies is paramount. Movie reviews offer valuable insights into audience perceptions, but manually analyzing a large volume of reviews is time-consuming and often subjective. Enter Sentiment Analysis in Natural Language Processing (NLP), a powerful tool that automates the process of gauging sentiments from textual data. In this blog, we delve into the realm of movie reviews, exploring how Sentiment Analysis revolutionizes the way we perceive and analyze cinematic feedback."
      ],
      "metadata": {
        "id": "_Tp46-lAmC4_"
      }
    },
    {
      "cell_type": "markdown",
      "source": [
        "# **📚Import necessary libraries**"
      ],
      "metadata": {
        "id": "Pzoo4Ok9mTvM"
      }
    },
    {
      "cell_type": "code",
      "source": [
        "import numpy as np # linear algebra\n",
        "import pandas as pd # data processing, CSV file I/O (e.g. pd.read_csv)\n",
        "import re # for regex\n",
        "from nltk.corpus import stopwords\n",
        "# stopwords corpus within NLTK contains a collection of common words that are often considered irrelevant for analysis\n",
        "# and are thus typically removed from text data during preprocessing.\n",
        "from nltk.tokenize import word_tokenize #tokenize module, text data can be split into individual words or tokens,\n",
        "from nltk.stem import SnowballStemmer#stem module applies the Snowball stemming algorithm to reduce words to their root or base form\n",
        "from sklearn.feature_extraction.text import CountVectorizer\n",
        "from sklearn.model_selection import train_test_split\n",
        "from sklearn.naive_bayes import GaussianNB,MultinomialNB,BernoulliNB\n",
        "from sklearn.metrics import accuracy_score\n",
        "import pickle"
      ],
      "metadata": {
        "id": "d2bOybK3mhnG"
      },
      "execution_count": 1,
      "outputs": []
    },
    {
      "cell_type": "markdown",
      "source": [
        "The CountVectorizer **from scikit-learn's feature extraction modu**le converts a collection of text documents into a matrix of token counts, representing the frequency of each word in the corpus, thereby enabling machine learning models to process textual data.\n",
        "\n",
        "\n",
        "**stopwords**corpus within NLTK contains a collection of common words that are often considered irrelevant for analysis and are thus typically removed from text data during preprocessing.\n",
        "\n",
        "The **pickle module** in Python provides functionality for serializing and deserializing Python objects, allowing for easy storage and retrieval of data structures, such as lists or dictionaries, in a binary format."
      ],
      "metadata": {
        "id": "S9JYhDBhoKi8"
      }
    }
  ]
}