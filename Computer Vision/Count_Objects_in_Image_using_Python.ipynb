{
  "nbformat": 4,
  "nbformat_minor": 0,
  "metadata": {
    "colab": {
      "name": "Count Objects in Image using Python.ipynb",
      "provenance": []
    },
    "kernelspec": {
      "name": "python3",
      "display_name": "Python 3"
    },
    "language_info": {
      "name": "python"
    }
  },
  "cells": [
    {
      "cell_type": "markdown",
      "metadata": {
        "id": "Ei78b24mngey"
      },
      "source": [
        "# **Introduction**\n",
        "\n",
        "Counting objects in an image is the task of computer vision. There are a bunch of computer vision libraries in Python that you can use for this task. But in this article, I will take you through a very simple approach to count objects in an image using Python."
      ]
    },
    {
      "cell_type": "markdown",
      "metadata": {
        "id": "2wHz1KpjwAAk"
      },
      "source": [
        "**How to Count Objects in an Image using Python?**\n",
        "\n",
        "Counting objects in an image is a task of computer vision. There are many computer vision libraries that you can use for this task, such as **OpenCV,** **TensorFlow**, **PyTorch,** **Scikit-image**, and **cvlib**. You must have not heard much about the **cvlib** library in Python. Well, this is a very simple, high level, and easy to use computer vision library in Python.\n",
        "\n",
        "By using the features of this library we can count the number of objects in an image using Python. To use this library, make sure you have **OpenCV** and **TensorFlow** installed in your systems. You can easily install it by using the pip command; **pip install cvlib**.\n"
      ]
    },
    {
      "cell_type": "markdown",
      "metadata": {
        "id": "-804wtxDn976"
      },
      "source": [
        "# **Count Objects in an Image using Python**\n",
        "\n",
        " Now let’s see how to use the cvlib library to count the number of objects in an image using the Python programming language. I will first read an image by using the OpenCV library, then I will detect all the objects using cvlib and count the number of particular objects. The image that I am going to use for this task is shown below.\n",
        "\n",
        " As you can see the image that I am using here for the task of counting objects in an image using Python contains vehicles in it. So I will first detect all the vehicles and then count the number of cars out of them. So below is how you can count the number of cars in an image using Python:\n"
      ]
    },
    {
      "cell_type": "code",
      "metadata": {
        "colab": {
          "base_uri": "https://localhost:8080/"
        },
        "id": "vVKtP0n8MX8W",
        "outputId": "63391ce7-6605-41c2-9b34-e5b5e1ab63d7"
      },
      "source": [
        "!pip install cvlib"
      ],
      "execution_count": 30,
      "outputs": [
        {
          "output_type": "stream",
          "text": [
            "Collecting cvlib\n",
            "\u001b[?25l  Downloading https://files.pythonhosted.org/packages/2f/ef/2ca8ee0fa5353ae1054f410324509f5134d2546dbdcb69f0c36d93005099/cvlib-0.2.6.tar.gz (10.0MB)\n",
            "\u001b[K     |████████████████████████████████| 10.1MB 5.8MB/s \n",
            "\u001b[?25hRequirement already satisfied: numpy in /usr/local/lib/python3.7/dist-packages (from cvlib) (1.19.5)\n",
            "Collecting progressbar\n",
            "  Downloading https://files.pythonhosted.org/packages/a3/a6/b8e451f6cff1c99b4747a2f7235aa904d2d49e8e1464e0b798272aa84358/progressbar-2.5.tar.gz\n",
            "Requirement already satisfied: requests in /usr/local/lib/python3.7/dist-packages (from cvlib) (2.23.0)\n",
            "Requirement already satisfied: pillow in /usr/local/lib/python3.7/dist-packages (from cvlib) (7.1.2)\n",
            "Requirement already satisfied: imageio in /usr/local/lib/python3.7/dist-packages (from cvlib) (2.4.1)\n",
            "Requirement already satisfied: imutils in /usr/local/lib/python3.7/dist-packages (from cvlib) (0.5.4)\n",
            "Requirement already satisfied: idna<3,>=2.5 in /usr/local/lib/python3.7/dist-packages (from requests->cvlib) (2.10)\n",
            "Requirement already satisfied: chardet<4,>=3.0.2 in /usr/local/lib/python3.7/dist-packages (from requests->cvlib) (3.0.4)\n",
            "Requirement already satisfied: certifi>=2017.4.17 in /usr/local/lib/python3.7/dist-packages (from requests->cvlib) (2021.5.30)\n",
            "Requirement already satisfied: urllib3!=1.25.0,!=1.25.1,<1.26,>=1.21.1 in /usr/local/lib/python3.7/dist-packages (from requests->cvlib) (1.24.3)\n",
            "Building wheels for collected packages: cvlib, progressbar\n",
            "  Building wheel for cvlib (setup.py) ... \u001b[?25l\u001b[?25hdone\n",
            "  Created wheel for cvlib: filename=cvlib-0.2.6-cp37-none-any.whl size=10044621 sha256=642869e942c0994478dc473be72f9dfd19a96c7982cdaf1555ca376a5a13bb05\n",
            "  Stored in directory: /root/.cache/pip/wheels/5e/a4/99/8dfcae03a6f93bb4084650d0b642ef5a472429928fb95ffd01\n",
            "  Building wheel for progressbar (setup.py) ... \u001b[?25l\u001b[?25hdone\n",
            "  Created wheel for progressbar: filename=progressbar-2.5-cp37-none-any.whl size=12083 sha256=b69da3a7fb77fd4743f1712346c150987f3bf16e4486a510cb82e23e0892a2f4\n",
            "  Stored in directory: /root/.cache/pip/wheels/c0/e9/6b/ea01090205e285175842339aa3b491adeb4015206cda272ff0\n",
            "Successfully built cvlib progressbar\n",
            "Installing collected packages: progressbar, cvlib\n",
            "Successfully installed cvlib-0.2.6 progressbar-2.5\n"
          ],
          "name": "stdout"
        }
      ]
    },
    {
      "cell_type": "code",
      "metadata": {
        "id": "OOgGz72K0_jr"
      },
      "source": [
        "import cv2\n",
        "import numpy as np\n",
        "import matplotlib.pyplot as plt\n",
        "import cvlib as cv\n",
        "from cvlib.object_detection import draw_bbox\n",
        "from numpy.lib.polynomial import poly"
      ],
      "execution_count": 31,
      "outputs": []
    },
    {
      "cell_type": "code",
      "metadata": {
        "id": "Q9QJg6aoNv0W"
      },
      "source": [
        "import zipfile\n",
        "import os"
      ],
      "execution_count": 35,
      "outputs": []
    },
    {
      "cell_type": "code",
      "metadata": {
        "id": "dgEmdPepOCqq"
      },
      "source": [
        "!wget --no-check-certificate \\\n",
        "    \"https://github.com/hussain0048/Projects-/archive/refs/heads/master.zip\" \\\n",
        "    -O \"/tmp/Projects-.zip\""
      ],
      "execution_count": null,
      "outputs": []
    },
    {
      "cell_type": "code",
      "metadata": {
        "id": "6Ks9UZHWOFDL"
      },
      "source": [
        "zip_ref = zipfile.ZipFile('/tmp/Projects-.zip', 'r') #Opens the zip file in read mode\n",
        "zip_ref.extractall('/tmp') #Extracts the files into the /tmp folder\n",
        "zip_ref.close()"
      ],
      "execution_count": 37,
      "outputs": []
    },
    {
      "cell_type": "code",
      "metadata": {
        "id": "DP1NhI321BsL"
      },
      "source": [
        "image = cv2.imread(\"/tmp/Projects--master/Datasets/cars.jpeg\")\n",
        "box, label, count = cv.detect_common_objects(image)\n",
        "output = draw_bbox(image, box, label, count)\n",
        "plt.imshow(output)\n",
        "plt.show()\n",
        "print(\"Number of cars in this image are \" +str(label.count('car')))"
      ],
      "execution_count": null,
      "outputs": []
    },
    {
      "cell_type": "markdown",
      "metadata": {
        "id": "lvdXKVAQnQcC"
      },
      "source": [
        "# **References**\n",
        "\n",
        "[Count Objects in Image using Python](https://thecleverprogrammer.com/2021/05/11/count-objects-in-image-using-python/)"
      ]
    }
  ]
}