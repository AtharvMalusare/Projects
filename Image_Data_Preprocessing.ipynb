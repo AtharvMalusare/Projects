{
  "nbformat": 4,
  "nbformat_minor": 0,
  "metadata": {
    "colab": {
      "provenance": [],
      "authorship_tag": "ABX9TyOSAIAWgbNIoiH1Jb9XT9zR",
      "include_colab_link": true
    },
    "kernelspec": {
      "name": "python3",
      "display_name": "Python 3"
    },
    "language_info": {
      "name": "python"
    }
  },
  "cells": [
    {
      "cell_type": "markdown",
      "metadata": {
        "id": "view-in-github",
        "colab_type": "text"
      },
      "source": [
        "<a href=\"https://colab.research.google.com/github/hussain0048/Projects-/blob/master/Image_Data_Preprocessing.ipynb\" target=\"_parent\"><img src=\"https://colab.research.google.com/assets/colab-badge.svg\" alt=\"Open In Colab\"/></a>"
      ]
    },
    {
      "cell_type": "code",
      "execution_count": null,
      "metadata": {
        "id": "GoJguzcGs-Nl"
      },
      "outputs": [],
      "source": []
    },
    {
      "cell_type": "markdown",
      "source": [
        "# **Introduction**"
      ],
      "metadata": {
        "id": "zyhCQTrbtkrs"
      }
    },
    {
      "cell_type": "markdown",
      "source": [
        "In the realm of machine learning and computer vision, the quality of your model's output heavily relies on the quality of the input data. Image data preprocessing is a crucial step that can significantly influence the performance of your model.\n",
        "When given a dataset, the preprocessing can have various steps depending on\n",
        "a) what type of data you're looking at (text, images, time series, ...)\n",
        "b) what models you want to train\n",
        "\n",
        "This blog will walk you through the essentials of image data preprocessing in Python, using popular libraries like OpenCV, PIL, and TensorFlow."
      ],
      "metadata": {
        "id": "tAetzagZuYVG"
      }
    },
    {
      "cell_type": "markdown",
      "source": [
        "# **Table of Content**"
      ],
      "metadata": {
        "id": "as1io-BBv6dd"
      }
    },
    {
      "cell_type": "markdown",
      "source": [
        "\n",
        "\n",
        "1.   What is image Preprocessing\n",
        "2.   Tools and Libraries\n",
        "\n"
      ],
      "metadata": {
        "id": "jOdaFUjYv_Le"
      }
    },
    {
      "cell_type": "markdown",
      "source": [
        "# **What is image preprocessing?**"
      ],
      "metadata": {
        "id": "m_BpZaqYvsrt"
      }
    },
    {
      "cell_type": "markdown",
      "source": [
        "**What is preprocessing?**\n",
        "\n",
        "Preprocessing describes the process of cleaning and converting a 'raw' (i.e. unprocessed) dataset into a clean dataset."
      ],
      "metadata": {
        "id": "hpKA6khTt5h3"
      }
    },
    {
      "cell_type": "markdown",
      "source": [
        "**Why Image Data Preprocessing?**"
      ],
      "metadata": {
        "id": "BsWVYXS4ufae"
      }
    },
    {
      "cell_type": "markdown",
      "source": [
        "Before feeding images into a machine learning model, preprocessing is necessary for several reasons:\n",
        "\n",
        "1- Normalization: Ensures that pixel values are within a specific range.\n",
        "\n",
        "2- Resizing: Standardizes the input size for uniformity.\n",
        "\n",
        "3- Augmentation: Increases the diversity of the training data without actually collecting new data.\n",
        "\n",
        "4- Noise Reduction: Removes unwanted artifacts that can distort the image."
      ],
      "metadata": {
        "id": "ncN3SYo2uoxu"
      }
    },
    {
      "cell_type": "markdown",
      "source": [
        "# T**ools and Libraries**"
      ],
      "metadata": {
        "id": "iYE36oAev0Nk"
      }
    },
    {
      "cell_type": "markdown",
      "source": [
        "**Tools and Libraries**"
      ],
      "metadata": {
        "id": "KAI3PRWAu53u"
      }
    },
    {
      "cell_type": "markdown",
      "source": [
        "Python offers several libraries to handle image data preprocessing:\n",
        "\n",
        "1- **OpenCV:** A powerful library for computer vision tasks.\n",
        "\n",
        "2- **PIL (Pillow):** A Python Imaging Library that adds image processing capabilities.\n",
        "\n",
        "3- **TensorFlow:** An end-to-end open-source platform for machine learning that includes preprocessing utilities.\n",
        "\n",
        "Let's dive into some common preprocessing steps using these libraries."
      ],
      "metadata": {
        "id": "cP3wQQP7u7--"
      }
    },
    {
      "cell_type": "markdown",
      "source": [
        "# **References**"
      ],
      "metadata": {
        "id": "EnXgqoAwtCLW"
      }
    },
    {
      "cell_type": "markdown",
      "source": [
        "[1- Image Preprocessing](https://github.com/zotroneneis/machine_learning_basics/blob/master/image_preprocessing.ipynb)"
      ],
      "metadata": {
        "id": "XajAujBrtLE2"
      }
    },
    {
      "cell_type": "markdown",
      "source": [
        "[2-Image Data Preprocessing Techniques You Should Know](https://thecleverprogrammer.com/2024/06/05/image-data-preprocessing-techniques-you-should-know/?fbclid=IwZXh0bgNhZW0CMTEAAR2Qfq3em9lQDc4msZcLMmimg9nPX-RvBKMZPVNg40Tn_q5e1UK9kHfOl18_aem_ZmFrZWR1bW15MTZieXRlcw)"
      ],
      "metadata": {
        "id": "tke95LbitTId"
      }
    }
  ]
}