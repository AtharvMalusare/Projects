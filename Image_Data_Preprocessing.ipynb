{
  "nbformat": 4,
  "nbformat_minor": 0,
  "metadata": {
    "colab": {
      "provenance": [],
      "authorship_tag": "ABX9TyMvi8R/xRqGdkliY+p4suy4",
      "include_colab_link": true
    },
    "kernelspec": {
      "name": "python3",
      "display_name": "Python 3"
    },
    "language_info": {
      "name": "python"
    }
  },
  "cells": [
    {
      "cell_type": "markdown",
      "metadata": {
        "id": "view-in-github",
        "colab_type": "text"
      },
      "source": [
        "<a href=\"https://colab.research.google.com/github/hussain0048/Projects-/blob/master/Image_Data_Preprocessing.ipynb\" target=\"_parent\"><img src=\"https://colab.research.google.com/assets/colab-badge.svg\" alt=\"Open In Colab\"/></a>"
      ]
    },
    {
      "cell_type": "code",
      "execution_count": null,
      "metadata": {
        "id": "GoJguzcGs-Nl"
      },
      "outputs": [],
      "source": []
    },
    {
      "cell_type": "markdown",
      "source": [
        "# **References**"
      ],
      "metadata": {
        "id": "EnXgqoAwtCLW"
      }
    },
    {
      "cell_type": "markdown",
      "source": [
        "[1- Image Preprocessing](https://github.com/zotroneneis/machine_learning_basics/blob/master/image_preprocessing.ipynb)"
      ],
      "metadata": {
        "id": "XajAujBrtLE2"
      }
    },
    {
      "cell_type": "markdown",
      "source": [
        "[2-Image Data Preprocessing Techniques You Should Know](https://thecleverprogrammer.com/2024/06/05/image-data-preprocessing-techniques-you-should-know/?fbclid=IwZXh0bgNhZW0CMTEAAR2Qfq3em9lQDc4msZcLMmimg9nPX-RvBKMZPVNg40Tn_q5e1UK9kHfOl18_aem_ZmFrZWR1bW15MTZieXRlcw)"
      ],
      "metadata": {
        "id": "tke95LbitTId"
      }
    }
  ]
}