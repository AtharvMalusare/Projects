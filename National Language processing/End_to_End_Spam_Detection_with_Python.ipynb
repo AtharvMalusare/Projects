{
  "nbformat": 4,
  "nbformat_minor": 0,
  "metadata": {
    "colab": {
      "name": "End-to-End Spam Detection with Python.ipynb",
      "provenance": [],
      "toc_visible": true
    },
    "kernelspec": {
      "name": "python3",
      "display_name": "Python 3"
    },
    "language_info": {
      "name": "python"
    }
  },
  "cells": [
    {
      "cell_type": "markdown",
      "metadata": {
        "id": "gL0AffZGOZxZ"
      },
      "source": [
        "# **Spam Detection**\n"
      ]
    },
    {
      "cell_type": "markdown",
      "metadata": {
        "id": "O5iX_J1BY8UO"
      },
      "source": [
        "Spam detection is one of the machine learning projects that every data science beginner must have tried once. Recently I shared an article on how to detect spam emails and messages with machine learning which you can find here. With its continuation in this article, I’ll walk you through how to build an end-to-end spam detection system with Python."
      ]
    },
    {
      "cell_type": "markdown",
      "metadata": {
        "id": "8w8p0-KTQWwo"
      },
      "source": [
        "**End-to-End Spam Detection with Python**\n"
      ]
    },
    {
      "cell_type": "markdown",
      "metadata": {
        "id": "Mlxs60-xQbeA"
      },
      "source": [
        "To create an end-to-end application for the spam detection task, you must first learn how to detect spam alerts with machine learning. You can learn all about Spam Detection with Machine Learning from here. Now returning to its end-to-end deployment, I’ll be using the streamlit library in Python to build an end-to-end application for the machine learning model to detect spam alerts in real-time. If you have never used the streamlit library before, you can easily install it on your system using the pip command:"
      ]
    },
    {
      "cell_type": "markdown",
      "metadata": {
        "id": "7v0rTZqiiMbJ"
      },
      "source": [
        "!pip install streamlit"
      ]
    },
    {
      "cell_type": "markdown",
      "metadata": {
        "id": "Q3TzKGZ3iQJJ"
      },
      "source": [
        "!pip install ipykernel>=5.1.2\n",
        "\n",
        "!pip install pydeck "
      ]
    },
    {
      "cell_type": "code",
      "metadata": {
        "id": "ixuoUgX4aQl8"
      },
      "source": [
        "!pip install ipykernel>=5.1.2\n",
        "!pip install pydeck"
      ],
      "execution_count": null,
      "outputs": []
    },
    {
      "cell_type": "markdown",
      "metadata": {
        "id": "kNEwf4BrQqhB"
      },
      "source": [
        "Now, if you have gone through this article, here is how you can build an end-to-end application for spam detection with Python:\n",
        "\n",
        "\n",
        "\n"
      ]
    },
    {
      "cell_type": "code",
      "metadata": {
        "id": "j15XwVa4ZumU"
      },
      "source": [
        "import pandas as pd\n",
        "import numpy as np\n",
        "from sklearn.feature_extraction.text import CountVectorizer\n",
        "from sklearn.model_selection import train_test_split\n",
        "from sklearn.naive_bayes import MultinomialNB\n",
        "data = pd.read_csv(\"https://raw.githubusercontent.com/amankharwal/SMS-Spam-Detection/master/spam.csv\", encoding= 'latin-1')\n",
        "data = data[[\"class\", \"message\"]]\n",
        "x = np.array(data[\"message\"])\n",
        "y = np.array(data[\"class\"])"
      ],
      "execution_count": 3,
      "outputs": []
    },
    {
      "cell_type": "code",
      "metadata": {
        "id": "7GV9d0L9Z4cm"
      },
      "source": [
        "cv = CountVectorizer()\n",
        "X = cv.fit_transform(x) # Fit the Data\n",
        "X_train, X_test, y_train, y_test = train_test_split(X, y, test_size=0.33, random_state=42)\n",
        "\n",
        "clf = MultinomialNB()\n",
        "clf.fit(X_train,y_train)\n",
        "import streamlit as st\n",
        "st.title(\"Spam Detection System\")\n",
        "def spamdetection():\n",
        "    user = st.text_area(\"Enter any Message or Email: \")\n",
        "    if len(user) < 1:\n",
        "        st.write(\"  \")\n",
        "    else:\n",
        "        sample = user\n",
        "        data = cv.transform([sample]).toarray()\n",
        "        a = clf.predict(data)\n",
        "        st.title(a)\n",
        "spamdetection()"
      ],
      "execution_count": null,
      "outputs": []
    },
    {
      "cell_type": "markdown",
      "metadata": {
        "id": "POytgnMia-Pd"
      },
      "source": [
        "You cannot run this code the same way you run your other Python programs. As we are using the streamlit library here, so you need to write a command mentioned below in your command prompt or terminal to run this code:"
      ]
    },
    {
      "cell_type": "markdown",
      "metadata": {
        "id": "Xc8V53dbiHBq"
      },
      "source": [
        "**streamlit run filename.py**"
      ]
    },
    {
      "cell_type": "markdown",
      "metadata": {
        "id": "E6vA8E7WbGfO"
      },
      "source": [
        "Once this command executes, it will open a link on your default web browser that will display your end-to-end application for spam detection, as shown below."
      ]
    },
    {
      "cell_type": "markdown",
      "metadata": {
        "id": "MIXjbz4hOO6i"
      },
      "source": [
        "[End-to-End Spam Detection with Python](https://thecleverprogrammer.com/2021/07/06/end-to-end-spam-detection-with-python/)"
      ]
    },
    {
      "cell_type": "markdown",
      "metadata": {
        "id": "blbQhbt2h-9V"
      },
      "source": [
        "[error](http://5.9.10.113/67883973/error-while-creating-streamlit-webapp-using-google-colab-for-image-classificatio)"
      ]
    }
  ]
}