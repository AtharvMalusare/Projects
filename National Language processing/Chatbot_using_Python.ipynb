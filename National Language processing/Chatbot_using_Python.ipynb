{
  "nbformat": 4,
  "nbformat_minor": 0,
  "metadata": {
    "colab": {
      "name": "Chatbot using Python.ipynb",
      "provenance": [],
      "toc_visible": true
    },
    "kernelspec": {
      "name": "python3",
      "display_name": "Python 3"
    },
    "language_info": {
      "name": "python"
    }
  },
  "cells": [
    {
      "cell_type": "markdown",
      "metadata": {
        "id": "gL0AffZGOZxZ"
      },
      "source": [
        "# **What is a Chatbot?**\n"
      ]
    },
    {
      "cell_type": "markdown",
      "metadata": {
        "id": "3yX2F4huOhMc"
      },
      "source": [
        "A Chatbot is an application that interacts with users like a human. Chatbots are typically used to resolve the most common queries that a business receives from its customers daily. In this article, I’ll walk you through how to create a Chatbot using Python."
      ]
    },
    {
      "cell_type": "markdown",
      "metadata": {
        "id": "kerEFyO-Ozbx"
      },
      "source": [
        "A Chatbot is an AI application that mimics human conversations. It is widely used by companies to solve the most common problems they receive from customers daily. For example, if you want to know the CRN of your bank account, a chatbot will assist you by asking for your bank details, then it will give you your CRN. But if you want to know something that is not that common, like asking how you can turn your account into a joint account, chances are the authorized employee will assist you.\n",
        "\n",
        "So while creating a chatbot for any company you should know what that company deals in and what problems their customers get daily. In the section below, I will take you through how to create a chatbot using Python."
      ]
    },
    {
      "cell_type": "markdown",
      "metadata": {
        "id": "8w8p0-KTQWwo"
      },
      "source": [
        "**Chatbot with Python**\n"
      ]
    },
    {
      "cell_type": "markdown",
      "metadata": {
        "id": "Mlxs60-xQbeA"
      },
      "source": [
        "I hope you now have understood what are chatbots and why so many companies use them to solve the most common problems of their customers. Now let’s see how to create a chatbot with Python. Here, I will be using the **NLTK library** in Python which is one of the best Python libraries for any task of natural language processing:"
      ]
    },
    {
      "cell_type": "code",
      "metadata": {
        "id": "bnyMCQ28Nv_R"
      },
      "source": [
        "from nltk.chat.util import Chat, reflections"
      ],
      "execution_count": 1,
      "outputs": []
    },
    {
      "cell_type": "markdown",
      "metadata": {
        "id": "kNEwf4BrQqhB"
      },
      "source": [
        "Now I will be creating a list of queries and their responses for the chatbot:\n",
        "\n"
      ]
    },
    {
      "cell_type": "code",
      "metadata": {
        "id": "lGdlmHAxQw9a"
      },
      "source": [
        "#Pairs is a list of patterns and responses.\n",
        "pairs = [\n",
        "    [\n",
        "        r\"(.*)my name is (.*)\",\n",
        "        [\"Hello %2, How are you today ?\",]\n",
        "    ],\n",
        "    [\n",
        "        r\"(.*)help(.*) \",\n",
        "        [\"I can help you \",]\n",
        "    ],\n",
        "     [\n",
        "        r\"(.*) your name ?\",\n",
        "        [\"My name is thecleverprogrammer, but you can just call me robot and I'm a chatbot .\",]\n",
        "    ],\n",
        "    [\n",
        "        r\"how are you (.*) ?\",\n",
        "        [\"I'm doing very well\", \"i am great !\"]\n",
        "    ],\n",
        "    [\n",
        "        r\"sorry (.*)\",\n",
        "        [\"Its alright\",\"Its OK, never mind that\",]\n",
        "    ],\n",
        "    [\n",
        "        r\"i'm (.*) (good|well|okay|ok)\",\n",
        "        [\"Nice to hear that\",\"Alright, great !\",]\n",
        "    ],\n",
        "    [\n",
        "        r\"(hi|hey|hello|hola|holla)(.*)\",\n",
        "        [\"Hello\", \"Hey there\",]\n",
        "    ],\n",
        "    [\n",
        "        r\"what (.*) want ?\",\n",
        "        [\"Make me an offer I can't refuse\",]\n",
        "        \n",
        "    ],\n",
        "    [\n",
        "        r\"(.*)created(.*)\",\n",
        "        [\"Aman Kharwal created me using Python's NLTK library \",\"top secret ;)\",]\n",
        "    ],\n",
        "    [\n",
        "        r\"(.*) (location|city) ?\",\n",
        "        ['New Delhi, India',]\n",
        "    ],\n",
        "    [\n",
        "        r\"(.*)raining in (.*)\",\n",
        "        [\"No rain in the past 4 days here in %2\",\"In %2 there is a 50% chance of rain\",]\n",
        "    ],\n",
        "    [\n",
        "        r\"how (.*) health (.*)\",\n",
        "        [\"Health is very important, but I am a computer, so I don't need to worry about my health \",]\n",
        "    ],\n",
        "    [\n",
        "        r\"(.*)(sports|game|sport)(.*)\",\n",
        "        [\"I'm a very big fan of Cricket\",]\n",
        "    ],\n",
        "    [\n",
        "        r\"who (.*) (Cricketer|Batsman)?\",\n",
        "        [\"Virat Kohli\"]\n",
        "    ],\n",
        "    [\n",
        "        r\"quit\",\n",
        "        [\"Bye for now. See you soon :) \",\"It was nice talking to you. See you soon :)\"]\n",
        "    ],\n",
        "    [\n",
        "        r\"(.*)\",\n",
        "        ['That is nice to hear']\n",
        "    ],\n",
        "]"
      ],
      "execution_count": 2,
      "outputs": []
    },
    {
      "cell_type": "markdown",
      "metadata": {
        "id": "iROcEox2Q4Ms"
      },
      "source": [
        "Now let’s run this program and interact with the chatbot by using some of the queries related to the queries mentioned in the above list:"
      ]
    },
    {
      "cell_type": "code",
      "metadata": {
        "id": "-uMuLVX4RG-h"
      },
      "source": [
        "#default message at the start of chat\n",
        "print(\"Hi, I'm thecleverprogrammer and I like to chat\\nPlease type lowercase English language to start a conversation. Type quit to leave \")\n",
        "#Create Chat Bot\n",
        "chat = Chat(pairs, reflections)\n",
        "#Start conversation\n",
        "chat.converse()"
      ],
      "execution_count": null,
      "outputs": []
    },
    {
      "cell_type": "markdown",
      "metadata": {
        "id": "MIXjbz4hOO6i"
      },
      "source": [
        "[Chatbot using Python](https://thecleverprogrammer.com/2021/03/25/chatbot-using-python/)"
      ]
    }
  ]
}