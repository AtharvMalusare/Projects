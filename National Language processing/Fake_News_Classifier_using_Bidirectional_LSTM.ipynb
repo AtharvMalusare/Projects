{
  "nbformat": 4,
  "nbformat_minor": 0,
  "metadata": {
    "kernelspec": {
      "display_name": "Python 3",
      "language": "python",
      "name": "python3"
    },
    "language_info": {
      "codemirror_mode": {
        "name": "ipython",
        "version": 3
      },
      "file_extension": ".py",
      "mimetype": "text/x-python",
      "name": "python",
      "nbconvert_exporter": "python",
      "pygments_lexer": "ipython3",
      "version": "3.8.3"
    },
    "colab": {
      "name": "Fake News Classifier using Bidirectional LSTM.ipynb",
      "provenance": [],
      "collapsed_sections": [],
      "toc_visible": true
    }
  },
  "cells": [
    {
      "cell_type": "markdown",
      "metadata": {
        "id": "view-in-github"
      },
      "source": [
        "<a href=\"https://colab.research.google.com/github/hussain0048/Water-borne-diseases/blob/main/Watern_Brone_Disease_3_23_21_(Malaria)_.ipynb\" target=\"_parent\"><img src=\"https://colab.research.google.com/assets/colab-badge.svg\" alt=\"Open In Colab\"/></a>"
      ]
    },
    {
      "cell_type": "markdown",
      "metadata": {
        "id": "toltgW7FdwfB"
      },
      "source": [
        "<h1>Table of contents</h1>\n",
        "\n",
        "<div class=\"alert alert-block alert-info\" style=\"margin-top: 20px\">\n",
        "    <ol>\n",
        "        <li><a href=\"https://colab.research.google.com/drive/16RuGVxgCercSOghBqECW-Dz_DOEFd_t6#scrollTo=BwlGIq-fgExg\">What is Fake news</a></li>\n",
        "        <li><a href=\"#downloading_data\">Aim</a></li>\n",
        "        <li><a href=\"#pre-processing\">Prerequisites</a></li>\n",
        "        <li><a href=\"#setting_up_tree\">Importing libraries</a></li>\n",
        "        <li><a href=\"#modeling\">Processing</a></li>\n",
        "        <li><a href=\"#prediction\">Building the model</a></li>\n",
        "        <li><a href=\"#evaluation\">Making Predictions for test data</a></li>\n",
        "    </ol>\n",
        "</div>\n",
        "<br>\n",
        "<hr>"
      ]
    },
    {
      "cell_type": "code",
      "metadata": {
        "colab": {
          "base_uri": "https://localhost:8080/"
        },
        "id": "OzXb9FZo8D0P",
        "outputId": "7e5fbb0c-05ba-422e-b176-24eae756f2f9"
      },
      "source": [
        "from google.colab import drive\n",
        "drive.mount('/content/drive')"
      ],
      "execution_count": 1,
      "outputs": [
        {
          "output_type": "stream",
          "name": "stdout",
          "text": [
            "Mounted at /content/drive\n"
          ]
        }
      ]
    },
    {
      "cell_type": "markdown",
      "metadata": {
        "id": "BwlGIq-fgExg"
      },
      "source": [
        "# **1- What is Fake news?**\n",
        "Fake news is false or misleading information presented as news. It often aims to damage the reputation of a person or entity or make money through advertising revenue. However, the term does not have a fixed definition and has been applied more broadly to include any type of false information, including unintentional and unconscious mechanisms, and also by high-profile individuals to apply to any news unfavorable to his/her personal perspectives."
      ]
    },
    {
      "cell_type": "markdown",
      "metadata": {
        "id": "xAVihbxRf02V"
      },
      "source": [
        "# **2- Aim**\n",
        "\n",
        "To develop a Fake News Classifier using Bidirectional Long Short Term Memory (LSTM) using Python programming Language and Keras on Cainvas Platform."
      ]
    },
    {
      "cell_type": "markdown",
      "metadata": {
        "id": "3Q6zipGegApH"
      },
      "source": [
        "# **3- Prerequisites**\n",
        "\n",
        "Before getting started, you should have a good understanding of:\n",
        "- Python programming language\n",
        "- Keras — Deep learning library\n",
        "\n"
      ]
    },
    {
      "cell_type": "markdown",
      "metadata": {
        "id": "Gpjx_5M_Ma7v"
      },
      "source": [
        "#**4-Importing libraries**"
      ]
    },
    {
      "cell_type": "code",
      "metadata": {
        "id": "ZHaJvshRhC2D"
      },
      "source": [
        "import pandas as pd\n",
        "from keras.layers import Embedding\n",
        "from keras.layers import Embedding\n",
        "import numpy as np\n",
        "import tensorflow as tf\n",
        "from tensorflow.keras.layers import Embedding\n",
        "from tensorflow.keras.preprocessing.sequence import pad_sequences\n",
        "from tensorflow.keras.models import Sequential\n",
        "from tensorflow.keras.preprocessing.text import one_hot\n",
        "from tensorflow.keras.layers import LSTM\n",
        "from tensorflow.keras.layers import Dense\n",
        "from tensorflow.keras.layers import Bidirectional\n",
        "from tensorflow.keras.layers import Dropout\n",
        "import nltk\n",
        "import re\n",
        "from nltk.corpus import stopwords\n",
        "from sklearn.model_selection import train_test_split"
      ],
      "execution_count": 2,
      "outputs": []
    },
    {
      "cell_type": "markdown",
      "metadata": {
        "id": "1Vt6LxAxbz6v"
      },
      "source": [
        "# **5-Dataset**\n",
        "\n",
        "we are going to use the train.csv dataset to train the model and then we do predictions for the test.csv dataset."
      ]
    },
    {
      "cell_type": "code",
      "metadata": {
        "id": "q2rAa0bCg2jz"
      },
      "source": [
        "df = pd.read_csv('/content/drive/MyDrive/Datasets/Fake News/train.csv')\n",
        "df.head()"
      ],
      "execution_count": null,
      "outputs": []
    },
    {
      "cell_type": "markdown",
      "metadata": {
        "id": "gHoPSZkDivGv"
      },
      "source": [
        "#**3-Processing**\n"
      ]
    },
    {
      "cell_type": "markdown",
      "metadata": {
        "id": "q3oI8qBEgWQF"
      },
      "source": [
        "## 3.2- **drop the nan values**"
      ]
    },
    {
      "cell_type": "code",
      "metadata": {
        "id": "MWbQRZlkWIzC"
      },
      "source": [
        "df=df.dropna()"
      ],
      "execution_count": 13,
      "outputs": []
    },
    {
      "cell_type": "markdown",
      "metadata": {
        "id": "P_jf97wAha9D"
      },
      "source": [
        "##**3.3- load X and y with Independent and dependent features:**"
      ]
    },
    {
      "cell_type": "code",
      "metadata": {
        "id": "X7bUpgkyW3FQ",
        "colab": {
          "base_uri": "https://localhost:8080/"
        },
        "outputId": "2decf1a2-72c5-42db-8ad9-a9c2532747bd"
      },
      "source": [
        "# Class count\n",
        "count_class_0, count_class_1 = df.label.value_counts()\n",
        "\n",
        "# Divide by class\n",
        "df_class_0 = df[df['label'] == 0]\n",
        "df_class_1 = df[df['label'] == 1]\n",
        "\n",
        "# Oversample 1-class and concat the DataFrames of both classes\n",
        "df_class_1_over = df_class_1.sample(count_class_0, replace=True)\n",
        "df_test_over = pd.concat([df_class_0, df_class_1_over], axis=0)\n",
        "\n",
        "print(df_test_over.label.value_counts())\n",
        "\n",
        "X = df_test_over.drop('label',axis='columns')\n",
        "y = df_test_over['label']"
      ],
      "execution_count": 14,
      "outputs": [
        {
          "output_type": "stream",
          "name": "stdout",
          "text": [
            "1    10361\n",
            "0    10361\n",
            "Name: label, dtype: int64\n"
          ]
        }
      ]
    },
    {
      "cell_type": "code",
      "metadata": {
        "id": "VMsDdYpomO1k"
      },
      "source": [
        "X"
      ],
      "execution_count": null,
      "outputs": []
    },
    {
      "cell_type": "code",
      "metadata": {
        "id": "wxJVhR8lmSdb"
      },
      "source": [
        "y"
      ],
      "execution_count": null,
      "outputs": []
    },
    {
      "cell_type": "markdown",
      "metadata": {
        "id": "c_emrU7L7CC9"
      },
      "source": [
        "##**One-hot Representation:**"
      ]
    },
    {
      "cell_type": "markdown",
      "metadata": {
        "id": "xkb-rScdmC7t"
      },
      "source": [
        "Vocabulary size:\n"
      ]
    },
    {
      "cell_type": "code",
      "metadata": {
        "id": "dKYnVakgcCXU"
      },
      "source": [
        "# Vocabulary size\n",
        "voc_size=30"
      ],
      "execution_count": 15,
      "outputs": []
    },
    {
      "cell_type": "markdown",
      "metadata": {
        "id": "-Nxg7TwlmExb"
      },
      "source": [
        "Getting a copy of Independent features:\n"
      ]
    },
    {
      "cell_type": "code",
      "metadata": {
        "id": "mQySSl81mMQr"
      },
      "source": [
        "X_copy=X.copy()\n",
        "X_copy.reset_index(inplace=True)"
      ],
      "execution_count": 16,
      "outputs": []
    },
    {
      "cell_type": "code",
      "metadata": {
        "id": "GFmZM9qomY3n",
        "colab": {
          "base_uri": "https://localhost:8080/",
          "height": 589
        },
        "outputId": "bc2ef3db-8d58-45b7-9cc4-7dba628955f3"
      },
      "source": [
        "X_copy"
      ],
      "execution_count": 17,
      "outputs": [
        {
          "output_type": "execute_result",
          "data": {
            "text/html": [
              "<div>\n",
              "<style scoped>\n",
              "    .dataframe tbody tr th:only-of-type {\n",
              "        vertical-align: middle;\n",
              "    }\n",
              "\n",
              "    .dataframe tbody tr th {\n",
              "        vertical-align: top;\n",
              "    }\n",
              "\n",
              "    .dataframe thead th {\n",
              "        text-align: right;\n",
              "    }\n",
              "</style>\n",
              "<table border=\"1\" class=\"dataframe\">\n",
              "  <thead>\n",
              "    <tr style=\"text-align: right;\">\n",
              "      <th></th>\n",
              "      <th>index</th>\n",
              "      <th>id</th>\n",
              "      <th>title</th>\n",
              "      <th>author</th>\n",
              "      <th>text</th>\n",
              "    </tr>\n",
              "  </thead>\n",
              "  <tbody>\n",
              "    <tr>\n",
              "      <th>0</th>\n",
              "      <td>1</td>\n",
              "      <td>1</td>\n",
              "      <td>FLYNN: Hillary Clinton, Big Woman on Campus - ...</td>\n",
              "      <td>Daniel J. Flynn</td>\n",
              "      <td>Ever get the feeling your life circles the rou...</td>\n",
              "    </tr>\n",
              "    <tr>\n",
              "      <th>1</th>\n",
              "      <td>5</td>\n",
              "      <td>5</td>\n",
              "      <td>Jackie Mason: Hollywood Would Love Trump if He...</td>\n",
              "      <td>Daniel Nussbaum</td>\n",
              "      <td>In these trying times, Jackie Mason is the Voi...</td>\n",
              "    </tr>\n",
              "    <tr>\n",
              "      <th>2</th>\n",
              "      <td>7</td>\n",
              "      <td>7</td>\n",
              "      <td>Benoît Hamon Wins French Socialist Party’s Pre...</td>\n",
              "      <td>Alissa J. Rubin</td>\n",
              "      <td>PARIS  —   France chose an idealistic, traditi...</td>\n",
              "    </tr>\n",
              "    <tr>\n",
              "      <th>3</th>\n",
              "      <td>9</td>\n",
              "      <td>9</td>\n",
              "      <td>A Back-Channel Plan for Ukraine and Russia, Co...</td>\n",
              "      <td>Megan Twohey and Scott Shane</td>\n",
              "      <td>A week before Michael T. Flynn resigned as nat...</td>\n",
              "    </tr>\n",
              "    <tr>\n",
              "      <th>4</th>\n",
              "      <td>10</td>\n",
              "      <td>10</td>\n",
              "      <td>Obama’s Organizing for Action Partners with So...</td>\n",
              "      <td>Aaron Klein</td>\n",
              "      <td>Organizing for Action, the activist group that...</td>\n",
              "    </tr>\n",
              "    <tr>\n",
              "      <th>...</th>\n",
              "      <td>...</td>\n",
              "      <td>...</td>\n",
              "      <td>...</td>\n",
              "      <td>...</td>\n",
              "      <td>...</td>\n",
              "    </tr>\n",
              "    <tr>\n",
              "      <th>20717</th>\n",
              "      <td>20223</td>\n",
              "      <td>20223</td>\n",
              "      <td>Comment on Understanding Misleading Food Label...</td>\n",
              "      <td>Understanding Misleading Food Labels: An Infog...</td>\n",
              "      <td>Share on Facebook Share on Twitter “Let food b...</td>\n",
              "    </tr>\n",
              "    <tr>\n",
              "      <th>20718</th>\n",
              "      <td>1877</td>\n",
              "      <td>1877</td>\n",
              "      <td>SIXTY KILLED IN NEW US-SAUDI WAR CRIME IN YEMEN</td>\n",
              "      <td>Iron Sheik</td>\n",
              "      <td>Home › WORLD NEWS › SIXTY KILLED IN NEW US-SAU...</td>\n",
              "    </tr>\n",
              "    <tr>\n",
              "      <th>20719</th>\n",
              "      <td>6730</td>\n",
              "      <td>6730</td>\n",
              "      <td>Pentagon Say $6.5 Trillion Dollars Is Missing,...</td>\n",
              "      <td>Starkman</td>\n",
              "      <td>The Pentagon cannot account for $6.5 trillion ...</td>\n",
              "    </tr>\n",
              "    <tr>\n",
              "      <th>20720</th>\n",
              "      <td>12002</td>\n",
              "      <td>12002</td>\n",
              "      <td>Blum’s Anti-Empire Report: A collection of tho...</td>\n",
              "      <td>shorty</td>\n",
              "      <td>The Anti-Empire Report #146 By William Blum – ...</td>\n",
              "    </tr>\n",
              "    <tr>\n",
              "      <th>20721</th>\n",
              "      <td>5681</td>\n",
              "      <td>5681</td>\n",
              "      <td>Joe Sobran’s ‘Hustler: the Clinton Legacy’</td>\n",
              "      <td>Rev. Peter M. J. Stravinskas, Ph.D., S.T.D.</td>\n",
              "      <td>By Rev. Peter M. J. Stravinskas, Ph.D., S.T.D....</td>\n",
              "    </tr>\n",
              "  </tbody>\n",
              "</table>\n",
              "<p>20722 rows × 5 columns</p>\n",
              "</div>"
            ],
            "text/plain": [
              "       index  ...                                               text\n",
              "0          1  ...  Ever get the feeling your life circles the rou...\n",
              "1          5  ...  In these trying times, Jackie Mason is the Voi...\n",
              "2          7  ...  PARIS  —   France chose an idealistic, traditi...\n",
              "3          9  ...  A week before Michael T. Flynn resigned as nat...\n",
              "4         10  ...  Organizing for Action, the activist group that...\n",
              "...      ...  ...                                                ...\n",
              "20717  20223  ...  Share on Facebook Share on Twitter “Let food b...\n",
              "20718   1877  ...  Home › WORLD NEWS › SIXTY KILLED IN NEW US-SAU...\n",
              "20719   6730  ...  The Pentagon cannot account for $6.5 trillion ...\n",
              "20720  12002  ...  The Anti-Empire Report #146 By William Blum – ...\n",
              "20721   5681  ...  By Rev. Peter M. J. Stravinskas, Ph.D., S.T.D....\n",
              "\n",
              "[20722 rows x 5 columns]"
            ]
          },
          "metadata": {},
          "execution_count": 17
        }
      ]
    },
    {
      "cell_type": "markdown",
      "metadata": {
        "id": "_C22b9Qrmfhu"
      },
      "source": [
        "Downloading stopwords:\n"
      ]
    },
    {
      "cell_type": "code",
      "metadata": {
        "colab": {
          "base_uri": "https://localhost:8080/"
        },
        "id": "f2b_k2QNmhNh",
        "outputId": "3851a97c-830e-49c2-d240-eca9f7a57ccd"
      },
      "source": [
        "nltk.download('stopwords')"
      ],
      "execution_count": 18,
      "outputs": [
        {
          "output_type": "stream",
          "name": "stdout",
          "text": [
            "[nltk_data] Downloading package stopwords to /root/nltk_data...\n",
            "[nltk_data]   Package stopwords is already up-to-date!\n"
          ]
        },
        {
          "output_type": "execute_result",
          "data": {
            "text/plain": [
              "True"
            ]
          },
          "metadata": {},
          "execution_count": 18
        }
      ]
    },
    {
      "cell_type": "markdown",
      "metadata": {
        "id": "oKSXoZZ4mqLm"
      },
      "source": [
        "we are using nltk’s stopwords method to remove stopwords from our data, NumPy for array operations, and pandas to process data."
      ]
    },
    {
      "cell_type": "markdown",
      "metadata": {
        "id": "JmNYCsiCm0U5"
      },
      "source": [
        "Dataset Preprocessing:\n"
      ]
    },
    {
      "cell_type": "code",
      "metadata": {
        "id": "cUkMvW_lm2Fp"
      },
      "source": [
        "from nltk.stem.porter import PorterStemmer\n",
        "ps = PorterStemmer()\n",
        "corpus = []\n",
        "for i in range(0, len(X_copy)):\n",
        " review = re.sub('[^a-zA-Z]', ' ', X_copy['title'][i])\n",
        " review = review.lower()\n",
        " review = review.split()\n",
        " \n",
        " review = [ps.stem(word) for word in review if not word in stopwords.words('english')]\n",
        " review = ' '.join(review)\n",
        " corpus.append(review)\n",
        "corpus"
      ],
      "execution_count": null,
      "outputs": []
    },
    {
      "cell_type": "code",
      "metadata": {
        "id": "rIVDh2wKnqL-"
      },
      "source": [
        "onehot_repr=[one_hot(words,voc_size)for words in corpus] \n",
        "onehot_repr"
      ],
      "execution_count": null,
      "outputs": []
    },
    {
      "cell_type": "markdown",
      "metadata": {
        "id": "APr6ZPk7nzY_"
      },
      "source": [
        "Embedding Representation:"
      ]
    },
    {
      "cell_type": "code",
      "metadata": {
        "colab": {
          "base_uri": "https://localhost:8080/"
        },
        "id": "Tq2Yc6s4nxmh",
        "outputId": "2a344ca0-b055-42b3-c70c-8d3de7a50c19"
      },
      "source": [
        "sent_length=20\n",
        "embedded_docs=pad_sequences(onehot_repr,padding='pre',maxlen=sent_length)\n",
        "embedded_docs[0]"
      ],
      "execution_count": 21,
      "outputs": [
        {
          "output_type": "execute_result",
          "data": {
            "text/plain": [
              "array([ 0,  0,  0,  0,  0,  0,  0,  0,  0,  0,  0,  0,  0,  1,  2,  2, 29,\n",
              "        7, 11, 22], dtype=int32)"
            ]
          },
          "metadata": {},
          "execution_count": 21
        }
      ]
    },
    {
      "cell_type": "markdown",
      "metadata": {
        "id": "ABiBgAIWivHV"
      },
      "source": [
        "#**4- Building the model:**"
      ]
    },
    {
      "cell_type": "code",
      "metadata": {
        "id": "9-6H4JqkivHV"
      },
      "source": [
        "mbedding_vector_features=40\n",
        "embedding_vector_features=40\n",
        "model1=Sequential()\n",
        "model1.add(Embedding(voc_size,embedding_vector_features,input_length=sent_length))\n",
        "model1.add(Dropout(0.7))\n",
        "model1.add(Bidirectional(LSTM(100)))\n",
        "model1.add(Dropout(0.7))\n",
        "model1.add(Dense(1,activation='sigmoid'))\n",
        "model1.compile(loss='binary_crossentropy',optimizer='adam',metrics=['accuracy'])\n",
        "print(model1.summary())\n"
      ],
      "execution_count": null,
      "outputs": []
    },
    {
      "cell_type": "code",
      "metadata": {
        "id": "Rzz9yX-OivHW"
      },
      "source": [
        "X_final=np.array(embedded_docs)\n",
        "y_final=np.array(y)\n",
        "\n",
        "X_train, X_test, y_train, y_test = train_test_split(X_final, y_final, test_size=0.33, random_state=42, stratify=y)"
      ],
      "execution_count": 23,
      "outputs": []
    },
    {
      "cell_type": "markdown",
      "metadata": {
        "id": "gxjLPunOppmD"
      },
      "source": [
        "here we use sklearn.model_selection package to split the data into train data and test data"
      ]
    },
    {
      "cell_type": "markdown",
      "metadata": {
        "id": "ymBxHME8qNUX"
      },
      "source": [
        "**Training Model:**\n"
      ]
    },
    {
      "cell_type": "markdown",
      "metadata": {
        "id": "PwI6OiataupF"
      },
      "source": [
        "## **4.1 Training Model:**"
      ]
    },
    {
      "cell_type": "code",
      "metadata": {
        "colab": {
          "base_uri": "https://localhost:8080/"
        },
        "id": "cfus6iE0ptDd",
        "outputId": "634d7171-b7b0-4da9-a9e1-f138b7b6c022"
      },
      "source": [
        "history = model1.fit(X_train,y_train,validation_data=(X_test,y_test),epochs=10,batch_size=64)"
      ],
      "execution_count": 26,
      "outputs": [
        {
          "output_type": "stream",
          "name": "stdout",
          "text": [
            "Epoch 1/10\n",
            "217/217 [==============================] - 8s 37ms/step - loss: 0.2807 - accuracy: 0.8973 - val_loss: 0.2726 - val_accuracy: 0.8997\n",
            "Epoch 2/10\n",
            "217/217 [==============================] - 8s 37ms/step - loss: 0.2826 - accuracy: 0.8962 - val_loss: 0.2673 - val_accuracy: 0.9014\n",
            "Epoch 3/10\n",
            "217/217 [==============================] - 8s 37ms/step - loss: 0.2776 - accuracy: 0.8983 - val_loss: 0.2690 - val_accuracy: 0.9012\n",
            "Epoch 4/10\n",
            "217/217 [==============================] - 8s 37ms/step - loss: 0.2749 - accuracy: 0.8998 - val_loss: 0.2638 - val_accuracy: 0.9029\n",
            "Epoch 5/10\n",
            "217/217 [==============================] - 8s 37ms/step - loss: 0.2733 - accuracy: 0.8982 - val_loss: 0.2656 - val_accuracy: 0.9013\n",
            "Epoch 6/10\n",
            "217/217 [==============================] - 8s 37ms/step - loss: 0.2773 - accuracy: 0.9000 - val_loss: 0.2633 - val_accuracy: 0.9042\n",
            "Epoch 7/10\n",
            "217/217 [==============================] - 8s 37ms/step - loss: 0.2681 - accuracy: 0.9021 - val_loss: 0.2638 - val_accuracy: 0.9039\n",
            "Epoch 8/10\n",
            "217/217 [==============================] - 8s 37ms/step - loss: 0.2709 - accuracy: 0.8999 - val_loss: 0.2621 - val_accuracy: 0.9032\n",
            "Epoch 9/10\n",
            "217/217 [==============================] - 8s 37ms/step - loss: 0.2696 - accuracy: 0.9007 - val_loss: 0.2645 - val_accuracy: 0.9032\n",
            "Epoch 10/10\n",
            "217/217 [==============================] - 8s 37ms/step - loss: 0.2701 - accuracy: 0.9015 - val_loss: 0.2618 - val_accuracy: 0.9041\n"
          ]
        }
      ]
    },
    {
      "cell_type": "markdown",
      "metadata": {
        "id": "PEgb1l9IivHW"
      },
      "source": [
        "## 4.2-**Predicting and Heat Map:**"
      ]
    },
    {
      "cell_type": "code",
      "metadata": {
        "id": "93MoIUgOq926"
      },
      "source": [
        "X_test = pd.read_csv('/content/drive/MyDrive/Datasets/Fake News/test.csv')\n"
      ],
      "execution_count": null,
      "outputs": []
    },
    {
      "cell_type": "code",
      "metadata": {
        "id": "VYupk1X9ivHW",
        "colab": {
          "base_uri": "https://localhost:8080/",
          "height": 459
        },
        "outputId": "46c4cde1-1f9b-4709-cd8c-8f374ff8a4f2"
      },
      "source": [
        "#y_pred1=model1.predict_classes(X_test)\n",
        "\n",
        "predict_x=model1.predict(X_test) \n",
        "y_pred1=np.argmax(predict_x,axis=1)\n",
        "\n",
        "\n",
        "from sklearn.metrics import confusion_matrix\n",
        "confusion_matrix(y_test,y_pred1)\n",
        "\n",
        "import seaborn as sns\n",
        "from matplotlib import pyplot as plt\n",
        "cm = tf.math.confusion_matrix(labels = y_test, predictions = y_pred1)\n",
        "plt.figure(figsize = (10,7))\n",
        "sns.heatmap(cm, annot = True, fmt = 'd')\n",
        "plt.xlabel(\"predicted\")\n",
        "plt.ylabel(\"actual\")"
      ],
      "execution_count": 29,
      "outputs": [
        {
          "output_type": "execute_result",
          "data": {
            "text/plain": [
              "Text(69.0, 0.5, 'actual')"
            ]
          },
          "metadata": {},
          "execution_count": 29
        },
        {
          "output_type": "display_data",
          "data": {
            "image/png": "[encoded data removed]",
            "text/plain": [
              "<Figure size 720x504 with 2 Axes>"
            ]
          },
          "metadata": {
            "needs_background": "light"
          }
        }
      ]
    },
    {
      "cell_type": "markdown",
      "metadata": {
        "id": "TpVfPBk8ivHX"
      },
      "source": [
        "## **4.3-Accuracy of the Model:**"
      ]
    },
    {
      "cell_type": "code",
      "metadata": {
        "id": "Tg-r4N3RivHX",
        "colab": {
          "base_uri": "https://localhost:8080/"
        },
        "outputId": "2111fbe2-d968-4c98-a9b9-d829eff5ab1b"
      },
      "source": [
        "from sklearn.metrics import accuracy_score\n",
        "accuracy_score(y_test,y_pred1)"
      ],
      "execution_count": 30,
      "outputs": [
        {
          "output_type": "execute_result",
          "data": {
            "text/plain": [
              "0.5000731101038164"
            ]
          },
          "metadata": {},
          "execution_count": 30
        }
      ]
    },
    {
      "cell_type": "code",
      "metadata": {
        "id": "YrSk065jYc4p",
        "outputId": "16bdf5a5-2fda-43b2-f295-604b9a4e1c20",
        "colab": {
          "base_uri": "https://localhost:8080/"
        }
      },
      "source": [
        "from sklearn.metrics import classification_report\n",
        "print(classification_report(y_test,y_pred1))"
      ],
      "execution_count": 31,
      "outputs": [
        {
          "output_type": "stream",
          "name": "stdout",
          "text": [
            "              precision    recall  f1-score   support\n",
            "\n",
            "           0       0.50      1.00      0.67      3420\n",
            "           1       0.00      0.00      0.00      3419\n",
            "\n",
            "    accuracy                           0.50      6839\n",
            "   macro avg       0.25      0.50      0.33      6839\n",
            "weighted avg       0.25      0.50      0.33      6839\n",
            "\n"
          ]
        },
        {
          "output_type": "stream",
          "name": "stderr",
          "text": [
            "/usr/local/lib/python3.7/dist-packages/sklearn/metrics/_classification.py:1272: UndefinedMetricWarning: Precision and F-score are ill-defined and being set to 0.0 in labels with no predicted samples. Use `zero_division` parameter to control this behavior.\n",
            "  _warn_prf(average, modifier, msg_start, len(result))\n"
          ]
        }
      ]
    },
    {
      "cell_type": "markdown",
      "metadata": {
        "id": "BmhGaJq6ivHY"
      },
      "source": [
        "# 5-**Making Predictions for test data:**"
      ]
    },
    {
      "cell_type": "markdown",
      "metadata": {
        "id": "zLGxK16DivHX"
      },
      "source": [
        "## **5.1- Loading the test data:**"
      ]
    },
    {
      "cell_type": "code",
      "metadata": {
        "id": "Y0iaNGkQYwRi"
      },
      "source": [
        "df_test = pd.read_csv('/content/drive/MyDrive/Datasets/Fake News/test.csv')\n",
        "\n",
        "df_test = df_test.reset_index(drop=True)\n",
        "df_test1=np.array(embedded_docs)\n",
        "\n",
        "df_test.head()"
      ],
      "execution_count": null,
      "outputs": []
    },
    {
      "cell_type": "code",
      "metadata": {
        "id": "RYz_jvGQivHY"
      },
      "source": [
        "#y_pred2=model1.predict_classes(df_test1)\n",
        "predict_x=model1.predict(df_test1) \n",
        "y_pred2=np.argmax(predict_x,axis=1)"
      ],
      "execution_count": 34,
      "outputs": []
    },
    {
      "cell_type": "markdown",
      "metadata": {
        "id": "vf3lwlPXivHa"
      },
      "source": [
        "## **5.2-Joining the test data and predicted labels:**"
      ]
    },
    {
      "cell_type": "code",
      "metadata": {
        "id": "dDQtBRopivHb",
        "colab": {
          "base_uri": "https://localhost:8080/",
          "height": 359
        },
        "outputId": "c9624e8f-e3ce-4a35-8d8a-c11b8bbeb329"
      },
      "source": [
        "y_pred2 = pd.DataFrame(y_pred2, columns=['lables'])\n",
        "df_final_0 = pd.concat([df_test['id'], y_pred2], axis = 1)\n",
        "df_final_0.to_csv('Predictions')\n",
        "df_final_0.head(10)"
      ],
      "execution_count": 35,
      "outputs": [
        {
          "output_type": "execute_result",
          "data": {
            "text/html": [
              "<div>\n",
              "<style scoped>\n",
              "    .dataframe tbody tr th:only-of-type {\n",
              "        vertical-align: middle;\n",
              "    }\n",
              "\n",
              "    .dataframe tbody tr th {\n",
              "        vertical-align: top;\n",
              "    }\n",
              "\n",
              "    .dataframe thead th {\n",
              "        text-align: right;\n",
              "    }\n",
              "</style>\n",
              "<table border=\"1\" class=\"dataframe\">\n",
              "  <thead>\n",
              "    <tr style=\"text-align: right;\">\n",
              "      <th></th>\n",
              "      <th>id</th>\n",
              "      <th>lables</th>\n",
              "    </tr>\n",
              "  </thead>\n",
              "  <tbody>\n",
              "    <tr>\n",
              "      <th>0</th>\n",
              "      <td>20800.0</td>\n",
              "      <td>0</td>\n",
              "    </tr>\n",
              "    <tr>\n",
              "      <th>1</th>\n",
              "      <td>20801.0</td>\n",
              "      <td>0</td>\n",
              "    </tr>\n",
              "    <tr>\n",
              "      <th>2</th>\n",
              "      <td>20802.0</td>\n",
              "      <td>0</td>\n",
              "    </tr>\n",
              "    <tr>\n",
              "      <th>3</th>\n",
              "      <td>20803.0</td>\n",
              "      <td>0</td>\n",
              "    </tr>\n",
              "    <tr>\n",
              "      <th>4</th>\n",
              "      <td>20804.0</td>\n",
              "      <td>0</td>\n",
              "    </tr>\n",
              "    <tr>\n",
              "      <th>5</th>\n",
              "      <td>20805.0</td>\n",
              "      <td>0</td>\n",
              "    </tr>\n",
              "    <tr>\n",
              "      <th>6</th>\n",
              "      <td>20806.0</td>\n",
              "      <td>0</td>\n",
              "    </tr>\n",
              "    <tr>\n",
              "      <th>7</th>\n",
              "      <td>20807.0</td>\n",
              "      <td>0</td>\n",
              "    </tr>\n",
              "    <tr>\n",
              "      <th>8</th>\n",
              "      <td>20808.0</td>\n",
              "      <td>0</td>\n",
              "    </tr>\n",
              "    <tr>\n",
              "      <th>9</th>\n",
              "      <td>20809.0</td>\n",
              "      <td>0</td>\n",
              "    </tr>\n",
              "  </tbody>\n",
              "</table>\n",
              "</div>"
            ],
            "text/plain": [
              "        id  lables\n",
              "0  20800.0       0\n",
              "1  20801.0       0\n",
              "2  20802.0       0\n",
              "3  20803.0       0\n",
              "4  20804.0       0\n",
              "5  20805.0       0\n",
              "6  20806.0       0\n",
              "7  20807.0       0\n",
              "8  20808.0       0\n",
              "9  20809.0       0"
            ]
          },
          "metadata": {},
          "execution_count": 35
        }
      ]
    },
    {
      "cell_type": "markdown",
      "metadata": {
        "id": "pK4c8nU4uXqE"
      },
      "source": [
        "#**References**\n",
        "\n",
        "[Fake News Classifier using Bidirectional LSTM](https://medium.com/ai-techsystems/fake-news-classifier-using-bidirectional-lstm-cebef77b0adc)"
      ]
    }
  ]
}