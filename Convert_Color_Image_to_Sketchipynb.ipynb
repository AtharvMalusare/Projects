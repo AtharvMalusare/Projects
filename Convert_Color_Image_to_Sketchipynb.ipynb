{
  "nbformat": 4,
  "nbformat_minor": 0,
  "metadata": {
    "colab": {
      "provenance": [],
      "authorship_tag": "ABX9TyNa+iUjxPprCxXTKyPeJofi",
      "include_colab_link": true
    },
    "kernelspec": {
      "name": "python3",
      "display_name": "Python 3"
    },
    "language_info": {
      "name": "python"
    }
  },
  "cells": [
    {
      "cell_type": "markdown",
      "metadata": {
        "id": "view-in-github",
        "colab_type": "text"
      },
      "source": [
        "<a href=\"https://colab.research.google.com/github/hussain0048/Projects-/blob/master/Convert_Color_Image_to_Sketchipynb.ipynb\" target=\"_parent\"><img src=\"https://colab.research.google.com/assets/colab-badge.svg\" alt=\"Open In Colab\"/></a>"
      ]
    },
    {
      "cell_type": "code",
      "execution_count": null,
      "metadata": {
        "id": "HSddS4F3t78G"
      },
      "outputs": [],
      "source": []
    },
    {
      "cell_type": "markdown",
      "source": [
        "# **📚Table of Content**"
      ],
      "metadata": {
        "id": "8ilTxGsduEVP"
      }
    },
    {
      "cell_type": "markdown",
      "source": [
        "# 📚 **References**"
      ],
      "metadata": {
        "id": "HvP3_Mq-uRxI"
      }
    },
    {
      "cell_type": "markdown",
      "source": [
        "[1-Convert Color Image to Sketch](https://github.com/nitinkaushik01/Deep_and_Machine_Learning_Projects/blob/master/Convert_Color_Image_to_Pencil_Sketch/Convert_Color_Image_to_Sketch.ipynb)"
      ],
      "metadata": {
        "id": "FmVJHD9LuWvg"
      }
    }
  ]
}