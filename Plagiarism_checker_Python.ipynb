{
  "nbformat": 4,
  "nbformat_minor": 0,
  "metadata": {
    "colab": {
      "provenance": [],
      "toc_visible": true,
      "authorship_tag": "ABX9TyMrt/TE/0tNguSz3RGr9Bna",
      "include_colab_link": true
    },
    "kernelspec": {
      "name": "python3",
      "display_name": "Python 3"
    },
    "language_info": {
      "name": "python"
    }
  },
  "cells": [
    {
      "cell_type": "markdown",
      "metadata": {
        "id": "view-in-github",
        "colab_type": "text"
      },
      "source": [
        "<a href=\"https://colab.research.google.com/github/dr-mushtaq/Projects/blob/master/Plagiarism_checker_Python.ipynb\" target=\"_parent\"><img src=\"https://colab.research.google.com/assets/colab-badge.svg\" alt=\"Open In Colab\"/></a>"
      ]
    },
    {
      "cell_type": "code",
      "execution_count": null,
      "metadata": {
        "id": "mLkwxtDlEBop"
      },
      "outputs": [],
      "source": []
    },
    {
      "cell_type": "markdown",
      "source": [
        "# **References**"
      ],
      "metadata": {
        "id": "9cBibLFwEaBT"
      }
    },
    {
      "cell_type": "markdown",
      "source": [
        "[1-Plagiarism-checker-Python](https://github.com/Kalebu/Plagiarism-checker-Python/tree/master)"
      ],
      "metadata": {
        "id": "jxFD1Q-nEeNj"
      }
    }
  ]
}